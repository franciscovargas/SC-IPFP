{
 "cells": [
  {
   "cell_type": "code",
   "execution_count": 1,
   "metadata": {},
   "outputs": [],
   "source": [
    "import torch\n",
    "import math\n",
    "from SC_IPFP.torch.utils import NN, og_kde_pdf_per_point, silvermans_rule"
   ]
  },
  {
   "cell_type": "code",
   "execution_count": 2,
   "metadata": {},
   "outputs": [
    {
     "data": {
      "text/plain": [
       "<module 'torch.random' from '/home/fav25/.local/lib/python3.6/site-packages/torch/random.py'>"
      ]
     },
     "execution_count": 2,
     "metadata": {},
     "output_type": "execute_result"
    }
   ],
   "source": [
    "torch.random"
   ]
  },
  {
   "cell_type": "code",
   "execution_count": 3,
   "metadata": {},
   "outputs": [],
   "source": [
    "def solve_sde_RK(alfa=None, beta=None, X0=None, dt=1.0, N=100, t0=0.0,\n",
    "                theta=None, noise=False, forwards=True):\n",
    "    \"\"\"\n",
    "            Euler Mayurama method\n",
    "    Syntax:\n",
    "    ----------\n",
    "    solve_sde(alfa=None, beta=None, X0=None, dt=None, N=100, t0=0, DW=None)\n",
    "    Parameters:\n",
    "    ----------\n",
    "        alfa  : a  function with two arguments, the X state and the time\n",
    "                defines the differential equation.\n",
    "        beta  : a  function with two arguments, the X state and the time\n",
    "                defines the stochastic part of the SDE.\n",
    "        X0    : Initial conditions of the SDE. Mandatory for SDEs\n",
    "                with variables > 1 (default: gaussian np.random)\n",
    "        dt    : The timestep of the solution\n",
    "                (default: 1)\n",
    "        N     : The number of timesteps (defines the length of the timeseries)\n",
    "                (default: 100)\n",
    "        t0    : The initial time of the solution\n",
    "                (default: 0)\n",
    "    \n",
    "    \"\"\"\n",
    "    \n",
    "#     print(X0)\n",
    "       \n",
    "    if alfa is None or beta is None:\n",
    "        raise ValueError(\"Error: SDE not defined.\")\n",
    "\n",
    "    n, d, *_ = X0.shape\n",
    "    \n",
    "    T = torch.tensor(dt * N)\n",
    "    \n",
    "    DWs  = torch.empty((n, N-1, d)).normal_(mean=0, std=1)  * math.sqrt(dt)\n",
    "    \n",
    "    \n",
    "    Y, ti = torch.zeros((n, N, d + 1)).double(), torch.arange(N).double()*dt + t0\n",
    "    t0rep =  (\n",
    "        t0 * torch.ones((X0.shape[0], 1)).double() if forwards\n",
    "        else (T-t0) * torch.ones((X0.shape[0], 1)).double()\n",
    "    )\n",
    "    Y[:, 0, :] =  torch.cat((X0, t0rep), axis=1 )\n",
    "\n",
    "    N = int(N)\n",
    "    \n",
    "    T = dt * N\n",
    "        \n",
    "    for n in range(N-1):\n",
    "        t = ti[n]\n",
    "        a, DW_n = alfa(Y[:,n, :]),  DWs[:,n,:]\n",
    "        newY = (  \n",
    "            Y[:,n, :-1] + a * dt + beta * DW_n\n",
    "        )\n",
    "        \n",
    "        trep = (\n",
    "            t.repeat(newY.shape[0]).reshape(-1,1) if forwards\n",
    "            else T - t.repeat(newY.shape[0]).reshape(-1,1)\n",
    "        )\n",
    "\n",
    "        Y[:, n+1, :] = torch.cat((newY, trep), dim=1)\n",
    "    \n",
    "    return ti, Y"
   ]
  },
  {
   "cell_type": "code",
   "execution_count": 4,
   "metadata": {},
   "outputs": [],
   "source": [
    "alpha = lambda x : torch.zeros(x.shape[1] -1).double()\n",
    "beta = torch.tensor(1.0).double()"
   ]
  },
  {
   "cell_type": "code",
   "execution_count": 5,
   "metadata": {},
   "outputs": [],
   "source": [
    "ti, Y = solve_sde_RK(alfa=alpha, beta=beta, X0 = torch.empty(50,1).normal_(0,1).double())"
   ]
  },
  {
   "cell_type": "code",
   "execution_count": 6,
   "metadata": {},
   "outputs": [
    {
     "data": {
      "text/plain": [
       "<Figure size 640x480 with 1 Axes>"
      ]
     },
     "metadata": {},
     "output_type": "display_data"
    }
   ],
   "source": [
    "import matplotlib.pyplot as plt\n",
    "import numpy as np\n",
    "\n",
    "plt.plot( Y[:,:, -1].numpy().T,  np.squeeze(Y[:,:, :-1].numpy()).T, alpha=0.5, color=\"blue\");\n",
    "plt.show()"
   ]
  },
  {
   "cell_type": "code",
   "execution_count": 29,
   "metadata": {},
   "outputs": [
    {
     "name": "stderr",
     "output_type": "stream",
     "text": [
      "/auto/homes/fav25/SC-IPFP/SC_IPFP/torch/utils.py:73: UserWarning: nn.init.xavier_uniform is now deprecated in favor of nn.init.xavier_uniform_.\n",
      "  torch.nn.init.xavier_uniform(self.layers[i].weight)\n"
     ]
    }
   ],
   "source": [
    "nn = NN(input_dim=2, weight_dim_list=[20,20,20, 1]).double()\n",
    "\n",
    "alpha = lambda x : nn.forward(x).double()\n",
    "\n",
    "\n",
    "ti, Y = solve_sde_RK(alfa=alpha, beta=beta, X0 = torch.empty(50,1).normal_(0,1).double())"
   ]
  },
  {
   "cell_type": "code",
   "execution_count": 30,
   "metadata": {},
   "outputs": [
    {
     "data": {
      "image/png": "[encoded data removed]",
      "text/plain": [
       "<Figure size 432x288 with 1 Axes>"
      ]
     },
     "metadata": {},
     "output_type": "display_data"
    }
   ],
   "source": [
    "plt.plot( Y[:,:, -1].cpu().detach().numpy().T,  np.squeeze(Y[:,:, :-1].cpu().detach().numpy()).T, alpha=0.5, color=\"blue\");\n",
    "plt.show()"
   ]
  }
 ],
 "metadata": {
  "kernelspec": {
   "display_name": "Python 3",
   "language": "python",
   "name": "python3"
  },
  "language_info": {
   "codemirror_mode": {
    "name": "ipython",
    "version": 3
   },
   "file_extension": ".py",
   "mimetype": "text/x-python",
   "name": "python",
   "nbconvert_exporter": "python",
   "pygments_lexer": "ipython3",
   "version": "3.6.9"
  }
 },
 "nbformat": 4,
 "nbformat_minor": 2
}
