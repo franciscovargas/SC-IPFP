{
 "cells": [
  {
   "cell_type": "code",
   "execution_count": 1,
   "metadata": {},
   "outputs": [
    {
     "name": "stderr",
     "output_type": "stream",
     "text": [
      "/auto/homes/fav25/jax/jax/lib/xla_bridge.py:116: UserWarning: No GPU/TPU found, falling back to CPU.\n",
      "  warnings.warn('No GPU/TPU found, falling back to CPU.')\n"
     ]
    }
   ],
   "source": [
    "import sys\n",
    "sys.path.append(\"/auto/homes/fav25/jax/\")\n",
    "\n",
    "import jax.numpy as np\n",
    "# import autograd.numpy\n",
    "# import numpy as np\n",
    "\n",
    "from SC_IPFP.sde_solvers import solve_sde_RK\n",
    "from SC_IPFP.utils import log_kde_pdf_per_point, silvermans_rule\n",
    "\n",
    "from jax.config import config\n",
    "from jax import jit, grad, random\n",
    "from jax.experimental import optimizers\n",
    "from jax.experimental import stax\n",
    "from jax.experimental.stax import Dense, Relu, LogSoftmax\n",
    "import numpy.random as npr\n",
    "import jax\n",
    "from tqdm.notebook import tqdm\n",
    "\n",
    "\n",
    "\n",
    "import itertools\n",
    "from functools import partial\n",
    "# np = jax.numpy\n",
    "import matplotlib.pyplot as plt\n",
    "# np = autograd.numpy"
   ]
  },
  {
   "cell_type": "code",
   "execution_count": 2,
   "metadata": {},
   "outputs": [],
   "source": [
    "class cIPFP(object):\n",
    "    \n",
    "    def __init__(self, X_0, X_1, weights=[100], batch_size=None,  rng = jax.random.PRNGKey(0), \n",
    "                nrng = npr.RandomState(0), number_time_steps=16, sde_solver=solve_sde_RK, sigma_sq=1, \n",
    "                step_size = 0.001, num_epochs = 10, momentum_mass = 0.9, create_network=None):\n",
    "        \n",
    "        self.sde_solver = sde_solver\n",
    "        \n",
    "        self.number_time_steps = number_time_steps\n",
    "        self.dt = 1.0 / number_time_steps\n",
    "        \n",
    "        \n",
    "        self.batch_size_f = X_0.shape[0] if batch_size is None else batch_size\n",
    "        self.batch_size_b = X_1.shape[0] if batch_size is None else batch_size\n",
    "        \n",
    "        \n",
    "        self.X_0 = X_0\n",
    "        self.X_1 = X_1\n",
    "        \n",
    "        self.H_0 = silvermans_rule(X_0)\n",
    "        self.H_1 = silvermans_rule(X_1)\n",
    "        \n",
    "        _, self.dim = self.X_0.shape\n",
    "        \n",
    "        create_net = self.create_network if  create_network is None else create_network\n",
    "        \n",
    "        self.b_forward_init, self.b_forward = create_net(\n",
    "            self.dim, weights\n",
    "        )\n",
    "        self.b_backward_init, self.b_backward = create_net(\n",
    "            self.dim, weights\n",
    "        )\n",
    "        \n",
    "        self.sigma = (lambda X,t: sigma_sq)\n",
    "        \n",
    "        self.rng = rng\n",
    "        self.nrng = nrng\n",
    "        \n",
    "        self.opt_init_f, self.opt_update_f, self.get_params_f = (\n",
    "            optimizers.adam(step_size) #, mass=momentum_mass)\n",
    "        )\n",
    "        \n",
    "        self.opt_init_b, self.opt_update_b, self.get_params_b = (\n",
    "            optimizers.adam(step_size) #, mass=momentum_mass)\n",
    "        )\n",
    "        \n",
    "        num_complete_batches_f, leftover_f = divmod(self.X_0.shape[0], self.batch_size_f)\n",
    "        self.num_batches_f = num_complete_batches_f + bool(leftover_f)\n",
    "                                               \n",
    "        num_complete_batches_b, leftover_b = divmod(self.X_1.shape[0], self.batch_size_b)\n",
    "        self.num_batches_b = num_complete_batches_b + bool(leftover_b)\n",
    "        \n",
    "        self.theta_f = None\n",
    "        self.theta_b = None\n",
    "        \n",
    "    \n",
    "    @staticmethod\n",
    "    def create_network(dim, weights):\n",
    "        \n",
    "        model  = []\n",
    "        for weight in weights:\n",
    "            model.append(\n",
    "                Dense(weight)\n",
    "            )\n",
    "                        \n",
    "            model.append(\n",
    "                Relu\n",
    "            )\n",
    "            \n",
    "        \n",
    "        model.append(Dense(dim))\n",
    "    \n",
    "        init_random_params, predict = stax.serial(\n",
    "           *model\n",
    "        )\n",
    "        return init_random_params, predict\n",
    "        \n",
    "    @staticmethod\n",
    "    @partial(jit, static_argnums=(1,2, 5))\n",
    "    def loss_for_trajectory(Xt, b_f, b_b, dt, theta, forwards):\n",
    "        \n",
    "        if not forwards : Xt = Xt[: , ::-1, :]\n",
    "        \n",
    "        b_minus  = b_b(theta, Xt)\n",
    "        b_plus = b_f(theta, Xt)\n",
    "        \n",
    "        delta_Xt = Xt[:, :-1, :]  - Xt[:, 1:, :]\n",
    "        \n",
    "        sign = 1.0 if forwards else -1.0\n",
    "        \n",
    "        ito_integral = sign *  (b_plus[:, 1:,:] - b_minus[:, :-1,:])  * delta_Xt\n",
    "        \n",
    "        time_integral = sign *  (b_plus**2 - b_minus**2) * dt # Not sure about this dt here\n",
    "        \n",
    "        return ito_integral.sum(axis=(1,2)) - 0.5 * time_integral.sum(axis=(1,2))\n",
    "        \n",
    "    def data_stream(self, forward=True):\n",
    "        rng = self.nrng\n",
    "        X = self.X_0 if forward else self.X_1\n",
    "        \n",
    "        batch_size = self.batch_size_f if forward else self.batch_size_b\n",
    "        num_batches = self.num_batches_f if forward else self.num_batches_b\n",
    "        \n",
    "        num_train = self.X_0.shape[0] if forward else self.X_1.shape[0]\n",
    "        while True:\n",
    "            perm = rng.permutation(num_train)\n",
    "            for i in range(num_batches):\n",
    "                batch_idx = perm[i * batch_size:(i + 1) * batch_size]\n",
    "                yield X[batch_idx] \n",
    "        \n",
    "    @staticmethod\n",
    "    def sample_trajectory(X, dt, theta, sigma, b, N, sde_solver, forwards=True):\n",
    "        return sde_solver(alfa=b, beta=sigma,\n",
    "                          dt=dt, X0=X,\n",
    "                          N=N, theta=theta)\n",
    "\n",
    "    @staticmethod\n",
    "#     @partial(jit, static_argnums=(0,6,7,8,9,10,11))\n",
    "    def inner_loss_jit(terminal_index, theta, batch, dt, \n",
    "                       batch_terminal_empirical, H , b_forward,\n",
    "                       b_backward, sigma, N, sde_solver, forwards):\n",
    "        \n",
    "        b = (b_forward if forwards else (lambda X, theta: -b_backward(X, theta)))\n",
    "        \n",
    "        def inner_loss_loop(x):\n",
    "            t, Xt = cIPFP.sample_trajectory(x, dt, theta,  sigma, b, N, sde_solver, forwards)\n",
    "            cross_entropy = -log_kde_pdf_per_point(Xt[:,-1,:], batch_terminal_empirical, H)\n",
    "            main_term = cIPFP.loss_for_trajectory(Xt, b_forward, b_backward, dt, theta, forwards)\n",
    "            return main_term + cross_entropy \n",
    "            \n",
    "#         for x in batch:\n",
    "#             t, Xt = cIPFP.sample_trajectory(x, dt, theta,  sigma, b, N, sde_solver, forwards)\n",
    "            \n",
    "#             cross_entropy = log_kde_pdf_per_point(Xt[terminal_index].reshape(-1,1), batch_terminal_empirical, H)\n",
    "            \n",
    "#             J += cIPFP.loss_for_trajectory(Xt, b_forward, b_backward, dt, theta, forwards)\n",
    "            \n",
    "#             J += cross_entropy\n",
    "        \n",
    "#         J /= len(batch)\n",
    "        J = np.mean(inner_loss_loop(batch))\n",
    "        J = np.squeeze(J)\n",
    "#         J = J.block_until_ready() \n",
    "        return J\n",
    "    \n",
    "    @partial(jit, static_argnums=(0,2))\n",
    "    def transport_batch(self, batch_x, forwards):\n",
    "        theta = self.theta_f if forwards else self.theta_b    \n",
    "        b = self.b_forward if forwards else  lambda X, theta: -self.b_backward(X, theta)\n",
    "\n",
    "        def inner_loss_loop_23(x_):\n",
    "            t, Xt = solve_sde_RK(alfa=b, beta=self.sigma, dt=self.dt, X0=x_.reshape(-1,1), N=100, theta=theta)\n",
    "            return Xt[:,-1,:]\n",
    "\n",
    "        return inner_loss_loop_23(batch_x)\n",
    "    \n",
    "    def inner_loss(self, theta, batch, forwards=True):\n",
    "                       \n",
    "        terminal_index = -1 if forwards else 0\n",
    "        X_terminal_empirical = next(self.data_stream(forward=not(forwards)))\n",
    "    \n",
    "        H = self.H_1 if forwards else self.H_0\n",
    "        return self.inner_loss_jit(\n",
    "            terminal_index, theta, batch, self.dt, \n",
    "            X_terminal_empirical, H , self.b_forward,\n",
    "            self.b_backward, self.sigma, self.number_time_steps, self.sde_solver, forwards\n",
    "        )\n",
    "\n",
    "    @partial(jit, static_argnums=(0,1, 4))\n",
    "    def update(self, i, opt_state, batch, forwards=True):\n",
    "\n",
    "        get_params = self.get_params_f if forwards else self.get_params_b\n",
    "        params = get_params(opt_state)\n",
    "        \n",
    "        gradient = grad(self.inner_loss)(params, batch, forwards)\n",
    "    \n",
    "        opt_update  = self.opt_update_f if forwards else self.opt_update_b\n",
    "        return opt_update(i, gradient, opt_state)\n",
    "\n",
    "    def fit(self, IPFP_iterations=10, sub_iterations=10):     \n",
    "        \n",
    "        _, init_params_f = self.b_forward_init(self.rng, (-1, self.dim))                                             \n",
    "        opt_state_f = self.opt_init_f(init_params_f)\n",
    "        \n",
    "        _, init_params_b = self.b_backward_init(self.rng, (-1, self.dim))                                               \n",
    "        opt_state_b = self.opt_init_b(init_params_b)\n",
    "        \n",
    "        batches_f = self.data_stream(forward=True)\n",
    "        batches_b = self.data_stream(forward=False)\n",
    "        \n",
    "        loss_f, loss_b = [], []\n",
    "        \n",
    "        for i in tqdm(range(IPFP_iterations)):\n",
    "                                               \n",
    "            itercount = itertools.count()\n",
    "            \n",
    "            for k in range(sub_iterations):\n",
    "                for _ in range(self.num_batches_b):\n",
    "#                     print(_)\n",
    "                    batch_b =  next(batches_b)\n",
    "                    opt_state_b  = self.update(\n",
    "                        next(itercount), opt_state_b, batch_b, False\n",
    "                    )\n",
    "\n",
    "                params = self.get_params_b(opt_state_b)\n",
    "                lossb = self.inner_loss(params, batch_b, False)\n",
    "                print(f\"loss b {lossb}\")\n",
    "            loss_b.append(lossb)\n",
    "                                               \n",
    "            \n",
    "            itercount = itertools.count()\n",
    "            \n",
    "            for k in range(sub_iterations):\n",
    "                for _ in range(self.num_batches_f):\n",
    "#                     print(_)\n",
    "                    batch_f =  next(batches_f)\n",
    "                    opt_state_f = self.update(\n",
    "                        next(itercount), opt_state_f, next(batches_f), True\n",
    "                    )\n",
    "                params = self.get_params_f(opt_state_f)\n",
    "                lossf = self.inner_loss(params, batch_f, True)\n",
    "                print(f\"loss f {lossf}\")\n",
    "            loss_f.append(lossf)\n",
    "         \n",
    "\n",
    "        self.theta_f = self.get_params_f(opt_state_f)\n",
    "        self.theta_b = self.get_params_b(opt_state_b)\n",
    "        \n",
    "        plt.plot(range(IPFP_iterations), loss_f, \"g\")\n",
    "        plt.show()\n",
    "        plt.plot(range(IPFP_iterations), loss_b, \"b\")\n",
    "        plt.show()\n",
    "            "
   ]
  },
  {
   "cell_type": "code",
   "execution_count": 3,
   "metadata": {},
   "outputs": [
    {
     "data": {
      "text/plain": [
       "[<matplotlib.lines.Line2D at 0x7f0137fa9c18>]"
      ]
     },
     "execution_count": 3,
     "metadata": {},
     "output_type": "execute_result"
    },
    {
     "data": {
      "image/png": "[encoded data removed]",
      "text/plain": [
       "<Figure size 432x288 with 1 Axes>"
      ]
     },
     "metadata": {},
     "output_type": "display_data"
    }
   ],
   "source": [
    "n = 1000\n",
    "n_2 = int(n * 0.5)\n",
    "\n",
    "X1 = npr.randn(n).reshape(-1,1) - 5\n",
    "X21 = 0.6 * npr.randn(n_2).reshape(-1,1) + 8\n",
    "X22 =  0.6 * npr.randn(n_2).reshape(-1,1) + 2\n",
    "X2 = np.concatenate((X21, X22), axis=0)\n",
    "\n",
    "plt.plot(X2.flatten(), [0] * n, '.')\n",
    "plt.plot(X1.flatten(), [0] * n, '.')"
   ]
  },
  {
   "cell_type": "code",
   "execution_count": 4,
   "metadata": {},
   "outputs": [],
   "source": [
    "c = cIPFP(X2, X1,  number_time_steps=200, batch_size=100 , step_size = 0.0001, weights=[500,250])"
   ]
  },
  {
   "cell_type": "code",
   "execution_count": 5,
   "metadata": {},
   "outputs": [],
   "source": [
    " _, init_params_f = c.b_forward_init(c.rng, (-1, c.dim))                                             \n",
    "opt_state_f = c.opt_init_f(init_params_f)\n",
    "\n",
    "\n",
    "theta_f = c.get_params_f(opt_state_f)"
   ]
  },
  {
   "cell_type": "code",
   "execution_count": 6,
   "metadata": {},
   "outputs": [
    {
     "data": {
      "text/plain": [
       "((500,), ())"
      ]
     },
     "execution_count": 6,
     "metadata": {},
     "output_type": "execute_result"
    }
   ],
   "source": [
    "theta_f[0][1].shape, theta_f[1]"
   ]
  },
  {
   "cell_type": "code",
   "execution_count": 7,
   "metadata": {},
   "outputs": [],
   "source": [
    "t, Xt = c.sample_trajectory(X1[0].reshape(-1,1),c.dt,  theta_f,  c.sigma, c.b_forward, c.number_time_steps, c.sde_solver, True)"
   ]
  },
  {
   "cell_type": "code",
   "execution_count": 8,
   "metadata": {},
   "outputs": [
    {
     "data": {
      "text/plain": [
       "[<matplotlib.lines.Line2D at 0x7f01378c7438>]"
      ]
     },
     "execution_count": 8,
     "metadata": {},
     "output_type": "execute_result"
    },
    {
     "data": {
      "image/png": "[encoded data removed]",
      "text/plain": [
       "<Figure size 432x288 with 1 Axes>"
      ]
     },
     "metadata": {},
     "output_type": "display_data"
    }
   ],
   "source": [
    "import matplotlib.pyplot as plt\n",
    "\n",
    "plt.plot(t, Xt.flatten())"
   ]
  },
  {
   "cell_type": "code",
   "execution_count": 289,
   "metadata": {},
   "outputs": [],
   "source": [
    "import numpy as onp\n",
    "import jax.numpy as np\n",
    "\n",
    "X0 = np.array(X1[0,:])\n",
    "t0=0\n",
    "\n",
    "alfa  = c.b_forward \n",
    "beta = c.sigma\n",
    "randn = onp.random.randn\n",
    "dt = c.dt\n",
    "N= c.number_time_steps\n",
    "theta = theta_f\n",
    "\n",
    "\n",
    "if alfa is None or beta is None:\n",
    "    raise ValueError(\"Error: SDE not defined.\")\n",
    "\n",
    "\n",
    "X0 = randn(*alfa(0, 0).shape) if X0 is None else np.array(X0)\n",
    "#     DW = (lambda Y, dt: randn((len(X0))) * np.sqrt(dt)) if DW is None else DW\n",
    "DWs  = randn(N-1, len(X0))  * np.sqrt(dt)\n",
    "\n",
    "\n",
    "\n",
    "Y, ti = np.zeros((N, len(X0))), np.arange(N)*dt + t0\n",
    "Y = jax.ops.index_update(Y, jax.ops.index[0,:],  X0)\n",
    "\n"
   ]
  },
  {
   "cell_type": "code",
   "execution_count": 14,
   "metadata": {},
   "outputs": [],
   "source": [
    "loss= c.loss_for_trajectory(Xt, c.b_forward, c.b_backward, c.dt, theta_f, True)"
   ]
  },
  {
   "cell_type": "code",
   "execution_count": 15,
   "metadata": {},
   "outputs": [],
   "source": [
    "cross_entropy = log_kde_pdf_per_point(Xt[-1].reshape(-1,1), X2, c.H_0)"
   ]
  },
  {
   "cell_type": "code",
   "execution_count": 16,
   "metadata": {},
   "outputs": [
    {
     "name": "stdout",
     "output_type": "stream",
     "text": [
      "CPU times: user 752 ms, sys: 10.3 ms, total: 762 ms\n",
      "Wall time: 810 ms\n"
     ]
    },
    {
     "data": {
      "text/plain": [
       "DeviceArray(61.630344, dtype=float32)"
      ]
     },
     "execution_count": 16,
     "metadata": {},
     "output_type": "execute_result"
    }
   ],
   "source": [
    "%%time\n",
    "c.inner_loss(theta_f, X1, True)"
   ]
  },
  {
   "cell_type": "code",
   "execution_count": 17,
   "metadata": {},
   "outputs": [
    {
     "name": "stdout",
     "output_type": "stream",
     "text": [
      "CPU times: user 16.8 ms, sys: 55 µs, total: 16.8 ms\n",
      "Wall time: 10.5 ms\n"
     ]
    },
    {
     "data": {
      "text/plain": [
       "DeviceArray(68.25656, dtype=float32)"
      ]
     },
     "execution_count": 17,
     "metadata": {},
     "output_type": "execute_result"
    }
   ],
   "source": [
    "%%time\n",
    "c.inner_loss(theta_f, X1, True)"
   ]
  },
  {
   "cell_type": "code",
   "execution_count": 294,
   "metadata": {},
   "outputs": [],
   "source": [
    "\n",
    "# _, init_params_f = c.b_forward_init(c.rng, (-1, c.dim))                                             \n",
    "# opt_state_f = c.opt_init_f(init_params_f)\n",
    "\n",
    "# _, init_params_b = c.b_backward_init(c.rng, (-1, c.dim))                                               \n",
    "# opt_state_b = c.opt_init_b(init_params_b)\n",
    "\n",
    "# batches_f = c.data_stream(forward=True)\n",
    "# batches_b = c.data_stream(forward=False)\n",
    "\n",
    "# c.update(0, opt_state_b, next(batches_b), forwards=False)\n",
    "                                       "
   ]
  },
  {
   "cell_type": "code",
   "execution_count": 295,
   "metadata": {},
   "outputs": [],
   "source": [
    "from jax import grad\n"
   ]
  },
  {
   "cell_type": "code",
   "execution_count": 18,
   "metadata": {},
   "outputs": [
    {
     "name": "stdout",
     "output_type": "stream",
     "text": [
      "CPU times: user 2.81 s, sys: 25.1 ms, total: 2.84 s\n",
      "Wall time: 3.39 s\n"
     ]
    }
   ],
   "source": [
    "%%time\n",
    "gradient = jit(grad(c.inner_loss), static_argnums=(2))\n",
    "kek = gradient(theta_f, X1, True)\n",
    "# partial(jit, static_argnums=(2))(gradient)"
   ]
  },
  {
   "cell_type": "code",
   "execution_count": 19,
   "metadata": {},
   "outputs": [
    {
     "name": "stdout",
     "output_type": "stream",
     "text": [
      "CPU times: user 6.91 ms, sys: 588 µs, total: 7.5 ms\n",
      "Wall time: 2.79 ms\n"
     ]
    }
   ],
   "source": [
    "%%time\n",
    "kek = gradient(theta_f, X1, True)"
   ]
  },
  {
   "cell_type": "code",
   "execution_count": 9,
   "metadata": {},
   "outputs": [
    {
     "data": {
      "application/vnd.jupyter.widget-view+json": {
       "model_id": "d185315480844e059733793ac7fc9bd3"
      }
     },
     "metadata": {},
     "output_type": "display_data"
    },
    {
     "name": "stdout",
     "output_type": "stream",
     "text": [
      "loss b 47.03510284423828\n",
      "loss f 715.6668090820312\n",
      "\n"
     ]
    },
    {
     "data": {
      "image/png": "[encoded data removed]",
      "text/plain": [
       "<Figure size 432x288 with 1 Axes>"
      ]
     },
     "metadata": {},
     "output_type": "display_data"
    },
    {
     "data": {
      "image/png": "[encoded data removed]",
      "text/plain": [
       "<Figure size 432x288 with 1 Axes>"
      ]
     },
     "metadata": {},
     "output_type": "display_data"
    },
    {
     "name": "stdout",
     "output_type": "stream",
     "text": [
      "CPU times: user 1min 54s, sys: 6.59 s, total: 2min\n",
      "Wall time: 4min 32s\n"
     ]
    }
   ],
   "source": [
    "%%time\n",
    "c.fit(1,1)"
   ]
  },
  {
   "cell_type": "code",
   "execution_count": null,
   "metadata": {},
   "outputs": [
    {
     "data": {
      "application/vnd.jupyter.widget-view+json": {
       "model_id": "f9efbc5cc1954e039e281e9ec7a8fc23"
      }
     },
     "metadata": {},
     "output_type": "display_data"
    },
    {
     "name": "stdout",
     "output_type": "stream",
     "text": [
      "loss b 43.80569839477539\n",
      "loss f 596.4473876953125\n",
      "\n"
     ]
    },
    {
     "data": {
      "image/png": "[encoded data removed]",
      "text/plain": [
       "<Figure size 432x288 with 1 Axes>"
      ]
     },
     "metadata": {},
     "output_type": "display_data"
    },
    {
     "data": {
      "image/png": "[encoded data removed]",
      "text/plain": [
       "<Figure size 432x288 with 1 Axes>"
      ]
     },
     "metadata": {},
     "output_type": "display_data"
    },
    {
     "name": "stdout",
     "output_type": "stream",
     "text": [
      "CPU times: user 32.8 s, sys: 6.89 s, total: 39.7 s\n",
      "Wall time: 34.8 s\n"
     ]
    }
   ],
   "source": [
    "%%time\n",
    "c.fit(1,1)"
   ]
  },
  {
   "cell_type": "code",
   "execution_count": null,
   "metadata": {
    "scrolled": true
   },
   "outputs": [
    {
     "data": {
      "application/vnd.jupyter.widget-view+json": {
       "model_id": "5d4e7140342a4cdeb9ac8403ff0c7ae4"
      }
     },
     "metadata": {},
     "output_type": "display_data"
    },
    {
     "name": "stdout",
     "output_type": "stream",
     "text": [
      "loss b 49.327457427978516\n",
      "loss b 35.634300231933594\n",
      "loss b 31.647058486938477\n",
      "loss b 27.21755599975586\n",
      "loss b 28.626752853393555\n",
      "loss b 24.27619171142578\n",
      "loss b 20.778738021850586\n",
      "loss b 16.20216941833496\n"
     ]
    }
   ],
   "source": [
    "c.fit(150,30)"
   ]
  },
  {
   "cell_type": "code",
   "execution_count": null,
   "metadata": {},
   "outputs": [],
   "source": [
    "fig, axs = plt.subplots(2,1,  sharey=False, figsize=(10,8))\n",
    "\n",
    "\n",
    "bb = lambda X, theta: -c.b_backward(X, theta)\n",
    "for x1 in X2:\n",
    "    t, Xt = c.sample_trajectory(x1.reshape(1,-1),c.dt,  c.theta_f,  c.sigma, c.b_forward, c.number_time_steps, c.sde_solver, forwards=True)\n",
    "    axs[0].plot(t.flatten(), Xt.flatten(), 'b', alpha=0.03, )\n",
    "BXt = []   \n",
    "\n",
    "for x2 in X1:\n",
    "    t_, Xt_ = c.sample_trajectory(x2.reshape(1,-1),c.dt,  c.theta_b,  c.sigma, bb, c.number_time_steps, c.sde_solver, forwards=False)\n",
    "    BXt.append(Xt_[-1,:])\n",
    "    axs[1].plot(t_.flatten()[0:100], Xt_.flatten(), 'r', alpha=0.03)\n"
   ]
  },
  {
   "cell_type": "code",
   "execution_count": 25,
   "metadata": {},
   "outputs": [],
   "source": [
    "import jax.numpy as np\n",
    "import numpy as onp\n",
    "import jax\n",
    "import pylab as pl\n",
    "from jax import jit\n",
    "from functools import partial\n",
    "\n",
    "key = jax.random.PRNGKey(0)\n",
    "# key = None\n",
    "onp.random.seed(0)\n",
    "\n",
    "\n",
    "@partial(jit, static_argnums=(0,1, 4))\n",
    "def inner_jit(alfa, beta, Y, ti, N, Dn, DWs, Wn, dt, theta):\n",
    "    N = int(N)\n",
    "    alfa_ = alfa\n",
    "    if theta is not None:\n",
    "        alfa_ = lambda X,t: alfa(theta, X)\n",
    "        \n",
    "    def inner_loop(n, Y):\n",
    "        t = ti[n]\n",
    "        a, b, DWn = alfa_(Y[:,n, :], t), beta(Y[:,n, :], t), DWs[:,n,:]\n",
    "        # print Y[n,:]\n",
    "        newY = (  \n",
    "            Y[:,n, :] + a * Dn + b * DWn * Wn + \n",
    "            0.5 * ( beta(Y[:,n, :] + b * np.sqrt(Dn), t) - b ) * \n",
    "            (DWn**2.0 - Dn) / np.sqrt(Dn)\n",
    "        )\n",
    "        \n",
    "        Y = jax.ops.index_update(Y, jax.ops.index[:,n+1,:],  newY)\n",
    "        return Y\n",
    "    \n",
    "    Y = jax.lax.fori_loop (0, N-1, inner_loop, Y)\n",
    "\n",
    "    return ti, Y\n",
    "\n",
    "\n",
    "# @jit\n",
    "def solve_sde_RK(alfa=None, beta=None, X0=None, dt=1.0, N=100, t0=0.0,\n",
    "                key = key, theta=None):\n",
    "    \"\"\"\n",
    "            Kloeden - Numerical Solution of stochastic differential\n",
    "            equations (Springer 1992)  page XXX.\n",
    "            Strong order 1.0 Runge Kutta scheme.\n",
    "            http://en.wikipedia.org/wiki/Runge%E2%80%93Kutta_method_%28SDE%29\n",
    "            dX = a(X,t)*dt + b(X, t)*dW\n",
    "    Syntax:\n",
    "    ----------\n",
    "    solve_sde(alfa=None, beta=None, X0=None, dt=None, N=100, t0=0, DW=None)\n",
    "    Parameters:\n",
    "    ----------\n",
    "        alfa  : a  function with two arguments, the X state and the time\n",
    "                defines the differential equation.\n",
    "        beta  : a  function with two arguments, the X state and the time\n",
    "                defines the stochastic part of the SDE.\n",
    "        X0    : Initial conditions of the SDE. Mandatory for SDEs\n",
    "                with variables > 1 (default: gaussian np.random)\n",
    "        dt    : The timestep of the solution\n",
    "                (default: 1)\n",
    "        N     : The number of timesteps (defines the length of the timeseries)\n",
    "                (default: 100)\n",
    "        t0    : The initial time of the solution\n",
    "                (default: 0)\n",
    "    \n",
    "    \"\"\"\n",
    "    \n",
    "    randn = onp.random.randn\n",
    "#     print(X0)\n",
    "       \n",
    "    if alfa is None or beta is None:\n",
    "        raise ValueError(\"Error: SDE not defined.\")\n",
    "    n, d = X0.shape\n",
    "        \n",
    "    X0 = randn(*alfa(0, 0).shape) if X0 is None else np.array(X0)\n",
    "    DWs  = randn(n, N-1, d)  * np.sqrt(dt)\n",
    "    \n",
    "    \n",
    "    Y, ti = np.zeros((n, N, d)), np.arange(N)*dt + t0\n",
    "    Y = jax.ops.index_update(Y, jax.ops.index[:,0,:],  X0)\n",
    "    \n",
    "    Dn, Wn = dt, 1\n",
    "        \n",
    "    return inner_jit(alfa, beta, Y, ti, N, Dn, DWs, Wn, dt, theta)"
   ]
  },
  {
   "cell_type": "code",
   "execution_count": 62,
   "metadata": {},
   "outputs": [],
   "source": [
    "# @partial(jit, static_argnums=(0,2))\n",
    "npr.seed(0)\n",
    "def transport_batch(self, batch_x, forwards):\n",
    "    theta = self.theta_f if forwards else self.theta_b    \n",
    "    b = self.b_forward if forwards else  lambda X, theta: -self.b_backward(X, theta)\n",
    "\n",
    "    def inner_loss_loop_23(x_):\n",
    "        t, Xt = solve_sde_RK(alfa=b, beta=self.sigma, dt=self.dt, X0=x_.reshape(-1,1), N=100, theta=theta)\n",
    "        return Xt[:,-1,:]\n",
    "\n",
    "    return inner_loss_loop_23(batch_x)"
   ]
  },
  {
   "cell_type": "code",
   "execution_count": 63,
   "metadata": {},
   "outputs": [],
   "source": [
    "# X22 = transport_batch(c, X1, True)"
   ]
  },
  {
   "cell_type": "code",
   "execution_count": 70,
   "metadata": {},
   "outputs": [],
   "source": [
    "X11 = np.array(transport_batch(c, X2, True)).flatten()"
   ]
  },
  {
   "cell_type": "code",
   "execution_count": 71,
   "metadata": {},
   "outputs": [],
   "source": [
    "X22 = np.array(transport_batch(c, X1, False)).flatten()"
   ]
  },
  {
   "cell_type": "code",
   "execution_count": 72,
   "metadata": {},
   "outputs": [
    {
     "data": {
      "text/plain": [
       "<matplotlib.legend.Legend at 0x7f3bb5919fd0>"
      ]
     },
     "execution_count": 72,
     "metadata": {},
     "output_type": "execute_result"
    },
    {
     "data": {
      "image/png": "[encoded data removed]",
      "text/plain": [
       "<Figure size 1440x360 with 2 Axes>"
      ]
     },
     "metadata": {},
     "output_type": "display_data"
    }
   ],
   "source": [
    "fig, axs = plt.subplots(1,2, figsize=(20,5))\n",
    "\n",
    "axs[0].plot(X2.flatten(), [0] * n, 'b.', label=\"Source\")\n",
    "axs[0].plot(X11, [0] * n, 'r.', label=\"Transformed\")\n",
    "axs[0].plot(X1.flatten(), [-0.1] * n, 'g.', label=\"Target\")\n",
    "# axs[0].set_xticks([])\n",
    "axs[0].set_yticks([])\n",
    "axs[0].legend()\n",
    "\n",
    "axs[1].plot(X1.flatten(), [0] * n, 'b.', label=\"Source\")\n",
    "axs[1].plot(X22, [0] * n, 'r.', label=\"Transformed\")\n",
    "axs[1].plot(X2.flatten(), [-0.1] * n, 'g.', label=\"Target\")\n",
    "# axs[1].set_xticks([])\n",
    "axs[1].set_yticks([])\n",
    "axs[1].legend()"
   ]
  },
  {
   "cell_type": "code",
   "execution_count": 848,
   "metadata": {},
   "outputs": [
    {
     "data": {
      "text/plain": [
       "<matplotlib.legend.Legend at 0x7fe53b96a6d8>"
      ]
     },
     "execution_count": 848,
     "metadata": {},
     "output_type": "execute_result"
    },
    {
     "data": {
      "image/png": "[encoded data removed]",
      "text/plain": [
       "<Figure size 1440x360 with 2 Axes>"
      ]
     },
     "metadata": {},
     "output_type": "display_data"
    }
   ],
   "source": [
    "fig, axs = plt.subplots(1,2, figsize=(20,5))\n",
    "\n",
    "axs[0].plot(X2.flatten(), [0] * n, 'b.', label=\"Source\")\n",
    "axs[0].plot(X11, [0] * n, 'r.', label=\"Transformed\")\n",
    "axs[0].plot(X1.flatten(), [-0.1] * n, 'g.', label=\"Target\")\n",
    "# axs[0].set_xticks([])\n",
    "axs[0].set_yticks([])\n",
    "axs[0].legend()\n",
    "\n",
    "axs[1].plot(X1.flatten(), [0] * n, 'b.', label=\"Source\")\n",
    "axs[1].plot(X22, [0] * n, 'r.', label=\"Transformed\")\n",
    "axs[1].plot(X2.flatten(), [-0.1] * n, 'g.', label=\"Target\")\n",
    "# axs[1].set_xticks([])\n",
    "axs[1].set_yticks([])\n",
    "axs[1].legend()"
   ]
  },
  {
   "cell_type": "code",
   "execution_count": 604,
   "metadata": {},
   "outputs": [],
   "source": [
    "batch_terminal_empirical_f = next(c.data_stream(forward=True))"
   ]
  },
  {
   "cell_type": "code",
   "execution_count": 418,
   "metadata": {},
   "outputs": [
    {
     "data": {
      "text/plain": [
       "[<matplotlib.lines.Line2D at 0x7fe56151a630>]"
      ]
     },
     "execution_count": 418,
     "metadata": {},
     "output_type": "execute_result"
    },
    {
     "data": {
      "image/png": "[encoded data removed]",
      "text/plain": [
       "<Figure size 432x288 with 1 Axes>"
      ]
     },
     "metadata": {},
     "output_type": "display_data"
    }
   ],
   "source": [
    "xx = np.linspace(-10, 10).reshape(-1,1)\n",
    "\n",
    "kd  = np.exp(log_kde_pdf_per_point(xx, batch_terminal_empirical_f, c.H_0))\n",
    "plt.plot(xx, kd)\n",
    "plt.plot(batch_terminal_empirical_f , [0] * len(batch_terminal_empirical_f), \".\")"
   ]
  },
  {
   "cell_type": "code",
   "execution_count": 419,
   "metadata": {},
   "outputs": [],
   "source": [
    "batch_terminal_empirical_b = next(c.data_stream(False))"
   ]
  },
  {
   "cell_type": "code",
   "execution_count": 420,
   "metadata": {},
   "outputs": [
    {
     "data": {
      "text/plain": [
       "[<matplotlib.lines.Line2D at 0x7fe563a38128>]"
      ]
     },
     "execution_count": 420,
     "metadata": {},
     "output_type": "execute_result"
    },
    {
     "data": {
      "image/png": "[encoded data removed]",
      "text/plain": [
       "<Figure size 432x288 with 1 Axes>"
      ]
     },
     "metadata": {},
     "output_type": "display_data"
    }
   ],
   "source": [
    "xx = np.linspace(-10, 10).reshape(-1,1)\n",
    "\n",
    "kd_b  = np.exp(log_kde_pdf_per_point(xx, batch_terminal_empirical_b, c.H_1))\n",
    "plt.plot(xx, kd_b)\n",
    "plt.plot(batch_terminal_empirical_b , [0] * len(batch_terminal_empirical_b), \".\")"
   ]
  },
  {
   "cell_type": "code",
   "execution_count": null,
   "metadata": {},
   "outputs": [],
   "source": []
  }
 ],
 "metadata": {
  "kernelspec": {
   "display_name": "Python 3",
   "language": "python",
   "name": "python3"
  },
  "language_info": {
   "codemirror_mode": {
    "name": "ipython",
    "version": 3
   },
   "file_extension": ".py",
   "mimetype": "text/x-python",
   "name": "python",
   "nbconvert_exporter": "python",
   "pygments_lexer": "ipython3",
   "version": "3.6.9"
  }
 },
 "nbformat": 4,
 "nbformat_minor": 2
}
