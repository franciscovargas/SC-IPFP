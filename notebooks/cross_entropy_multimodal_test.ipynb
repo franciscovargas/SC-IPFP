{
 "cells": [
  {
   "cell_type": "code",
   "execution_count": 1,
   "metadata": {},
   "outputs": [],
   "source": [
    "import jax.numpy as np\n",
    "\n",
    "from jax.config import config\n",
    "from jax import jit, grad, random\n",
    "from jax.experimental import optimizers\n",
    "from jax.experimental import stax\n",
    "from jax.experimental.stax import Dense, Relu, LogSoftmax, Sigmoid, Tanh\n",
    "import numpy.random as npr\n",
    "import jax\n",
    "from tqdm.notebook import tqdm\n",
    "import numpy as onp\n",
    "import itertools\n",
    "from functools import partial\n",
    "import matplotlib.pyplot as plt\n",
    "\n",
    "from SC_IPFP.utils import log_kde_pdf_per_point, silvermans_rule"
   ]
  },
  {
   "cell_type": "code",
   "execution_count": 2,
   "metadata": {},
   "outputs": [
    {
     "name": "stderr",
     "output_type": "stream",
     "text": [
      "/home/fav25/jax/jax/lib/xla_bridge.py:116: UserWarning: No GPU/TPU found, falling back to CPU.\n",
      "  warnings.warn('No GPU/TPU found, falling back to CPU.')\n"
     ]
    },
    {
     "data": {
      "text/plain": [
       "[<matplotlib.lines.Line2D at 0x7f60114ad5d0>]"
      ]
     },
     "execution_count": 2,
     "metadata": {},
     "output_type": "execute_result"
    },
    {
     "data": {
      "image/png": "[encoded data removed]",
      "text/plain": [
       "<Figure size 432x288 with 1 Axes>"
      ]
     },
     "metadata": {
      "needs_background": "light"
     },
     "output_type": "display_data"
    }
   ],
   "source": [
    "n = 900\n",
    "n_2 = int(n / 3.0)\n",
    "\n",
    "X1 = npr.randn(n).reshape(-1,1) + 0#50\n",
    "X21 = 0.6 * npr.randn(450).reshape(-1,1) + 50\n",
    "X22 =  0.6 * npr.randn(450).reshape(-1,1) - 50\n",
    "# X23 =  0.6 * npr.randn(300).reshape(-1,1) - 30\n",
    "\n",
    "X2 = np.concatenate((X22, X21), axis=0)\n",
    "\n",
    "perm = onp.random.permutation(n)\n",
    "\n",
    "X2 = X2[perm,:] \n",
    "\n",
    "plt.plot(X2.flatten(), [1] * n, '.')\n",
    "plt.plot(X1.flatten(), [0] * n, '.')"
   ]
  },
  {
   "cell_type": "code",
   "execution_count": 21,
   "metadata": {},
   "outputs": [],
   "source": [
    "def data_stream(X):\n",
    "    rng =  npr.RandomState(0)\n",
    "\n",
    "    batch_size = 200\n",
    "    num_batches = int(np.ceil(X.shape[0] / batch_size))\n",
    "#     print(num_batches)\n",
    "\n",
    "    num_train = X.shape[0]\n",
    "    while True:\n",
    "        perm = rng.permutation(num_train)\n",
    "        for i in range(num_batches):\n",
    "            batch_idx = perm[i * batch_size:(i + 1) * batch_size]\n",
    "            yield X[batch_idx]\n",
    "            \n",
    "def create_network(dim, weights):\n",
    "    model  = []\n",
    "    for weight in weights:\n",
    "        model.append(\n",
    "            Dense(weight)\n",
    "        )\n",
    "\n",
    "        model.append(\n",
    "            Relu\n",
    "        )\n",
    "\n",
    "\n",
    "    model.append(Dense(dim))\n",
    "\n",
    "    init_random_params, predict = stax.serial(\n",
    "       *model\n",
    "    )\n",
    "    return init_random_params, predict"
   ]
  },
  {
   "cell_type": "code",
   "execution_count": 27,
   "metadata": {},
   "outputs": [],
   "source": [
    "def inner_loss(theta, batch):       \n",
    "    batch_terminal_empirical = next(data_stream(X2))\n",
    "\n",
    "    H = silvermans_rule(X2)\n",
    "    \n",
    "    Xt = b_forward(theta, batch)\n",
    "\n",
    "    cross_entropy = -log_prob(Xt, batch_terminal_empirical, H)\n",
    "\n",
    "    J = np.mean(cross_entropy)\n",
    "    J = np.squeeze(J)\n",
    "\n",
    "    return J"
   ]
  },
  {
   "cell_type": "code",
   "execution_count": null,
   "metadata": {},
   "outputs": [
    {
     "data": {
      "application/vnd.jupyter.widget-view+json": {
       "model_id": "7e6fe9daf6da4ceea37f132a668c17b3",
       "version_major": 2,
       "version_minor": 0
      },
      "text/plain": [
       "HBox(children=(FloatProgress(value=0.0, max=1000.0), HTML(value='')))"
      ]
     },
     "metadata": {},
     "output_type": "display_data"
    }
   ],
   "source": [
    "\n",
    "log_prob = log_kde_pdf_per_point\n",
    "\n",
    "dim = 1\n",
    "\n",
    "b_forward_init, b_forward = create_network(1, [2])\n",
    "opt_init_f, opt_update_f, get_params_f = optimizers.adam(1e-5)\n",
    "\n",
    "rng = jax.random.PRNGKey(0)\n",
    "\n",
    "_, init_params_f = b_forward_init(rng, (-1, dim))                                             \n",
    "opt_state_f = opt_init_f(init_params_f)\n",
    "\n",
    "batches_f = data_stream(X1)\n",
    "\n",
    "loss_f = []\n",
    "\n",
    "theta_f = get_params_f(opt_state_f)\n",
    "\n",
    "for i in tqdm(range(1000)):\n",
    "    itercount = itertools.count()\n",
    "\n",
    "    for k in range(1):\n",
    "        while True:\n",
    "            batch_f =  next(batches_f)\n",
    "            params = get_params_f(opt_state_f)\n",
    "            gradient = grad(inner_loss)(params, batch_f)\n",
    "            opt_state_f = opt_update_f(i, gradient, opt_state_f)\n",
    "        params_f = get_params_f(opt_state_f)\n",
    "        lossf = inner_loss(params_f, batch_f, True)\n",
    "        print(f\"loss f {lossf}\")\n",
    "    loss_f.append(lossf)"
   ]
  },
  {
   "cell_type": "code",
   "execution_count": null,
   "metadata": {},
   "outputs": [],
   "source": []
  }
 ],
 "metadata": {
  "kernelspec": {
   "display_name": "Python 3",
   "language": "python",
   "name": "python3"
  },
  "language_info": {
   "codemirror_mode": {
    "name": "ipython",
    "version": 3
   },
   "file_extension": ".py",
   "mimetype": "text/x-python",
   "name": "python",
   "nbconvert_exporter": "python",
   "pygments_lexer": "ipython3",
   "version": "3.7.6"
  }
 },
 "nbformat": 4,
 "nbformat_minor": 4
}
