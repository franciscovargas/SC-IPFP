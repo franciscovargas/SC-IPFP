{
 "cells": [
  {
   "cell_type": "code",
   "execution_count": 1,
   "metadata": {},
   "outputs": [
    {
     "name": "stderr",
     "output_type": "stream",
     "text": [
      "/auto/homes/fav25/jax/jax/lib/xla_bridge.py:116: UserWarning: No GPU/TPU found, falling back to CPU.\n",
      "  warnings.warn('No GPU/TPU found, falling back to CPU.')\n"
     ]
    }
   ],
   "source": [
    "import sys\n",
    "sys.path.append(\"/auto/homes/fav25/jax/\")\n",
    "\n",
    "import jax.numpy as np\n",
    "# import autograd.numpy\n",
    "# import numpy as np\n",
    "\n",
    "from SC_IPFP.sde_solvers import solve_sde_RK\n",
    "from SC_IPFP.utils import log_kde_pdf_per_point, silvermans_rule\n",
    "\n",
    "from jax.config import config\n",
    "from jax import jit, grad, random\n",
    "from jax.experimental import optimizers\n",
    "from jax.experimental import stax\n",
    "from jax.experimental.stax import Dense, Relu, LogSoftmax\n",
    "import numpy.random as npr\n",
    "import jax\n",
    "\n",
    "import itertools\n",
    "from functools import partial\n",
    "# np = jax.numpy\n",
    "# np = autograd.numpy"
   ]
  },
  {
   "cell_type": "code",
   "execution_count": 27,
   "metadata": {},
   "outputs": [],
   "source": [
    "class cIPFP(object):\n",
    "    \n",
    "    def __init__(self, X_0, X_1, weights=[100], batch_size=None,  rng = jax.random.PRNGKey(0), \n",
    "                nrng = npr.RandomState(0), number_time_steps=16, sde_solver=solve_sde_RK, sigma_sq=1, \n",
    "                step_size = 0.001, num_epochs = 10, momentum_mass = 0.9, create_network=None):\n",
    "        \n",
    "        self.sde_solver = sde_solver\n",
    "        \n",
    "        self.number_time_steps = number_time_steps\n",
    "        self.dt = 1.0 / number_time_steps\n",
    "        \n",
    "        \n",
    "        self.batch_size_f = X_0.shape[0] if batch_size is None else batch_size\n",
    "        self.batch_size_b = X_1.shape[0] if batch_size is None else batch_size\n",
    "        \n",
    "        \n",
    "        self.X_0 = X_0\n",
    "        self.X_1 = X_1\n",
    "        \n",
    "        self.H_0 = silvermans_rule(X_0)\n",
    "        self.H_1 = silvermans_rule(X_1)\n",
    "        \n",
    "        _, self.dim = self.X_0.shape\n",
    "        \n",
    "        create_net = self.create_network if  create_network is None else create_network\n",
    "        \n",
    "        self.b_forward_init, self.b_forward = create_net(\n",
    "            self.dim, weights\n",
    "        )\n",
    "        self.b_backward_init, self.b_backward = create_net(\n",
    "            self.dim, weights\n",
    "        )\n",
    "        \n",
    "        self.sigma = (lambda X,t: sigma_sq)\n",
    "        \n",
    "        self.rng = rng\n",
    "        self.nrng = nrng\n",
    "        \n",
    "        self.opt_init_f, self.opt_update_f, self.get_params_f = (\n",
    "            optimizers.momentum(step_size, mass=momentum_mass)\n",
    "        )\n",
    "        \n",
    "        self.opt_init_b, self.opt_update_b, self.get_params_b = (\n",
    "            optimizers.momentum(step_size, mass=momentum_mass)\n",
    "        )\n",
    "        \n",
    "        num_complete_batches_f, leftover_f = divmod(self.X_0.shape[0], self.batch_size_f)\n",
    "        self.num_batches_f = num_complete_batches_f + bool(leftover_f)\n",
    "                                               \n",
    "        num_complete_batches_b, leftover_b = divmod(self.X_1.shape[0], self.batch_size_b)\n",
    "        self.num_batches_b = num_complete_batches_b + bool(leftover_b)\n",
    "        \n",
    "    \n",
    "    @staticmethod\n",
    "    def create_network(dim, weights):\n",
    "        \n",
    "        model  = []\n",
    "        for weight in weights:\n",
    "            model.append(\n",
    "                Dense(weight)\n",
    "            )\n",
    "                        \n",
    "            model.append(\n",
    "                Relu\n",
    "            )\n",
    "            \n",
    "        \n",
    "        model.append(Dense(dim))\n",
    "        print(dim)\n",
    "    \n",
    "        init_random_params, predict = stax.serial(\n",
    "           *model\n",
    "        )\n",
    "        return init_random_params, predict\n",
    "        \n",
    "    \n",
    "    \n",
    "    @staticmethod\n",
    "    @partial(jit, static_argnums=(1,2, 5))\n",
    "    def loss_for_trajectory(Xt, b_f, b_b, dt, theta, forwards):\n",
    "        b_minus  = b_b(theta, Xt)\n",
    "        b_plus = b_f(theta, Xt)\n",
    "        \n",
    "        delta_Xt = Xt[:-1, :]  - Xt[1:, :]\n",
    "        \n",
    "        sign = 1.0 if forwards else -1.0\n",
    "        \n",
    "        ito_integral = sign *  (b_plus[1:,:] - b_minus[:-1,:])  * delta_Xt\n",
    "        \n",
    "        time_integral = sign *  (b_plus**2 - b_minus**2) * dt # Not sure about this dt here\n",
    "        \n",
    "        return ito_integral.sum() - 0.5 * time_integral.sum()\n",
    "        \n",
    "    def data_stream(self, forward=True):\n",
    "        rng = self.nrng\n",
    "        X = self.X_0 if forward else self.X_1\n",
    "        \n",
    "        batch_size = self.batch_size_f if forward else self.batch_size_b\n",
    "        num_batches = self.num_batches_f if forward else self.num_batches_b\n",
    "        \n",
    "        num_train = self.X_0.shape[0] if forward else self.X_1.shape[0]\n",
    "        while True:\n",
    "            perm = rng.permutation(num_train)\n",
    "            for i in range(num_batches):\n",
    "                batch_idx = perm[i * batch_size:(i + 1) * batch_size]\n",
    "                yield X[batch_idx] \n",
    "\n",
    "#     @jit\n",
    "    @partial(jit, static_argnums=(0,1, 4))\n",
    "    def update(self, i, opt_state, batch, forwards=True):\n",
    "#         import pdb; pdb.set_trace()\n",
    "\n",
    "        get_params = self.get_params_f if forwards else self.get_params_b\n",
    "        params = get_params(opt_state)\n",
    "        \n",
    "#         loss = lambda params, batch: np.squeeze(self.inner_loss(params, batch, forwards=forwards))\n",
    "#         import pdb; pdb.set_trace()\n",
    "        gradient = grad(self.inner_loss)(params, batch, forwards)\n",
    "    \n",
    "        opt_update  = self.opt_update_f if forwards else self.opt_update_b\n",
    "        return opt_update(i, gradient, opt_state)\n",
    "        \n",
    "    @staticmethod\n",
    "    def sample_trajectory(X, dt, theta, sigma, b, N, sde_solver, forwards=True):\n",
    "        \n",
    "        # backwards discretisation has a sign flip         \n",
    "        print(b, forwards, sigma)\n",
    "        return sde_solver(alfa=b, beta=sigma,\n",
    "                          dt=dt, X0=X,\n",
    "                          N=N, theta=theta)\n",
    "    \n",
    "#     @staticmethod\n",
    "        \n",
    "    @staticmethod\n",
    "#     @partial(jit, static_argnums=(0,6,7,8,9,10,11))\n",
    "    def inner_loss_jit(terminal_index, theta, batch, dt, \n",
    "                       batch_terminal_empirical, H , b_forward,\n",
    "                       b_backward, sigma, N, sde_solver, forwards):\n",
    "        \n",
    "        b = (b_forward if forwards else (lambda X, theta: -b_backward(X, theta)))\n",
    "        J = 0\n",
    "        \n",
    "        def inner_loss_loop(x):\n",
    "            return -log_kde_pdf_per_point(x.reshape(-1,1), batch_terminal_empirical, H)\n",
    "            t, Xt = cIPFP.sample_trajectory(x, dt, theta,  sigma, b, N, sde_solver, forwards)\n",
    "            cross_entropy = -log_kde_pdf_per_point(Xt[terminal_index].reshape(-1,1), batch_terminal_empirical, H)\n",
    "            main_term = cIPFP.loss_for_trajectory(Xt, b_forward, b_backward, dt, theta, forwards)\n",
    "            return main_term + cross_entropy \n",
    "            \n",
    "#         for x in batch:\n",
    "#             t, Xt = cIPFP.sample_trajectory(x, dt, theta,  sigma, b, N, sde_solver, forwards)\n",
    "            \n",
    "#             cross_entropy = log_kde_pdf_per_point(Xt[terminal_index].reshape(-1,1), batch_terminal_empirical, H)\n",
    "            \n",
    "#             J += cIPFP.loss_for_trajectory(Xt, b_forward, b_backward, dt, theta, forwards)\n",
    "            \n",
    "#             J += cross_entropy\n",
    "        \n",
    "        print(\"done with loop\")\n",
    "#         J /= len(batch)\n",
    "        J = np.mean(jax.vmap(inner_loss_loop)(batch))\n",
    "        print(\"normalised\")\n",
    "        J = np.squeeze(J)\n",
    "#         J = J.block_until_ready() \n",
    "        print(\"done with function\")\n",
    "        return J\n",
    "    \n",
    "#     @partial(jit, static_argnums=(0,3))\n",
    "    def inner_loss(self, theta, batch, forwards=True):\n",
    "                       \n",
    "        terminal_index = -1 if forwards else 0\n",
    "#         X_terminal_empirical = self.X_1 if forwards else self.X_0\n",
    "        X_terminal_empirical = next(self.data_stream(forward=not(forwards)))\n",
    "    \n",
    "        H = self.H_1 if forwards else self.H_0\n",
    "        return self.inner_loss_jit(\n",
    "            terminal_index, theta, batch, self.dt, \n",
    "            X_terminal_empirical, H , self.b_forward,\n",
    "            self.b_backward, self.sigma, self.number_time_steps, self.sde_solver, forwards\n",
    "        )\n",
    "#         self.b_forward, self.b_backward\n",
    "        \n",
    "        \n",
    "#         for x in batch:\n",
    "#             t, Xt = self.sample_trajectory(x, theta, forwards=forwards)\n",
    "            \n",
    "#             cross_entropy = log_kde_pdf_per_point(Xt[terminal_index].reshape(-1,1), X_terminal_empirical, H)\n",
    "            \n",
    "#             J += self.loss_for_trajectory(Xt, self.b_forward, self.b_backward, self.dt, theta, forwards)\n",
    "            \n",
    "#             J += cross_entropy\n",
    "        \n",
    "#         J /= len(batch)\n",
    "        \n",
    "#         return np.squeeze(J)\n",
    "               \n",
    "    def fit(self, IPFP_iterations=10, sub_iterations=10):     \n",
    "        \n",
    "        _, init_params_f = self.b_forward_init(self.rng, (-1, self.dim))                                             \n",
    "        opt_state_f = self.opt_init_f(init_params_f)\n",
    "        \n",
    "        _, init_params_b = self.b_backward_init(self.rng, (-1, self.dim))                                               \n",
    "        opt_state_b = self.opt_init_b(init_params_b)\n",
    "        \n",
    "        batches_f = self.data_stream(forward=True)\n",
    "        batches_b = self.data_stream(forward=False)\n",
    "        \n",
    "        for i in range(IPFP_iterations):\n",
    "                                               \n",
    "            itercount = itertools.count()\n",
    "            \n",
    "            for k in range(sub_iterations):\n",
    "                for _ in range(self.num_batches_b):\n",
    "#                     print(next(itercount), opt_state_b, next(batches_b))\n",
    "                    opt_state_b = self.update(\n",
    "                        next(itercount), opt_state_b, next(batches_b), False\n",
    "                    )\n",
    "                                               \n",
    "            \n",
    "            itercount = itertools.count()\n",
    "            \n",
    "            for k in range(sub_iterations):\n",
    "                for _ in range(self.num_batches_f):\n",
    "                    \n",
    "                    opt_state_f = self.update(\n",
    "                        next(itercount), opt_state_f, next(batches_f), True\n",
    "                    )\n",
    "         \n",
    "\n",
    "        self.theta_f = self.get_params_f(opt_state_f)\n",
    "        self.theta_b = self.get_params_b(opt_state_b)\n",
    "            \n",
    "        "
   ]
  },
  {
   "cell_type": "code",
   "execution_count": 28,
   "metadata": {},
   "outputs": [],
   "source": [
    "X1 = npr.randn(100).reshape(-1,1) - 5\n",
    "X2 = npr.randn(100).reshape(-1,1) + 5"
   ]
  },
  {
   "cell_type": "code",
   "execution_count": 29,
   "metadata": {},
   "outputs": [
    {
     "name": "stdout",
     "output_type": "stream",
     "text": [
      "1\n",
      "1\n"
     ]
    }
   ],
   "source": [
    "c = cIPFP(X1, X2,  number_time_steps=100, batch_size=20)"
   ]
  },
  {
   "cell_type": "code",
   "execution_count": 30,
   "metadata": {},
   "outputs": [],
   "source": [
    " _, init_params_f = c.b_forward_init(c.rng, (-1, c.dim))                                             \n",
    "opt_state_f = c.opt_init_f(init_params_f)\n",
    "\n",
    "\n",
    "theta_f = c.get_params_f(opt_state_f)\n"
   ]
  },
  {
   "cell_type": "code",
   "execution_count": 31,
   "metadata": {},
   "outputs": [
    {
     "data": {
      "text/plain": [
       "((100,), ())"
      ]
     },
     "execution_count": 31,
     "metadata": {},
     "output_type": "execute_result"
    }
   ],
   "source": [
    "theta_f[0][1].shape, theta_f[1]"
   ]
  },
  {
   "cell_type": "code",
   "execution_count": 32,
   "metadata": {},
   "outputs": [
    {
     "name": "stdout",
     "output_type": "stream",
     "text": [
      "<function serial.<locals>.apply_fun at 0x7fe5918df620> True <function cIPFP.__init__.<locals>.<lambda> at 0x7fe5918c5598>\n"
     ]
    }
   ],
   "source": [
    "t, Xt = c.sample_trajectory(X1[0],c.dt,  theta_f,  c.sigma, c.b_forward, c.number_time_steps, c.sde_solver, True)"
   ]
  },
  {
   "cell_type": "code",
   "execution_count": 33,
   "metadata": {},
   "outputs": [
    {
     "data": {
      "text/plain": [
       "[<matplotlib.lines.Line2D at 0x7fe5918cf390>]"
      ]
     },
     "execution_count": 33,
     "metadata": {},
     "output_type": "execute_result"
    },
    {
     "data": {
      "image/png": "[encoded data removed]",
      "text/plain": [
       "<Figure size 432x288 with 1 Axes>"
      ]
     },
     "metadata": {},
     "output_type": "display_data"
    }
   ],
   "source": [
    "import matplotlib.pyplot as plt\n",
    "\n",
    "plt.plot(t, Xt.flatten())"
   ]
  },
  {
   "cell_type": "code",
   "execution_count": 40,
   "metadata": {},
   "outputs": [],
   "source": [
    "import numpy as onp\n",
    "import jax.numpy as np\n",
    "\n",
    "X0 = np.array(X1[0,:])\n",
    "t0=0\n",
    "\n",
    "alfa  = c.b_forward \n",
    "beta = c.sigma\n",
    "randn = onp.random.randn\n",
    "dt = c.dt\n",
    "N= c.number_time_steps\n",
    "theta = theta_f\n",
    "\n",
    "\n",
    "if alfa is None or beta is None:\n",
    "    raise ValueError(\"Error: SDE not defined.\")\n",
    "\n",
    "\n",
    "X0 = randn(*alfa(0, 0).shape) if X0 is None else np.array(X0)\n",
    "#     DW = (lambda Y, dt: randn((len(X0))) * np.sqrt(dt)) if DW is None else DW\n",
    "DWs  = randn(N-1, len(X0))  * np.sqrt(dt)\n",
    "\n",
    "\n",
    "\n",
    "Y, ti = np.zeros((N, len(X0))), np.arange(N)*dt + t0\n",
    "Y = jax.ops.index_update(Y, jax.ops.index[0,:],  X0)\n",
    "\n"
   ]
  },
  {
   "cell_type": "code",
   "execution_count": 8,
   "metadata": {},
   "outputs": [
    {
     "ename": "NameError",
     "evalue": "name 'Xt' is not defined",
     "output_type": "error",
     "traceback": [
      "\u001b[0;31m---------------------------------------------------------------------------\u001b[0m",
      "\u001b[0;31mNameError\u001b[0m                                 Traceback (most recent call last)",
      "\u001b[0;32m<ipython-input-8-7478124a64dc>\u001b[0m in \u001b[0;36m<module>\u001b[0;34m()\u001b[0m\n\u001b[0;32m----> 1\u001b[0;31m \u001b[0mloss\u001b[0m\u001b[0;34m=\u001b[0m \u001b[0mc\u001b[0m\u001b[0;34m.\u001b[0m\u001b[0mloss_for_trajectory\u001b[0m\u001b[0;34m(\u001b[0m\u001b[0mXt\u001b[0m\u001b[0;34m,\u001b[0m \u001b[0mc\u001b[0m\u001b[0;34m.\u001b[0m\u001b[0mb_forward\u001b[0m\u001b[0;34m,\u001b[0m \u001b[0mc\u001b[0m\u001b[0;34m.\u001b[0m\u001b[0mb_backward\u001b[0m\u001b[0;34m,\u001b[0m \u001b[0mc\u001b[0m\u001b[0;34m.\u001b[0m\u001b[0mdt\u001b[0m\u001b[0;34m,\u001b[0m \u001b[0mtheta_f\u001b[0m\u001b[0;34m,\u001b[0m \u001b[0;32mTrue\u001b[0m\u001b[0;34m)\u001b[0m\u001b[0;34m\u001b[0m\u001b[0;34m\u001b[0m\u001b[0m\n\u001b[0m",
      "\u001b[0;31mNameError\u001b[0m: name 'Xt' is not defined"
     ]
    }
   ],
   "source": [
    "loss= c.loss_for_trajectory(Xt, c.b_forward, c.b_backward, c.dt, theta_f, True)"
   ]
  },
  {
   "cell_type": "code",
   "execution_count": 10,
   "metadata": {},
   "outputs": [],
   "source": [
    "cross_entropy = log_kde_pdf_per_point(Xt[-1].reshape(-1,1), X2, c.H_0)"
   ]
  },
  {
   "cell_type": "code",
   "execution_count": 20,
   "metadata": {},
   "outputs": [
    {
     "name": "stdout",
     "output_type": "stream",
     "text": [
      "done with loop\n",
      "normalised\n",
      "done with function\n",
      "CPU times: user 3.6 ms, sys: 207 µs, total: 3.81 ms\n",
      "Wall time: 4.92 ms\n"
     ]
    },
    {
     "data": {
      "text/plain": [
       "DeviceArray(208.71524, dtype=float32)"
      ]
     },
     "execution_count": 20,
     "metadata": {},
     "output_type": "execute_result"
    }
   ],
   "source": [
    "%%time\n",
    "c.inner_loss(theta_f, X1, True)"
   ]
  },
  {
   "cell_type": "code",
   "execution_count": 21,
   "metadata": {},
   "outputs": [
    {
     "name": "stdout",
     "output_type": "stream",
     "text": [
      "done with loop\n",
      "normalised\n",
      "done with function\n",
      "CPU times: user 4.05 ms, sys: 0 ns, total: 4.05 ms\n",
      "Wall time: 5.66 ms\n"
     ]
    },
    {
     "data": {
      "text/plain": [
       "DeviceArray(167.607, dtype=float32)"
      ]
     },
     "execution_count": 21,
     "metadata": {},
     "output_type": "execute_result"
    }
   ],
   "source": [
    "%%time\n",
    "c.inner_loss(theta_f, X1, True)"
   ]
  },
  {
   "cell_type": "code",
   "execution_count": null,
   "metadata": {},
   "outputs": [
    {
     "name": "stdout",
     "output_type": "stream",
     "text": [
      "<function cIPFP.sample_trajectory.<locals>.<lambda> at 0x7f1d0406a2f0> False <function cIPFP.__init__.<locals>.<lambda> at 0x7f1d0406bae8>\n",
      "<function cIPFP.sample_trajectory.<locals>.<lambda> at 0x7f1d04051c80> False <function cIPFP.__init__.<locals>.<lambda> at 0x7f1d0406bae8>\n",
      "<function cIPFP.sample_trajectory.<locals>.<lambda> at 0x7f1cb933e510> False <function cIPFP.__init__.<locals>.<lambda> at 0x7f1d0406bae8>\n"
     ]
    }
   ],
   "source": [
    "\n",
    "_, init_params_f = c.b_forward_init(c.rng, (-1, c.dim))                                             \n",
    "opt_state_f = c.opt_init_f(init_params_f)\n",
    "\n",
    "_, init_params_b = c.b_backward_init(c.rng, (-1, c.dim))                                               \n",
    "opt_state_b = c.opt_init_b(init_params_b)\n",
    "\n",
    "batches_f = c.data_stream(forward=True)\n",
    "batches_b = c.data_stream(forward=False)\n",
    "\n",
    "c.update(0, opt_state_b, next(batches_b), forwards=False)\n",
    "                                       "
   ]
  },
  {
   "cell_type": "code",
   "execution_count": 30,
   "metadata": {},
   "outputs": [],
   "source": [
    "from jax import grad\n"
   ]
  },
  {
   "cell_type": "code",
   "execution_count": 22,
   "metadata": {},
   "outputs": [
    {
     "name": "stdout",
     "output_type": "stream",
     "text": [
      "done with loop\n",
      "normalised\n",
      "done with function\n",
      "CPU times: user 20.6 ms, sys: 324 µs, total: 20.9 ms\n",
      "Wall time: 43.4 ms\n"
     ]
    }
   ],
   "source": [
    "%%time\n",
    "gradient = jit(grad(c.inner_loss), static_argnums=(2))\n",
    "kek = gradient(theta_f, X1, True)\n",
    "partial(jit, static_argnums=(2))(gradient)"
   ]
  },
  {
   "cell_type": "code",
   "execution_count": 23,
   "metadata": {},
   "outputs": [
    {
     "name": "stdout",
     "output_type": "stream",
     "text": [
      "done with loop\n",
      "normalised\n",
      "done with function\n",
      "CPU times: user 5.11 ms, sys: 0 ns, total: 5.11 ms\n",
      "Wall time: 6.77 ms\n"
     ]
    }
   ],
   "source": [
    "%%time\n",
    "gradient = grad(c.inner_loss)(theta_f, X1, True)"
   ]
  },
  {
   "cell_type": "code",
   "execution_count": 10,
   "metadata": {},
   "outputs": [
    {
     "data": {
      "text/plain": [
       "[(DeviceArray([[ -0.        , -12.317046  ,  26.909975  , -14.156485  ,\n",
       "                 -0.        , -10.993611  ,  -0.        ,  -9.039832  ,\n",
       "                 -0.        ,  -3.8734276 ,  27.590124  ,  29.511662  ,\n",
       "                 -0.        ,  -0.        ,  14.634618  ,  10.493859  ,\n",
       "                 -0.        ,   1.8550884 , -36.38197   ,  -0.        ,\n",
       "                 -0.        , -45.346485  ,  -0.        ,   1.2582183 ,\n",
       "                 13.369379  ,   5.5821095 ,  29.204842  , -42.546738  ,\n",
       "                 -0.        ,  -0.        ,  27.665678  , -21.625202  ,\n",
       "                 -0.        ,  -0.        ,  -0.        ,  -0.        ,\n",
       "                 -0.        ,  10.71904   ,  -0.        ,  -0.        ,\n",
       "                 22.910803  ,  -3.4066167 ,  -0.        ,  -0.44451544,\n",
       "                -26.63036   ,  -0.        ,  -0.        ,  -0.        ,\n",
       "                  3.1550138 ,  -0.        ,  -0.        ,  -0.        ,\n",
       "                -29.75839   ,  46.006405  ,  -0.        , -44.690437  ,\n",
       "                 -0.        ,  22.518469  ,  -0.        , -14.123316  ,\n",
       "                 -0.        ,  -0.        ,   7.7469616 ,   3.4722378 ,\n",
       "                 -0.        ,  -0.        , -50.630943  , -35.056053  ,\n",
       "                 34.369255  ,  -0.        ,   3.556268  ,  -0.        ,\n",
       "                 -0.        ,  -0.        ,  21.353273  ,  -0.        ,\n",
       "                -36.79474   ,  -0.        ,  -0.        ,  -0.        ,\n",
       "                 -0.        , -20.20635   ,  -0.        ,  -0.        ,\n",
       "                 -0.7287416 ,  -0.        , -43.55868   ,  15.800814  ,\n",
       "                 34.85149   ,  -0.        ,  13.322841  ,   9.282979  ,\n",
       "                 -0.        ,   7.385717  , -10.876751  , -27.182812  ,\n",
       "                 48.89062   ,  -0.        ,  -0.        ,  -0.        ]],            dtype=float32),\n",
       "  DeviceArray([ 0.        ,  2.3800678 , -5.199913  ,  2.73551   ,\n",
       "                0.        ,  2.1243372 ,  0.        ,  1.7468009 ,\n",
       "                0.        ,  0.7484772 , -5.3313437 , -5.702648  ,\n",
       "                0.        ,  0.        , -2.8279004 , -2.027767  ,\n",
       "                0.        , -0.35846567,  7.030225  ,  0.        ,\n",
       "                0.        ,  8.762468  ,  0.        , -0.24313025,\n",
       "               -2.5834136 , -1.0786521 , -5.643362  ,  8.22146   ,\n",
       "                0.        ,  0.        , -5.345943  ,  4.1787186 ,\n",
       "                0.        ,  0.        ,  0.        ,  0.        ,\n",
       "                0.        , -2.0712793 ,  0.        ,  0.        ,\n",
       "               -4.4271407 ,  0.65827334,  0.        ,  0.08589538,\n",
       "                5.145882  ,  0.        ,  0.        ,  0.        ,\n",
       "               -0.60965484,  0.        ,  0.        ,  0.        ,\n",
       "                5.7503257 , -8.889985  ,  0.        ,  8.6357    ,\n",
       "                0.        , -4.3513293 ,  0.        ,  2.7291002 ,\n",
       "                0.        ,  0.        , -1.4969747 , -0.6709535 ,\n",
       "                0.        ,  0.        ,  9.7836075 ,  6.7740126 ,\n",
       "               -6.641301  ,  0.        , -0.6871913 ,  0.        ,\n",
       "                0.        ,  0.        , -4.126173  ,  0.        ,\n",
       "                7.109987  ,  0.        ,  0.        ,  0.        ,\n",
       "                0.        ,  3.9045475 ,  0.        ,  0.        ,\n",
       "                0.14081743,  0.        ,  8.417007  , -3.0532496 ,\n",
       "               -6.7344832 ,  0.        , -2.574423  , -1.793785  ,\n",
       "                0.        , -1.4271699 ,  2.1017551 ,  5.252637  ,\n",
       "               -9.447319  ,  0.        ,  0.        ,  0.        ],            dtype=float32)),\n",
       " (),\n",
       " (DeviceArray([[ 0.       ],\n",
       "               [33.158897 ],\n",
       "               [28.191319 ],\n",
       "               [ 3.4612358],\n",
       "               [ 0.       ],\n",
       "               [13.055407 ],\n",
       "               [ 0.       ],\n",
       "               [31.287214 ],\n",
       "               [ 0.       ],\n",
       "               [ 9.009082 ],\n",
       "               [ 3.868972 ],\n",
       "               [26.193222 ],\n",
       "               [ 0.       ],\n",
       "               [ 0.       ],\n",
       "               [54.871933 ],\n",
       "               [25.531488 ],\n",
       "               [ 0.       ],\n",
       "               [47.618294 ],\n",
       "               [15.580799 ],\n",
       "               [ 0.       ],\n",
       "               [ 0.       ],\n",
       "               [ 9.767663 ],\n",
       "               [ 0.       ],\n",
       "               [21.854906 ],\n",
       "               [37.338284 ],\n",
       "               [54.01997  ],\n",
       "               [ 2.985104 ],\n",
       "               [21.062138 ],\n",
       "               [ 0.       ],\n",
       "               [ 0.       ],\n",
       "               [22.96788  ],\n",
       "               [53.509632 ],\n",
       "               [ 0.       ],\n",
       "               [ 0.       ],\n",
       "               [ 0.       ],\n",
       "               [ 0.       ],\n",
       "               [ 0.       ],\n",
       "               [35.175407 ],\n",
       "               [ 0.       ],\n",
       "               [ 0.       ],\n",
       "               [ 7.4635887],\n",
       "               [ 6.092967 ],\n",
       "               [ 0.       ],\n",
       "               [14.287008 ],\n",
       "               [22.64474  ],\n",
       "               [ 0.       ],\n",
       "               [ 0.       ],\n",
       "               [ 0.       ],\n",
       "               [ 4.347022 ],\n",
       "               [ 0.       ],\n",
       "               [ 0.       ],\n",
       "               [ 0.       ],\n",
       "               [36.472294 ],\n",
       "               [26.50876  ],\n",
       "               [ 0.       ],\n",
       "               [25.371614 ],\n",
       "               [ 0.       ],\n",
       "               [24.468014 ],\n",
       "               [ 0.       ],\n",
       "               [24.215263 ],\n",
       "               [ 0.       ],\n",
       "               [ 0.       ],\n",
       "               [ 4.0128083],\n",
       "               [ 8.657042 ],\n",
       "               [ 0.       ],\n",
       "               [ 0.       ],\n",
       "               [30.889624 ],\n",
       "               [ 8.3176565],\n",
       "               [12.712825 ],\n",
       "               [ 0.       ],\n",
       "               [45.282322 ],\n",
       "               [ 0.       ],\n",
       "               [ 0.       ],\n",
       "               [ 0.       ],\n",
       "               [20.331804 ],\n",
       "               [ 0.       ],\n",
       "               [25.239477 ],\n",
       "               [ 0.       ],\n",
       "               [ 0.       ],\n",
       "               [ 0.       ],\n",
       "               [ 0.       ],\n",
       "               [ 2.759144 ],\n",
       "               [ 0.       ],\n",
       "               [ 0.       ],\n",
       "               [46.65726  ],\n",
       "               [ 0.       ],\n",
       "               [10.785201 ],\n",
       "               [44.699238 ],\n",
       "               [28.978928 ],\n",
       "               [ 0.       ],\n",
       "               [44.42339  ],\n",
       "               [ 7.06315  ],\n",
       "               [ 0.       ],\n",
       "               [12.636829 ],\n",
       "               [ 1.9113115],\n",
       "               [25.132786 ],\n",
       "               [41.958042 ],\n",
       "               [ 0.       ],\n",
       "               [ 0.       ],\n",
       "               [ 0.       ]], dtype=float32),\n",
       "  DeviceArray([34.32093], dtype=float32))]"
      ]
     },
     "execution_count": 10,
     "metadata": {},
     "output_type": "execute_result"
    }
   ],
   "source": [
    "gradient"
   ]
  },
  {
   "cell_type": "code",
   "execution_count": 34,
   "metadata": {},
   "outputs": [
    {
     "name": "stdout",
     "output_type": "stream",
     "text": [
      "done with loop\n",
      "normalised\n",
      "done with function\n",
      "done with loop\n",
      "normalised\n",
      "done with function\n",
      "done with loop\n",
      "normalised\n",
      "done with function\n",
      "done with loop\n",
      "normalised\n",
      "done with function\n",
      "done with loop\n",
      "normalised\n",
      "done with function\n",
      "done with loop\n",
      "normalised\n",
      "done with function\n",
      "done with loop\n",
      "normalised\n",
      "done with function\n",
      "done with loop\n",
      "normalised\n",
      "done with function\n",
      "done with loop\n",
      "normalised\n",
      "done with function\n",
      "done with loop\n",
      "normalised\n",
      "done with function\n"
     ]
    }
   ],
   "source": [
    "c.fit(1,1)"
   ]
  },
  {
   "cell_type": "code",
   "execution_count": null,
   "metadata": {},
   "outputs": [],
   "source": [
    "print(3)"
   ]
  },
  {
   "cell_type": "code",
   "execution_count": null,
   "metadata": {},
   "outputs": [],
   "source": []
  }
 ],
 "metadata": {
  "kernelspec": {
   "display_name": "Python 3",
   "language": "python",
   "name": "python3"
  },
  "language_info": {
   "codemirror_mode": {
    "name": "ipython",
    "version": 3
   },
   "file_extension": ".py",
   "mimetype": "text/x-python",
   "name": "python",
   "nbconvert_exporter": "python",
   "pygments_lexer": "ipython3",
   "version": "3.6.9"
  }
 },
 "nbformat": 4,
 "nbformat_minor": 2
}
