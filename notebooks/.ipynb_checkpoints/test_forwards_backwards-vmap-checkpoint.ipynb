{
 "cells": [
  {
   "cell_type": "code",
   "execution_count": 1,
   "metadata": {},
   "outputs": [
    {
     "name": "stderr",
     "output_type": "stream",
     "text": [
      "/auto/homes/fav25/jax/jax/lib/xla_bridge.py:116: UserWarning: No GPU/TPU found, falling back to CPU.\n",
      "  warnings.warn('No GPU/TPU found, falling back to CPU.')\n"
     ]
    }
   ],
   "source": [
    "import sys\n",
    "sys.path.append(\"/auto/homes/fav25/jax/\")\n",
    "\n",
    "import jax.numpy as np\n",
    "# import autograd.numpy\n",
    "# import numpy as np\n",
    "\n",
    "from SC_IPFP.sde_solvers import solve_sde_RK\n",
    "from SC_IPFP.utils import log_kde_pdf_per_point, silvermans_rule\n",
    "\n",
    "from jax.config import config\n",
    "from jax import jit, grad, random\n",
    "from jax.experimental import optimizers\n",
    "from jax.experimental import stax\n",
    "from jax.experimental.stax import Dense, Relu, LogSoftmax\n",
    "import numpy.random as npr\n",
    "import jax\n",
    "\n",
    "import itertools\n",
    "from functools import partial\n",
    "# np = jax.numpy\n",
    "# np = autograd.numpy"
   ]
  },
  {
   "cell_type": "code",
   "execution_count": 141,
   "metadata": {},
   "outputs": [],
   "source": [
    "class cIPFP(object):\n",
    "    \n",
    "    def __init__(self, X_0, X_1, weights=[100], batch_size=None,  rng = jax.random.PRNGKey(0), \n",
    "                nrng = npr.RandomState(0), number_time_steps=16, sde_solver=solve_sde_RK, sigma_sq=1, \n",
    "                step_size = 0.001, num_epochs = 10, momentum_mass = 0.9, create_network=None):\n",
    "        \n",
    "        self.sde_solver = sde_solver\n",
    "        \n",
    "        self.number_time_steps = number_time_steps\n",
    "        self.dt = 1.0 / number_time_steps\n",
    "        \n",
    "        \n",
    "        self.batch_size_f = X_0.shape[0] if batch_size is None else batch_size\n",
    "        self.batch_size_b = X_1.shape[0] if batch_size is None else batch_size\n",
    "        \n",
    "        \n",
    "        self.X_0 = X_0\n",
    "        self.X_1 = X_1\n",
    "        \n",
    "        self.H_0 = silvermans_rule(X_0)\n",
    "        self.H_1 = silvermans_rule(X_1)\n",
    "        \n",
    "        _, self.dim = self.X_0.shape\n",
    "        \n",
    "        create_net = self.create_network if  create_network is None else create_network\n",
    "        \n",
    "        self.b_forward_init, self.b_forward = create_net(\n",
    "            self.dim, weights\n",
    "        )\n",
    "        self.b_backward_init, self.b_backward = create_net(\n",
    "            self.dim, weights\n",
    "        )\n",
    "        \n",
    "        self.sigma = (lambda X,t: sigma_sq)\n",
    "        \n",
    "        self.rng = rng\n",
    "        self.nrng = nrng\n",
    "        \n",
    "        self.opt_init_f, self.opt_update_f, self.get_params_f = (\n",
    "            optimizers.momentum(step_size, mass=momentum_mass)\n",
    "        )\n",
    "        \n",
    "        self.opt_init_b, self.opt_update_b, self.get_params_b = (\n",
    "            optimizers.momentum(step_size, mass=momentum_mass)\n",
    "        )\n",
    "        \n",
    "        num_complete_batches_f, leftover_f = divmod(self.X_0.shape[0], self.batch_size_f)\n",
    "        self.num_batches_f = num_complete_batches_f + bool(leftover_f)\n",
    "                                               \n",
    "        num_complete_batches_b, leftover_b = divmod(self.X_1.shape[0], self.batch_size_b)\n",
    "        self.num_batches_b = num_complete_batches_b + bool(leftover_b)\n",
    "        \n",
    "        self.theta_f = None\n",
    "        self.theta_b = None\n",
    "        \n",
    "    \n",
    "    @staticmethod\n",
    "    def create_network(dim, weights):\n",
    "        \n",
    "        model  = []\n",
    "        for weight in weights:\n",
    "            model.append(\n",
    "                Dense(weight)\n",
    "            )\n",
    "                        \n",
    "            model.append(\n",
    "                Relu\n",
    "            )\n",
    "            \n",
    "        \n",
    "        model.append(Dense(dim))\n",
    "    \n",
    "        init_random_params, predict = stax.serial(\n",
    "           *model\n",
    "        )\n",
    "        return init_random_params, predict\n",
    "        \n",
    "    @staticmethod\n",
    "    @partial(jit, static_argnums=(1,2, 5))\n",
    "    def loss_for_trajectory(Xt, b_f, b_b, dt, theta, forwards):\n",
    "        \n",
    "        if not forwards : Xt = Xt[::-1, :]\n",
    "        \n",
    "        b_minus  = b_b(theta, Xt)\n",
    "        b_plus = b_f(theta, Xt)\n",
    "        \n",
    "        delta_Xt = Xt[:-1, :]  - Xt[1:, :]\n",
    "        \n",
    "        sign = 1.0 if forwards else -1.0\n",
    "        \n",
    "        ito_integral = sign *  (b_plus[1:,:] - b_minus[:-1,:])  * delta_Xt\n",
    "        \n",
    "        time_integral = sign *  (b_plus**2 - b_minus**2) * dt # Not sure about this dt here\n",
    "        \n",
    "        return ito_integral.sum() - 0.5 * time_integral.sum()\n",
    "        \n",
    "    def data_stream(self, forward=True):\n",
    "        rng = self.nrng\n",
    "        X = self.X_0 if forward else self.X_1\n",
    "        \n",
    "        batch_size = self.batch_size_f if forward else self.batch_size_b\n",
    "        num_batches = self.num_batches_f if forward else self.num_batches_b\n",
    "        \n",
    "        num_train = self.X_0.shape[0] if forward else self.X_1.shape[0]\n",
    "        while True:\n",
    "            perm = rng.permutation(num_train)\n",
    "            for i in range(num_batches):\n",
    "                batch_idx = perm[i * batch_size:(i + 1) * batch_size]\n",
    "                yield X[batch_idx] \n",
    "        \n",
    "    @staticmethod\n",
    "    def sample_trajectory(X, dt, theta, sigma, b, N, sde_solver, forwards=True):\n",
    "        return sde_solver(alfa=b, beta=sigma,\n",
    "                          dt=dt, X0=X,\n",
    "                          N=N, theta=theta)\n",
    "\n",
    "    @staticmethod\n",
    "#     @partial(jit, static_argnums=(0,6,7,8,9,10,11))\n",
    "    def inner_loss_jit(terminal_index, theta, batch, dt, \n",
    "                       batch_terminal_empirical, H , b_forward,\n",
    "                       b_backward, sigma, N, sde_solver, forwards):\n",
    "        \n",
    "        b = (b_forward if forwards else (lambda X, theta: -b_backward(X, theta)))\n",
    "        \n",
    "        def inner_loss_loop(x):\n",
    "            t, Xt = cIPFP.sample_trajectory(x, dt, theta,  sigma, b, N, sde_solver, forwards)\n",
    "            cross_entropy = -log_kde_pdf_per_point(Xt[-1].reshape(-1,1), batch_terminal_empirical, H)\n",
    "            main_term = cIPFP.loss_for_trajectory(Xt, b_forward, b_backward, dt, theta, forwards)\n",
    "            return main_term + cross_entropy \n",
    "            \n",
    "#         for x in batch:\n",
    "#             t, Xt = cIPFP.sample_trajectory(x, dt, theta,  sigma, b, N, sde_solver, forwards)\n",
    "            \n",
    "#             cross_entropy = log_kde_pdf_per_point(Xt[terminal_index].reshape(-1,1), batch_terminal_empirical, H)\n",
    "            \n",
    "#             J += cIPFP.loss_for_trajectory(Xt, b_forward, b_backward, dt, theta, forwards)\n",
    "            \n",
    "#             J += cross_entropy\n",
    "        \n",
    "#         J /= len(batch)\n",
    "        J = np.mean(jax.vmap(inner_loss_loop)(batch))\n",
    "        J = np.squeeze(J)\n",
    "#         J = J.block_until_ready() \n",
    "        return J\n",
    "    \n",
    "    @partial(jit, static_argnums=(0,2))\n",
    "    def transport_batch(self, batch_x, forwards):\n",
    "        theta = self.theta_f if forwards else self.theta_b\n",
    "        b = self.b_forward if forwards else self.b_backward\n",
    "        dt = self.dt\n",
    "        N = self.number_time_steps\n",
    "        sde_solver = self.sde_solver\n",
    "        \n",
    "        def inner_loss_loop(x):\n",
    "            t, Xt = cIPFP.sample_trajectory(x, dt, theta,  sigma, b, N, sde_solver, forwards)\n",
    "            return Xt[-1, :]\n",
    "        \n",
    "        batch_y = jax.vmap(inner_loss_loop)(batch_x)\n",
    "        return batch_y\n",
    "    \n",
    "    def inner_loss(self, theta, batch, forwards=True):\n",
    "                       \n",
    "        terminal_index = -1 if forwards else 0\n",
    "        X_terminal_empirical = next(self.data_stream(forward=not(forwards)))\n",
    "    \n",
    "        H = self.H_1 if forwards else self.H_0\n",
    "        return self.inner_loss_jit(\n",
    "            terminal_index, theta, batch, self.dt, \n",
    "            X_terminal_empirical, H , self.b_forward,\n",
    "            self.b_backward, self.sigma, self.number_time_steps, self.sde_solver, forwards\n",
    "        )\n",
    "\n",
    "    @partial(jit, static_argnums=(0,1, 4))\n",
    "    def update(self, i, opt_state, batch, forwards=True):\n",
    "\n",
    "        get_params = self.get_params_f if forwards else self.get_params_b\n",
    "        params = get_params(opt_state)\n",
    "        \n",
    "        gradient = grad(self.inner_loss)(params, batch, forwards)\n",
    "    \n",
    "        opt_update  = self.opt_update_f if forwards else self.opt_update_b\n",
    "        return opt_update(i, gradient, opt_state)\n",
    "\n",
    "    def fit(self, IPFP_iterations=10, sub_iterations=10):     \n",
    "        \n",
    "        _, init_params_f = self.b_forward_init(self.rng, (-1, self.dim))                                             \n",
    "        opt_state_f = self.opt_init_f(init_params_f)\n",
    "        \n",
    "        _, init_params_b = self.b_backward_init(self.rng, (-1, self.dim))                                               \n",
    "        opt_state_b = self.opt_init_b(init_params_b)\n",
    "        \n",
    "        batches_f = self.data_stream(forward=True)\n",
    "        batches_b = self.data_stream(forward=False)\n",
    "        \n",
    "        loss_f, loss_b = [], []\n",
    "        \n",
    "        for i in range(IPFP_iterations):\n",
    "                                               \n",
    "            itercount = itertools.count()\n",
    "            \n",
    "            for k in range(sub_iterations):\n",
    "                for _ in range(self.num_batches_b):\n",
    "                    print(_)\n",
    "                    batch_b =  next(batches_b)\n",
    "                    opt_state_b  = self.update(\n",
    "                        next(itercount), opt_state_b, batch_b, False\n",
    "                    )\n",
    "\n",
    "                params = self.get_params_b(opt_state_b)\n",
    "                lossb = self.inner_loss(params, batch_b, False)\n",
    "                print(f\"loss b {lossb}\")\n",
    "            loss_b.append(lossb)\n",
    "                                               \n",
    "            \n",
    "            itercount = itertools.count()\n",
    "            \n",
    "            for k in range(sub_iterations):\n",
    "                for _ in range(self.num_batches_f):\n",
    "                    print(_)\n",
    "                    batch_f =  next(batches_f)\n",
    "                    opt_state_f = self.update(\n",
    "                        next(itercount), opt_state_f, next(batches_f), True\n",
    "                    )\n",
    "                params = self.get_params_f(opt_state_f)\n",
    "                lossf = self.inner_loss(params, batch_f, True)\n",
    "                print(f\"loss f {lossf}\")\n",
    "            loss_f.append(lossf)\n",
    "         \n",
    "\n",
    "        self.theta_f = self.get_params_f(opt_state_f)\n",
    "        self.theta_b = self.get_params_b(opt_state_b)\n",
    "        \n",
    "        plt.plot(range(IPFP_iterations), loss_f, \"g\")\n",
    "        plt.show()\n",
    "        plt.plot(range(IPFP_iterations), loss_b, \"b\")\n",
    "        plt.show()\n",
    "            "
   ]
  },
  {
   "cell_type": "code",
   "execution_count": 236,
   "metadata": {},
   "outputs": [
    {
     "data": {
      "text/plain": [
       "[<matplotlib.lines.Line2D at 0x7fe5737a4278>]"
      ]
     },
     "execution_count": 236,
     "metadata": {},
     "output_type": "execute_result"
    },
    {
     "data": {
      "image/png": "[encoded data removed]",
      "text/plain": [
       "<Figure size 432x288 with 1 Axes>"
      ]
     },
     "metadata": {},
     "output_type": "display_data"
    }
   ],
   "source": [
    "X1 = npr.randn(100).reshape(-1,1) - 5\n",
    "X21 = 0.6 * npr.randn(50).reshape(-1,1) + 8\n",
    "X22 =  0.6 * npr.randn(50).reshape(-1,1) + 2\n",
    "X2 = np.concatenate((X21, X22), axis=0)\n",
    "\n",
    "plt.plot(X2.flatten(), [0] * 100, '.')\n",
    "plt.plot(X1.flatten(), [0] * 100, '.')"
   ]
  },
  {
   "cell_type": "code",
   "execution_count": 237,
   "metadata": {},
   "outputs": [],
   "source": [
    "c = cIPFP(X1, X2,  number_time_steps=100, batch_size=50 , step_size = 0.0001)"
   ]
  },
  {
   "cell_type": "code",
   "execution_count": 238,
   "metadata": {},
   "outputs": [],
   "source": [
    " _, init_params_f = c.b_forward_init(c.rng, (-1, c.dim))                                             \n",
    "opt_state_f = c.opt_init_f(init_params_f)\n",
    "\n",
    "\n",
    "theta_f = c.get_params_f(opt_state_f)\n"
   ]
  },
  {
   "cell_type": "code",
   "execution_count": 239,
   "metadata": {},
   "outputs": [
    {
     "data": {
      "text/plain": [
       "((100,), ())"
      ]
     },
     "execution_count": 239,
     "metadata": {},
     "output_type": "execute_result"
    }
   ],
   "source": [
    "theta_f[0][1].shape, theta_f[1]"
   ]
  },
  {
   "cell_type": "code",
   "execution_count": 240,
   "metadata": {},
   "outputs": [],
   "source": [
    "t, Xt = c.sample_trajectory(X1[0],c.dt,  theta_f,  c.sigma, c.b_forward, c.number_time_steps, c.sde_solver, True)"
   ]
  },
  {
   "cell_type": "code",
   "execution_count": 241,
   "metadata": {},
   "outputs": [
    {
     "data": {
      "text/plain": [
       "[<matplotlib.lines.Line2D at 0x7fe55dfa4198>]"
      ]
     },
     "execution_count": 241,
     "metadata": {},
     "output_type": "execute_result"
    },
    {
     "data": {
      "image/png": "[encoded data removed]",
      "text/plain": [
       "<Figure size 432x288 with 1 Axes>"
      ]
     },
     "metadata": {},
     "output_type": "display_data"
    }
   ],
   "source": [
    "import matplotlib.pyplot as plt\n",
    "\n",
    "plt.plot(t, Xt.flatten())"
   ]
  },
  {
   "cell_type": "code",
   "execution_count": 242,
   "metadata": {},
   "outputs": [],
   "source": [
    "import numpy as onp\n",
    "import jax.numpy as np\n",
    "\n",
    "X0 = np.array(X1[0,:])\n",
    "t0=0\n",
    "\n",
    "alfa  = c.b_forward \n",
    "beta = c.sigma\n",
    "randn = onp.random.randn\n",
    "dt = c.dt\n",
    "N= c.number_time_steps\n",
    "theta = theta_f\n",
    "\n",
    "\n",
    "if alfa is None or beta is None:\n",
    "    raise ValueError(\"Error: SDE not defined.\")\n",
    "\n",
    "\n",
    "X0 = randn(*alfa(0, 0).shape) if X0 is None else np.array(X0)\n",
    "#     DW = (lambda Y, dt: randn((len(X0))) * np.sqrt(dt)) if DW is None else DW\n",
    "DWs  = randn(N-1, len(X0))  * np.sqrt(dt)\n",
    "\n",
    "\n",
    "\n",
    "Y, ti = np.zeros((N, len(X0))), np.arange(N)*dt + t0\n",
    "Y = jax.ops.index_update(Y, jax.ops.index[0,:],  X0)\n",
    "\n"
   ]
  },
  {
   "cell_type": "code",
   "execution_count": 243,
   "metadata": {},
   "outputs": [],
   "source": [
    "loss= c.loss_for_trajectory(Xt, c.b_forward, c.b_backward, c.dt, theta_f, True)"
   ]
  },
  {
   "cell_type": "code",
   "execution_count": 244,
   "metadata": {},
   "outputs": [],
   "source": [
    "cross_entropy = log_kde_pdf_per_point(Xt[-1].reshape(-1,1), X2, c.H_0)"
   ]
  },
  {
   "cell_type": "code",
   "execution_count": 245,
   "metadata": {},
   "outputs": [
    {
     "name": "stdout",
     "output_type": "stream",
     "text": [
      "CPU times: user 372 ms, sys: 4.11 ms, total: 376 ms\n",
      "Wall time: 363 ms\n"
     ]
    },
    {
     "data": {
      "text/plain": [
       "DeviceArray(55.79356, dtype=float32)"
      ]
     },
     "execution_count": 245,
     "metadata": {},
     "output_type": "execute_result"
    }
   ],
   "source": [
    "%%time\n",
    "c.inner_loss(theta_f, X1, True)"
   ]
  },
  {
   "cell_type": "code",
   "execution_count": 246,
   "metadata": {},
   "outputs": [
    {
     "name": "stdout",
     "output_type": "stream",
     "text": [
      "CPU times: user 7.26 ms, sys: 8.09 ms, total: 15.3 ms\n",
      "Wall time: 7.83 ms\n"
     ]
    },
    {
     "data": {
      "text/plain": [
       "DeviceArray(41.481342, dtype=float32)"
      ]
     },
     "execution_count": 246,
     "metadata": {},
     "output_type": "execute_result"
    }
   ],
   "source": [
    "%%time\n",
    "c.inner_loss(theta_f, X1, True)"
   ]
  },
  {
   "cell_type": "code",
   "execution_count": 247,
   "metadata": {},
   "outputs": [],
   "source": [
    "\n",
    "# _, init_params_f = c.b_forward_init(c.rng, (-1, c.dim))                                             \n",
    "# opt_state_f = c.opt_init_f(init_params_f)\n",
    "\n",
    "# _, init_params_b = c.b_backward_init(c.rng, (-1, c.dim))                                               \n",
    "# opt_state_b = c.opt_init_b(init_params_b)\n",
    "\n",
    "# batches_f = c.data_stream(forward=True)\n",
    "# batches_b = c.data_stream(forward=False)\n",
    "\n",
    "# c.update(0, opt_state_b, next(batches_b), forwards=False)\n",
    "                                       "
   ]
  },
  {
   "cell_type": "code",
   "execution_count": 248,
   "metadata": {},
   "outputs": [],
   "source": [
    "from jax import grad\n"
   ]
  },
  {
   "cell_type": "code",
   "execution_count": 249,
   "metadata": {},
   "outputs": [
    {
     "name": "stdout",
     "output_type": "stream",
     "text": [
      "CPU times: user 2.64 s, sys: 11.7 ms, total: 2.65 s\n",
      "Wall time: 2.64 s\n"
     ]
    }
   ],
   "source": [
    "%%time\n",
    "gradient = jit(grad(c.inner_loss), static_argnums=(2))\n",
    "kek = gradient(theta_f, X1, True)\n",
    "# partial(jit, static_argnums=(2))(gradient)"
   ]
  },
  {
   "cell_type": "code",
   "execution_count": 250,
   "metadata": {},
   "outputs": [
    {
     "name": "stdout",
     "output_type": "stream",
     "text": [
      "CPU times: user 1.39 ms, sys: 16 µs, total: 1.41 ms\n",
      "Wall time: 616 µs\n"
     ]
    }
   ],
   "source": [
    "%%time\n",
    "kek = gradient(theta_f, X1, True)"
   ]
  },
  {
   "cell_type": "code",
   "execution_count": 251,
   "metadata": {},
   "outputs": [
    {
     "name": "stdout",
     "output_type": "stream",
     "text": [
      "0\n",
      "1\n",
      "loss b 114.7623519897461\n",
      "0\n",
      "1\n",
      "loss f 23.772493362426758\n"
     ]
    },
    {
     "data": {
      "image/png": "[encoded data removed]",
      "text/plain": [
       "<Figure size 432x288 with 1 Axes>"
      ]
     },
     "metadata": {},
     "output_type": "display_data"
    },
    {
     "data": {
      "image/png": "[encoded data removed]",
      "text/plain": [
       "<Figure size 432x288 with 1 Axes>"
      ]
     },
     "metadata": {},
     "output_type": "display_data"
    },
    {
     "name": "stdout",
     "output_type": "stream",
     "text": [
      "CPU times: user 11.2 s, sys: 14.9 ms, total: 11.2 s\n",
      "Wall time: 11.2 s\n"
     ]
    }
   ],
   "source": [
    "%%time\n",
    "c.fit(1,1)"
   ]
  },
  {
   "cell_type": "code",
   "execution_count": 252,
   "metadata": {},
   "outputs": [
    {
     "name": "stdout",
     "output_type": "stream",
     "text": [
      "0\n",
      "1\n",
      "loss b 133.28282165527344\n",
      "0\n",
      "1\n",
      "loss f 34.172637939453125\n"
     ]
    },
    {
     "data": {
      "image/png": "[encoded data removed]",
      "text/plain": [
       "<Figure size 432x288 with 1 Axes>"
      ]
     },
     "metadata": {},
     "output_type": "display_data"
    },
    {
     "data": {
      "image/png": "[encoded data removed]",
      "text/plain": [
       "<Figure size 432x288 with 1 Axes>"
      ]
     },
     "metadata": {},
     "output_type": "display_data"
    },
    {
     "name": "stdout",
     "output_type": "stream",
     "text": [
      "CPU times: user 466 ms, sys: 6.9 ms, total: 473 ms\n",
      "Wall time: 429 ms\n"
     ]
    }
   ],
   "source": [
    "%%time\n",
    "c.fit(1,1)"
   ]
  },
  {
   "cell_type": "code",
   "execution_count": null,
   "metadata": {
    "scrolled": false
   },
   "outputs": [
    {
     "name": "stdout",
     "output_type": "stream",
     "text": [
      "0\n",
      "1\n",
      "loss b 97.4006118774414\n",
      "0\n",
      "1\n",
      "loss b 152.15919494628906\n",
      "0\n"
     ]
    }
   ],
   "source": [
    "c.fit(100,30)"
   ]
  },
  {
   "cell_type": "code",
   "execution_count": 208,
   "metadata": {},
   "outputs": [],
   "source": [
    "t, Xt = c.sample_trajectory(X1[0],c.dt,  c.theta_f,  c.sigma, c.b_forward, c.number_time_steps, c.sde_solver, True)"
   ]
  },
  {
   "cell_type": "code",
   "execution_count": 209,
   "metadata": {},
   "outputs": [
    {
     "data": {
      "text/plain": [
       "[<matplotlib.lines.Line2D at 0x7fe574d1dac8>]"
      ]
     },
     "execution_count": 209,
     "metadata": {},
     "output_type": "execute_result"
    },
    {
     "data": {
      "image/png": "[encoded data removed]",
      "text/plain": [
       "<Figure size 432x288 with 1 Axes>"
      ]
     },
     "metadata": {},
     "output_type": "display_data"
    }
   ],
   "source": [
    "plt.plot(t.flatten(), Xt.flatten())"
   ]
  },
  {
   "cell_type": "code",
   "execution_count": 210,
   "metadata": {},
   "outputs": [],
   "source": [
    "bb = lambda X, theta: -c.b_backward(X, theta)\n",
    "\n",
    "t, Xt = c.sample_trajectory(X2[0],c.dt,  c.theta_b,  c.sigma, bb, c.number_time_steps, c.sde_solver, False)"
   ]
  },
  {
   "cell_type": "code",
   "execution_count": 211,
   "metadata": {},
   "outputs": [
    {
     "data": {
      "text/plain": [
       "[<matplotlib.lines.Line2D at 0x7fe565c0a400>]"
      ]
     },
     "execution_count": 211,
     "metadata": {},
     "output_type": "execute_result"
    },
    {
     "data": {
      "image/png": "[encoded data removed]",
      "text/plain": [
       "<Figure size 432x288 with 1 Axes>"
      ]
     },
     "metadata": {},
     "output_type": "display_data"
    }
   ],
   "source": [
    "plt.plot(t.flatten(), Xt.flatten())"
   ]
  },
  {
   "cell_type": "code",
   "execution_count": 219,
   "metadata": {},
   "outputs": [],
   "source": [
    "@partial(jit, static_argnums=(0,2))\n",
    "def transport_batch(self, batch_x, forwards):\n",
    "    theta = self.theta_f if forwards else self.theta_b\n",
    "    b = self.b_forward if forwards else  lambda X, theta: -self.b_backward(X, theta)\n",
    "    dt = self.dt\n",
    "    N = self.number_time_steps\n",
    "    sde_solver = self.sde_solver\n",
    "    sigma = self.sigma\n",
    "\n",
    "    def inner_loss_loop(x):\n",
    "        t, Xt = cIPFP.sample_trajectory(x, dt, theta,  sigma, b, N, sde_solver, forwards)\n",
    "        return Xt[-1, :]\n",
    "\n",
    "    batch_y = jax.vmap(inner_loss_loop)(batch_x)\n",
    "    return batch_y"
   ]
  },
  {
   "cell_type": "code",
   "execution_count": 220,
   "metadata": {},
   "outputs": [],
   "source": [
    "X22 = transport_batch(c, X1, True)"
   ]
  },
  {
   "cell_type": "code",
   "execution_count": 221,
   "metadata": {},
   "outputs": [
    {
     "data": {
      "text/plain": [
       "DeviceArray(4.0651765, dtype=float32)"
      ]
     },
     "execution_count": 221,
     "metadata": {},
     "output_type": "execute_result"
    }
   ],
   "source": [
    "X22.mean()"
   ]
  },
  {
   "cell_type": "code",
   "execution_count": 222,
   "metadata": {},
   "outputs": [
    {
     "data": {
      "text/plain": [
       "4.974274656883583"
      ]
     },
     "execution_count": 222,
     "metadata": {},
     "output_type": "execute_result"
    }
   ],
   "source": [
    "X2.mean()"
   ]
  },
  {
   "cell_type": "code",
   "execution_count": 223,
   "metadata": {},
   "outputs": [
    {
     "data": {
      "text/plain": [
       "-4.945354396506605"
      ]
     },
     "execution_count": 223,
     "metadata": {},
     "output_type": "execute_result"
    }
   ],
   "source": [
    "X1.mean()"
   ]
  },
  {
   "cell_type": "code",
   "execution_count": 224,
   "metadata": {},
   "outputs": [],
   "source": [
    "X11 = transport_batch(c, X2, False)"
   ]
  },
  {
   "cell_type": "code",
   "execution_count": 225,
   "metadata": {},
   "outputs": [
    {
     "data": {
      "text/plain": [
       "DeviceArray(-5.4617352, dtype=float32)"
      ]
     },
     "execution_count": 225,
     "metadata": {},
     "output_type": "execute_result"
    }
   ],
   "source": [
    "X11.mean()"
   ]
  },
  {
   "cell_type": "code",
   "execution_count": null,
   "metadata": {},
   "outputs": [],
   "source": []
  }
 ],
 "metadata": {
  "kernelspec": {
   "display_name": "Python 3",
   "language": "python",
   "name": "python3"
  },
  "language_info": {
   "codemirror_mode": {
    "name": "ipython",
    "version": 3
   },
   "file_extension": ".py",
   "mimetype": "text/x-python",
   "name": "python",
   "nbconvert_exporter": "python",
   "pygments_lexer": "ipython3",
   "version": "3.6.9"
  }
 },
 "nbformat": 4,
 "nbformat_minor": 2
}
