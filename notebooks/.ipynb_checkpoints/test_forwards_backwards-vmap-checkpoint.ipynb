{
 "cells": [
  {
   "cell_type": "code",
   "execution_count": 1,
   "metadata": {},
   "outputs": [
    {
     "name": "stderr",
     "output_type": "stream",
     "text": [
      "/auto/homes/fav25/jax/jax/lib/xla_bridge.py:116: UserWarning: No GPU/TPU found, falling back to CPU.\n",
      "  warnings.warn('No GPU/TPU found, falling back to CPU.')\n"
     ]
    }
   ],
   "source": [
    "import sys\n",
    "sys.path.append(\"/auto/homes/fav25/jax/\")\n",
    "\n",
    "import jax.numpy as np\n",
    "# import autograd.numpy\n",
    "# import numpy as np\n",
    "\n",
    "from SC_IPFP.sde_solvers import solve_sde_RK\n",
    "from SC_IPFP.utils import log_kde_pdf_per_point, silvermans_rule\n",
    "\n",
    "from jax.config import config\n",
    "from jax import jit, grad, random\n",
    "from jax.experimental import optimizers\n",
    "from jax.experimental import stax\n",
    "from jax.experimental.stax import Dense, Relu, LogSoftmax\n",
    "import numpy.random as npr\n",
    "import jax\n",
    "\n",
    "import itertools\n",
    "from functools import partial\n",
    "# np = jax.numpy\n",
    "# np = autograd.numpy"
   ]
  },
  {
   "cell_type": "code",
   "execution_count": 313,
   "metadata": {},
   "outputs": [],
   "source": [
    "class cIPFP(object):\n",
    "    \n",
    "    def __init__(self, X_0, X_1, weights=[100], batch_size=None,  rng = jax.random.PRNGKey(0), \n",
    "                nrng = npr.RandomState(0), number_time_steps=16, sde_solver=solve_sde_RK, sigma_sq=1, \n",
    "                step_size = 0.001, num_epochs = 10, momentum_mass = 0.9, create_network=None):\n",
    "        \n",
    "        self.sde_solver = sde_solver\n",
    "        \n",
    "        self.number_time_steps = number_time_steps\n",
    "        self.dt = 1.0 / number_time_steps\n",
    "        \n",
    "        \n",
    "        self.batch_size_f = X_0.shape[0] if batch_size is None else batch_size\n",
    "        self.batch_size_b = X_1.shape[0] if batch_size is None else batch_size\n",
    "        \n",
    "        \n",
    "        self.X_0 = X_0\n",
    "        self.X_1 = X_1\n",
    "        \n",
    "        self.H_0 = silvermans_rule(X_0)\n",
    "        self.H_1 = silvermans_rule(X_1)\n",
    "        \n",
    "        _, self.dim = self.X_0.shape\n",
    "        \n",
    "        create_net = self.create_network if  create_network is None else create_network\n",
    "        \n",
    "        self.b_forward_init, self.b_forward = create_net(\n",
    "            self.dim, weights\n",
    "        )\n",
    "        self.b_backward_init, self.b_backward = create_net(\n",
    "            self.dim, weights\n",
    "        )\n",
    "        \n",
    "        self.sigma = (lambda X,t: sigma_sq)\n",
    "        \n",
    "        self.rng = rng\n",
    "        self.nrng = nrng\n",
    "        \n",
    "        self.opt_init_f, self.opt_update_f, self.get_params_f = (\n",
    "            optimizers.adam(step_size) #, mass=momentum_mass)\n",
    "        )\n",
    "        \n",
    "        self.opt_init_b, self.opt_update_b, self.get_params_b = (\n",
    "            optimizers.adam(step_size) #, mass=momentum_mass)\n",
    "        )\n",
    "        \n",
    "        num_complete_batches_f, leftover_f = divmod(self.X_0.shape[0], self.batch_size_f)\n",
    "        self.num_batches_f = num_complete_batches_f + bool(leftover_f)\n",
    "                                               \n",
    "        num_complete_batches_b, leftover_b = divmod(self.X_1.shape[0], self.batch_size_b)\n",
    "        self.num_batches_b = num_complete_batches_b + bool(leftover_b)\n",
    "        \n",
    "        self.theta_f = None\n",
    "        self.theta_b = None\n",
    "        \n",
    "    \n",
    "    @staticmethod\n",
    "    def create_network(dim, weights):\n",
    "        \n",
    "        model  = []\n",
    "        for weight in weights:\n",
    "            model.append(\n",
    "                Dense(weight)\n",
    "            )\n",
    "                        \n",
    "            model.append(\n",
    "                Relu\n",
    "            )\n",
    "            \n",
    "        \n",
    "        model.append(Dense(dim))\n",
    "    \n",
    "        init_random_params, predict = stax.serial(\n",
    "           *model\n",
    "        )\n",
    "        return init_random_params, predict\n",
    "        \n",
    "    @staticmethod\n",
    "    @partial(jit, static_argnums=(1,2, 5))\n",
    "    def loss_for_trajectory(Xt, b_f, b_b, dt, theta, forwards):\n",
    "        \n",
    "        if not forwards : Xt = Xt[::-1, :]\n",
    "        \n",
    "        b_minus  = b_b(theta, Xt)\n",
    "        b_plus = b_f(theta, Xt)\n",
    "        \n",
    "        delta_Xt = Xt[:-1, :]  - Xt[1:, :]\n",
    "        \n",
    "        sign = 1.0 if forwards else -1.0\n",
    "        \n",
    "        ito_integral = sign *  (b_plus[1:,:] - b_minus[:-1,:])  * delta_Xt\n",
    "        \n",
    "        time_integral = sign *  (b_plus**2 - b_minus**2) * dt # Not sure about this dt here\n",
    "        \n",
    "        return ito_integral.sum() - 0.5 * time_integral.sum()\n",
    "        \n",
    "    def data_stream(self, forward=True):\n",
    "        rng = self.nrng\n",
    "        X = self.X_0 if forward else self.X_1\n",
    "        \n",
    "        batch_size = self.batch_size_f if forward else self.batch_size_b\n",
    "        num_batches = self.num_batches_f if forward else self.num_batches_b\n",
    "        \n",
    "        num_train = self.X_0.shape[0] if forward else self.X_1.shape[0]\n",
    "        while True:\n",
    "            perm = rng.permutation(num_train)\n",
    "            for i in range(num_batches):\n",
    "                batch_idx = perm[i * batch_size:(i + 1) * batch_size]\n",
    "                yield X[batch_idx] \n",
    "        \n",
    "    @staticmethod\n",
    "    def sample_trajectory(X, dt, theta, sigma, b, N, sde_solver, forwards=True):\n",
    "        return sde_solver(alfa=b, beta=sigma,\n",
    "                          dt=dt, X0=X,\n",
    "                          N=N, theta=theta)\n",
    "\n",
    "    @staticmethod\n",
    "#     @partial(jit, static_argnums=(0,6,7,8,9,10,11))\n",
    "    def inner_loss_jit(terminal_index, theta, batch, dt, \n",
    "                       batch_terminal_empirical, H , b_forward,\n",
    "                       b_backward, sigma, N, sde_solver, forwards):\n",
    "        \n",
    "        b = (b_forward if forwards else (lambda X, theta: -b_backward(X, theta)))\n",
    "        \n",
    "        def inner_loss_loop(x):\n",
    "            t, Xt = cIPFP.sample_trajectory(x, dt, theta,  sigma, b, N, sde_solver, forwards)\n",
    "            cross_entropy = -log_kde_pdf_per_point(Xt[-1].reshape(-1,1), batch_terminal_empirical, H)\n",
    "            main_term = cIPFP.loss_for_trajectory(Xt, b_forward, b_backward, dt, theta, forwards)\n",
    "            return main_term + cross_entropy \n",
    "            \n",
    "#         for x in batch:\n",
    "#             t, Xt = cIPFP.sample_trajectory(x, dt, theta,  sigma, b, N, sde_solver, forwards)\n",
    "            \n",
    "#             cross_entropy = log_kde_pdf_per_point(Xt[terminal_index].reshape(-1,1), batch_terminal_empirical, H)\n",
    "            \n",
    "#             J += cIPFP.loss_for_trajectory(Xt, b_forward, b_backward, dt, theta, forwards)\n",
    "            \n",
    "#             J += cross_entropy\n",
    "        \n",
    "#         J /= len(batch)\n",
    "        J = np.mean(jax.vmap(inner_loss_loop)(batch))\n",
    "        J = np.squeeze(J)\n",
    "#         J = J.block_until_ready() \n",
    "        return J\n",
    "    \n",
    "    @partial(jit, static_argnums=(0,2))\n",
    "    def transport_batch(self, batch_x, forwards):\n",
    "        theta = self.theta_f if forwards else self.theta_b\n",
    "        b = self.b_forward if forwards else  lambda X, theta: -self.b_backward(X, theta)\n",
    "        dt = self.dt\n",
    "        N = self.number_time_steps\n",
    "        sde_solver = self.sde_solver\n",
    "        sigma = self.sigma\n",
    "\n",
    "        def inner_loss_loop(x):\n",
    "            t, Xt = cIPFP.sample_trajectory(x, dt, theta,  sigma, b, N, sde_solver, forwards)\n",
    "            return Xt[-1, :]\n",
    "\n",
    "        batch_y = jax.vmap(inner_loss_loop)(batch_x)\n",
    "        return batch_y\n",
    "    \n",
    "    def inner_loss(self, theta, batch, forwards=True):\n",
    "                       \n",
    "        terminal_index = -1 if forwards else 0\n",
    "        X_terminal_empirical = next(self.data_stream(forward=not(forwards)))\n",
    "    \n",
    "        H = self.H_1 if forwards else self.H_0\n",
    "        return self.inner_loss_jit(\n",
    "            terminal_index, theta, batch, self.dt, \n",
    "            X_terminal_empirical, H , self.b_forward,\n",
    "            self.b_backward, self.sigma, self.number_time_steps, self.sde_solver, forwards\n",
    "        )\n",
    "\n",
    "    @partial(jit, static_argnums=(0,1, 4))\n",
    "    def update(self, i, opt_state, batch, forwards=True):\n",
    "\n",
    "        get_params = self.get_params_f if forwards else self.get_params_b\n",
    "        params = get_params(opt_state)\n",
    "        \n",
    "        gradient = grad(self.inner_loss)(params, batch, forwards)\n",
    "    \n",
    "        opt_update  = self.opt_update_f if forwards else self.opt_update_b\n",
    "        return opt_update(i, gradient, opt_state)\n",
    "\n",
    "    def fit(self, IPFP_iterations=10, sub_iterations=10):     \n",
    "        \n",
    "        _, init_params_f = self.b_forward_init(self.rng, (-1, self.dim))                                             \n",
    "        opt_state_f = self.opt_init_f(init_params_f)\n",
    "        \n",
    "        _, init_params_b = self.b_backward_init(self.rng, (-1, self.dim))                                               \n",
    "        opt_state_b = self.opt_init_b(init_params_b)\n",
    "        \n",
    "        batches_f = self.data_stream(forward=True)\n",
    "        batches_b = self.data_stream(forward=False)\n",
    "        \n",
    "        loss_f, loss_b = [], []\n",
    "        \n",
    "        for i in range(IPFP_iterations):\n",
    "                                               \n",
    "            itercount = itertools.count()\n",
    "            \n",
    "            for k in range(sub_iterations):\n",
    "                for _ in range(self.num_batches_b):\n",
    "#                     print(_)\n",
    "                    batch_b =  next(batches_b)\n",
    "                    opt_state_b  = self.update(\n",
    "                        next(itercount), opt_state_b, batch_b, False\n",
    "                    )\n",
    "\n",
    "                params = self.get_params_b(opt_state_b)\n",
    "                lossb = self.inner_loss(params, batch_b, False)\n",
    "                print(f\"loss b {lossb}\")\n",
    "            loss_b.append(lossb)\n",
    "                                               \n",
    "            \n",
    "            itercount = itertools.count()\n",
    "            \n",
    "            for k in range(sub_iterations):\n",
    "                for _ in range(self.num_batches_f):\n",
    "#                     print(_)\n",
    "                    batch_f =  next(batches_f)\n",
    "                    opt_state_f = self.update(\n",
    "                        next(itercount), opt_state_f, next(batches_f), True\n",
    "                    )\n",
    "                params = self.get_params_f(opt_state_f)\n",
    "                lossf = self.inner_loss(params, batch_f, True)\n",
    "                print(f\"loss f {lossf}\")\n",
    "            loss_f.append(lossf)\n",
    "         \n",
    "\n",
    "        self.theta_f = self.get_params_f(opt_state_f)\n",
    "        self.theta_b = self.get_params_b(opt_state_b)\n",
    "        \n",
    "        plt.plot(range(IPFP_iterations), loss_f, \"g\")\n",
    "        plt.show()\n",
    "        plt.plot(range(IPFP_iterations), loss_b, \"b\")\n",
    "        plt.show()\n",
    "            "
   ]
  },
  {
   "cell_type": "code",
   "execution_count": 314,
   "metadata": {},
   "outputs": [
    {
     "data": {
      "text/plain": [
       "[<matplotlib.lines.Line2D at 0x7fe54dd40b00>]"
      ]
     },
     "execution_count": 314,
     "metadata": {},
     "output_type": "execute_result"
    },
    {
     "data": {
      "text/plain": [
       "[<matplotlib.lines.Line2D at 0x7fe54dd40b00>]"
      ]
     },
     "execution_count": 314,
     "metadata": {},
     "output_type": "execute_result"
    },
    {
     "data": {
      "image/png": "[encoded data removed]",
      "text/plain": [
       "<Figure size 432x288 with 1 Axes>"
      ]
     },
     "metadata": {},
     "output_type": "display_data"
    },
    {
     "data": {
      "image/png": "[encoded data removed]",
      "text/plain": [
       "<Figure size 432x288 with 1 Axes>"
      ]
     },
     "metadata": {},
     "output_type": "display_data"
    }
   ],
   "source": [
    "n = 1000\n",
    "n_2 = int(n * 0.5)\n",
    "\n",
    "X1 = npr.randn(n).reshape(-1,1) - 5\n",
    "X21 = 0.6 * npr.randn(n_2).reshape(-1,1) + 8\n",
    "X22 =  0.6 * npr.randn(n_2).reshape(-1,1) + 2\n",
    "X2 = np.concatenate((X21, X22), axis=0)\n",
    "\n",
    "plt.plot(X2.flatten(), [0] * n, '.')\n",
    "plt.plot(X1.flatten(), [0] * n, '.')"
   ]
  },
  {
   "cell_type": "code",
   "execution_count": 315,
   "metadata": {},
   "outputs": [],
   "source": [
    "c = cIPFP(X1, X2,  number_time_steps=100, batch_size=100 , step_size = 0.0001, weights=[500,])"
   ]
  },
  {
   "cell_type": "code",
   "execution_count": 316,
   "metadata": {},
   "outputs": [],
   "source": [
    " _, init_params_f = c.b_forward_init(c.rng, (-1, c.dim))                                             \n",
    "opt_state_f = c.opt_init_f(init_params_f)\n",
    "\n",
    "\n",
    "theta_f = c.get_params_f(opt_state_f)"
   ]
  },
  {
   "cell_type": "code",
   "execution_count": 317,
   "metadata": {},
   "outputs": [
    {
     "data": {
      "text/plain": [
       "((500,), ())"
      ]
     },
     "execution_count": 317,
     "metadata": {},
     "output_type": "execute_result"
    },
    {
     "data": {
      "text/plain": [
       "((500,), ())"
      ]
     },
     "execution_count": 317,
     "metadata": {},
     "output_type": "execute_result"
    }
   ],
   "source": [
    "theta_f[0][1].shape, theta_f[1]"
   ]
  },
  {
   "cell_type": "code",
   "execution_count": 318,
   "metadata": {},
   "outputs": [],
   "source": [
    "t, Xt = c.sample_trajectory(X1[0],c.dt,  theta_f,  c.sigma, c.b_forward, c.number_time_steps, c.sde_solver, True)"
   ]
  },
  {
   "cell_type": "code",
   "execution_count": 319,
   "metadata": {},
   "outputs": [
    {
     "data": {
      "text/plain": [
       "[<matplotlib.lines.Line2D at 0x7fe54dd50320>]"
      ]
     },
     "execution_count": 319,
     "metadata": {},
     "output_type": "execute_result"
    },
    {
     "data": {
      "text/plain": [
       "[<matplotlib.lines.Line2D at 0x7fe54dd50320>]"
      ]
     },
     "execution_count": 319,
     "metadata": {},
     "output_type": "execute_result"
    },
    {
     "data": {
      "image/png": "[encoded data removed]",
      "text/plain": [
       "<Figure size 432x288 with 1 Axes>"
      ]
     },
     "metadata": {},
     "output_type": "display_data"
    },
    {
     "data": {
      "image/png": "[encoded data removed]",
      "text/plain": [
       "<Figure size 432x288 with 1 Axes>"
      ]
     },
     "metadata": {},
     "output_type": "display_data"
    }
   ],
   "source": [
    "import matplotlib.pyplot as plt\n",
    "\n",
    "plt.plot(t, Xt.flatten())"
   ]
  },
  {
   "cell_type": "code",
   "execution_count": 289,
   "metadata": {},
   "outputs": [],
   "source": [
    "import numpy as onp\n",
    "import jax.numpy as np\n",
    "\n",
    "X0 = np.array(X1[0,:])\n",
    "t0=0\n",
    "\n",
    "alfa  = c.b_forward \n",
    "beta = c.sigma\n",
    "randn = onp.random.randn\n",
    "dt = c.dt\n",
    "N= c.number_time_steps\n",
    "theta = theta_f\n",
    "\n",
    "\n",
    "if alfa is None or beta is None:\n",
    "    raise ValueError(\"Error: SDE not defined.\")\n",
    "\n",
    "\n",
    "X0 = randn(*alfa(0, 0).shape) if X0 is None else np.array(X0)\n",
    "#     DW = (lambda Y, dt: randn((len(X0))) * np.sqrt(dt)) if DW is None else DW\n",
    "DWs  = randn(N-1, len(X0))  * np.sqrt(dt)\n",
    "\n",
    "\n",
    "\n",
    "Y, ti = np.zeros((N, len(X0))), np.arange(N)*dt + t0\n",
    "Y = jax.ops.index_update(Y, jax.ops.index[0,:],  X0)\n",
    "\n"
   ]
  },
  {
   "cell_type": "code",
   "execution_count": 290,
   "metadata": {},
   "outputs": [],
   "source": [
    "loss= c.loss_for_trajectory(Xt, c.b_forward, c.b_backward, c.dt, theta_f, True)"
   ]
  },
  {
   "cell_type": "code",
   "execution_count": 291,
   "metadata": {},
   "outputs": [],
   "source": [
    "cross_entropy = log_kde_pdf_per_point(Xt[-1].reshape(-1,1), X2, c.H_0)"
   ]
  },
  {
   "cell_type": "code",
   "execution_count": 292,
   "metadata": {},
   "outputs": [
    {
     "name": "stdout",
     "output_type": "stream",
     "text": [
      "CPU times: user 635 ms, sys: 3.98 ms, total: 639 ms\n",
      "Wall time: 601 ms\n",
      "CPU times: user 635 ms, sys: 3.98 ms, total: 639 ms\n",
      "Wall time: 601 ms\n"
     ]
    },
    {
     "data": {
      "text/plain": [
       "DeviceArray(70.717125, dtype=float32)"
      ]
     },
     "execution_count": 292,
     "metadata": {},
     "output_type": "execute_result"
    },
    {
     "data": {
      "text/plain": [
       "DeviceArray(70.717125, dtype=float32)"
      ]
     },
     "execution_count": 292,
     "metadata": {},
     "output_type": "execute_result"
    }
   ],
   "source": [
    "%%time\n",
    "c.inner_loss(theta_f, X1, True)"
   ]
  },
  {
   "cell_type": "code",
   "execution_count": 293,
   "metadata": {},
   "outputs": [
    {
     "name": "stdout",
     "output_type": "stream",
     "text": [
      "CPU times: user 8.94 ms, sys: 4.05 ms, total: 13 ms\n",
      "Wall time: 7.6 ms\n"
     ]
    },
    {
     "data": {
      "text/plain": [
       "DeviceArray(36.620647, dtype=float32)"
      ]
     },
     "execution_count": 293,
     "metadata": {},
     "output_type": "execute_result"
    },
    {
     "name": "stdout",
     "output_type": "stream",
     "text": [
      "CPU times: user 8.94 ms, sys: 4.05 ms, total: 13 ms\n",
      "Wall time: 7.6 ms\n"
     ]
    },
    {
     "data": {
      "text/plain": [
       "DeviceArray(36.620647, dtype=float32)"
      ]
     },
     "execution_count": 293,
     "metadata": {},
     "output_type": "execute_result"
    }
   ],
   "source": [
    "%%time\n",
    "c.inner_loss(theta_f, X1, True)"
   ]
  },
  {
   "cell_type": "code",
   "execution_count": 294,
   "metadata": {},
   "outputs": [],
   "source": [
    "\n",
    "# _, init_params_f = c.b_forward_init(c.rng, (-1, c.dim))                                             \n",
    "# opt_state_f = c.opt_init_f(init_params_f)\n",
    "\n",
    "# _, init_params_b = c.b_backward_init(c.rng, (-1, c.dim))                                               \n",
    "# opt_state_b = c.opt_init_b(init_params_b)\n",
    "\n",
    "# batches_f = c.data_stream(forward=True)\n",
    "# batches_b = c.data_stream(forward=False)\n",
    "\n",
    "# c.update(0, opt_state_b, next(batches_b), forwards=False)\n",
    "                                       "
   ]
  },
  {
   "cell_type": "code",
   "execution_count": 295,
   "metadata": {},
   "outputs": [],
   "source": [
    "from jax import grad\n"
   ]
  },
  {
   "cell_type": "code",
   "execution_count": 296,
   "metadata": {},
   "outputs": [
    {
     "name": "stdout",
     "output_type": "stream",
     "text": [
      "CPU times: user 2.73 s, sys: 15.6 ms, total: 2.74 s\n",
      "Wall time: 2.73 s\n",
      "CPU times: user 2.73 s, sys: 15.6 ms, total: 2.74 s\n",
      "Wall time: 2.73 s\n"
     ]
    }
   ],
   "source": [
    "%%time\n",
    "gradient = jit(grad(c.inner_loss), static_argnums=(2))\n",
    "kek = gradient(theta_f, X1, True)\n",
    "# partial(jit, static_argnums=(2))(gradient)"
   ]
  },
  {
   "cell_type": "code",
   "execution_count": 297,
   "metadata": {},
   "outputs": [
    {
     "name": "stdout",
     "output_type": "stream",
     "text": [
      "CPU times: user 10.7 ms, sys: 0 ns, total: 10.7 ms\n",
      "Wall time: 757 µs\n",
      "CPU times: user 10.7 ms, sys: 0 ns, total: 10.7 ms\n",
      "Wall time: 757 µs\n"
     ]
    }
   ],
   "source": [
    "%%time\n",
    "kek = gradient(theta_f, X1, True)"
   ]
  },
  {
   "cell_type": "code",
   "execution_count": 320,
   "metadata": {},
   "outputs": [
    {
     "name": "stdout",
     "output_type": "stream",
     "text": [
      "loss b 170.72885131835938\n",
      "loss b 170.72885131835938\n",
      "loss f 30.20648765563965\n",
      "loss f 30.20648765563965\n"
     ]
    },
    {
     "data": {
      "image/png": "[encoded data removed]",
      "text/plain": [
       "<Figure size 432x288 with 1 Axes>"
      ]
     },
     "metadata": {},
     "output_type": "display_data"
    },
    {
     "data": {
      "image/png": "[encoded data removed]",
      "text/plain": [
       "<Figure size 432x288 with 1 Axes>"
      ]
     },
     "metadata": {},
     "output_type": "display_data"
    },
    {
     "data": {
      "image/png": "[encoded data removed]",
      "text/plain": [
       "<Figure size 432x288 with 1 Axes>"
      ]
     },
     "metadata": {},
     "output_type": "display_data"
    },
    {
     "data": {
      "image/png": "[encoded data removed]",
      "text/plain": [
       "<Figure size 432x288 with 1 Axes>"
      ]
     },
     "metadata": {},
     "output_type": "display_data"
    },
    {
     "name": "stdout",
     "output_type": "stream",
     "text": [
      "CPU times: user 1min 10s, sys: 1.26 s, total: 1min 11s\n",
      "Wall time: 1min 8s\n",
      "CPU times: user 1min 10s, sys: 1.26 s, total: 1min 11s\n",
      "Wall time: 1min 8s\n"
     ]
    }
   ],
   "source": [
    "%%time\n",
    "c.fit(1,1)"
   ]
  },
  {
   "cell_type": "code",
   "execution_count": 321,
   "metadata": {},
   "outputs": [
    {
     "name": "stdout",
     "output_type": "stream",
     "text": [
      "loss b 379.93316650390625\n",
      "loss b 379.93316650390625\n",
      "loss f 26.652599334716797\n",
      "loss f 26.652599334716797\n"
     ]
    },
    {
     "data": {
      "image/png": "[encoded data removed]",
      "text/plain": [
       "<Figure size 432x288 with 1 Axes>"
      ]
     },
     "metadata": {},
     "output_type": "display_data"
    },
    {
     "data": {
      "image/png": "[encoded data removed]",
      "text/plain": [
       "<Figure size 432x288 with 1 Axes>"
      ]
     },
     "metadata": {},
     "output_type": "display_data"
    },
    {
     "data": {
      "image/png": "[encoded data removed]",
      "text/plain": [
       "<Figure size 432x288 with 1 Axes>"
      ]
     },
     "metadata": {},
     "output_type": "display_data"
    },
    {
     "data": {
      "image/png": "[encoded data removed]",
      "text/plain": [
       "<Figure size 432x288 with 1 Axes>"
      ]
     },
     "metadata": {},
     "output_type": "display_data"
    },
    {
     "name": "stdout",
     "output_type": "stream",
     "text": [
      "CPU times: user 2.71 s, sys: 1.25 s, total: 3.96 s\n",
      "Wall time: 1.93 s\n",
      "CPU times: user 2.71 s, sys: 1.25 s, total: 3.96 s\n",
      "Wall time: 1.93 s\n"
     ]
    }
   ],
   "source": [
    "%%time\n",
    "c.fit(1,1)"
   ]
  },
  {
   "cell_type": "code",
   "execution_count": null,
   "metadata": {
    "scrolled": true
   },
   "outputs": [
    {
     "name": "stdout",
     "output_type": "stream",
     "text": [
      "loss b 300.6606140136719\n",
      "loss b 300.6606140136719\n",
      "loss b 225.8924560546875\n",
      "loss b 225.8924560546875\n",
      "loss b 284.1995849609375\n",
      "loss b 284.1995849609375\n",
      "loss b 169.59661865234375\n",
      "loss b 193.16766357421875\n",
      "loss b 202.37965393066406\n",
      "loss b 140.0609893798828\n",
      "loss b 212.1272430419922\n",
      "loss b 205.59849548339844\n",
      "loss b 210.63882446289062\n",
      "loss b 128.99307250976562\n",
      "loss b 166.05609130859375\n",
      "loss b 64.36531066894531\n",
      "loss b 93.09819030761719\n",
      "loss b 100.2965316772461\n",
      "loss b 110.13459777832031\n",
      "loss b 165.79351806640625\n",
      "loss b 142.8853302001953\n",
      "loss b 118.91444396972656\n",
      "loss b 109.36688232421875\n",
      "loss b 177.96527099609375\n",
      "loss b 56.375030517578125\n",
      "loss b 77.4922866821289\n",
      "loss b 88.93338012695312\n",
      "loss b 84.94534301757812\n",
      "loss b 120.61088562011719\n",
      "loss b 72.31107330322266\n",
      "loss b 104.63082885742188\n",
      "loss b 85.68199920654297\n",
      "loss b 76.16159057617188\n",
      "loss f 39.406742095947266\n",
      "loss f 56.304935455322266\n",
      "loss f 41.76677322387695\n",
      "loss f 63.157901763916016\n",
      "loss f 71.35428619384766\n",
      "loss f 42.647674560546875\n",
      "loss f 31.358495712280273\n",
      "loss f 38.820526123046875\n",
      "loss f 46.689117431640625\n",
      "loss f 17.492124557495117\n",
      "loss f 29.207727432250977\n",
      "loss f 39.75840377807617\n",
      "loss f 45.06296920776367\n",
      "loss f 43.542320251464844\n",
      "loss f 32.92499542236328\n",
      "loss f 37.543331146240234\n",
      "loss f 38.74382400512695\n",
      "loss f 35.426387786865234\n",
      "loss f 47.023277282714844\n",
      "loss f 19.621742248535156\n",
      "loss f 23.62881851196289\n",
      "loss f 32.51994323730469\n",
      "loss f 29.1382999420166\n",
      "loss f 20.943227767944336\n",
      "loss f 15.372825622558594\n",
      "loss f 15.702784538269043\n",
      "loss f 48.60896301269531\n",
      "loss f 28.561389923095703\n",
      "loss f 15.005654335021973\n",
      "loss f 24.467531204223633\n",
      "loss b 37.64567947387695\n",
      "loss b 62.44011688232422\n",
      "loss b 145.58551025390625\n",
      "loss b 49.454185485839844\n",
      "loss b 86.70520782470703\n",
      "loss b 128.45835876464844\n",
      "loss b 74.84839630126953\n",
      "loss b 131.82266235351562\n",
      "loss b 44.30113220214844\n",
      "loss b 84.19244384765625\n",
      "loss b 44.602237701416016\n",
      "loss b 104.52592468261719\n",
      "loss b 53.9364128112793\n",
      "loss b 61.278602600097656\n",
      "loss b 45.858787536621094\n",
      "loss b 61.574337005615234\n",
      "loss b 47.13767623901367\n",
      "loss b 81.41889953613281\n",
      "loss b 88.93984985351562\n",
      "loss b 86.69583129882812\n",
      "loss b 119.75965881347656\n",
      "loss b 51.185726165771484\n",
      "loss b 48.22404861450195\n",
      "loss b 54.999481201171875\n",
      "loss b 61.543785095214844\n",
      "loss b 57.76377487182617\n",
      "loss b 89.12091827392578\n",
      "loss b 74.34078979492188\n",
      "loss b 68.65758514404297\n",
      "loss b 29.6142635345459\n",
      "loss f 9.874654769897461\n",
      "loss f 32.340633392333984\n",
      "loss f 15.000200271606445\n",
      "loss f 28.256877899169922\n",
      "loss f 23.170330047607422\n",
      "loss f 24.259550094604492\n",
      "loss f 22.355541229248047\n",
      "loss f 11.303474426269531\n",
      "loss f 18.07431411743164\n",
      "loss f 15.548310279846191\n",
      "loss f 21.614234924316406\n",
      "loss f 10.884937286376953\n",
      "loss f 16.495628356933594\n",
      "loss f 20.157163619995117\n",
      "loss f 13.928936004638672\n",
      "loss f 14.219315528869629\n",
      "loss f 6.1026411056518555\n",
      "loss f 23.10367202758789\n",
      "loss f 10.252357482910156\n",
      "loss f 19.393381118774414\n",
      "loss f 6.566672325134277\n",
      "loss f 7.6999382972717285\n",
      "loss f 9.099447250366211\n",
      "loss f 20.674484252929688\n",
      "loss f 11.575189590454102\n",
      "loss f 8.340370178222656\n",
      "loss f 8.899203300476074\n",
      "loss f 16.653202056884766\n",
      "loss f 16.722463607788086\n",
      "loss f 9.099811553955078\n",
      "loss b 47.01663589477539\n",
      "loss b 72.50140380859375\n",
      "loss b 59.25450134277344\n",
      "loss b 32.3476676940918\n",
      "loss b 36.5096549987793\n",
      "loss b 53.57795715332031\n",
      "loss b 57.93217849731445\n",
      "loss b 53.455562591552734\n",
      "loss b 75.61955261230469\n",
      "loss b 51.95235824584961\n",
      "loss b 76.25257110595703\n",
      "loss b 26.124238967895508\n",
      "loss b 53.689369201660156\n",
      "loss b 94.39311218261719\n",
      "loss b 26.409534454345703\n",
      "loss b 24.11847496032715\n",
      "loss b 45.89961242675781\n",
      "loss b 79.89299774169922\n",
      "loss b 60.682952880859375\n",
      "loss b 38.215694427490234\n",
      "loss b 35.19776916503906\n",
      "loss b 33.23313903808594\n",
      "loss b 32.002342224121094\n",
      "loss b 37.608642578125\n",
      "loss b 63.61131286621094\n",
      "loss b 39.95909881591797\n",
      "loss b 71.86691284179688\n",
      "loss b 49.5095100402832\n",
      "loss b 47.38490295410156\n",
      "loss b 24.198204040527344\n",
      "loss f 17.948740005493164\n",
      "loss f 12.344245910644531\n",
      "loss f 8.742046356201172\n",
      "loss f 7.497819423675537\n",
      "loss f 7.295675754547119\n",
      "loss f 4.2821502685546875\n",
      "loss f 17.02511215209961\n",
      "loss f 5.3739728927612305\n",
      "loss f 12.475292205810547\n",
      "loss f 12.294337272644043\n",
      "loss f 8.454244613647461\n",
      "loss f 7.410775184631348\n",
      "loss f 9.993475914001465\n",
      "loss f 3.992166757583618\n",
      "loss f 18.50779151916504\n",
      "loss f 10.673687934875488\n",
      "loss f 11.547734260559082\n",
      "loss f 17.401500701904297\n",
      "loss f 13.907685279846191\n",
      "loss f 6.281898021697998\n",
      "loss f 11.03262710571289\n",
      "loss f 12.008995056152344\n",
      "loss f 14.666474342346191\n",
      "loss f 10.47393798828125\n",
      "loss f 9.282380104064941\n",
      "loss f 6.178318500518799\n",
      "loss f 9.168456077575684\n",
      "loss f 10.188749313354492\n",
      "loss f 4.51186990737915\n",
      "loss f 9.084637641906738\n",
      "loss b 45.048343658447266\n",
      "loss b 33.66973876953125\n",
      "loss b 48.39585876464844\n",
      "loss b 54.748268127441406\n",
      "loss b 41.86040115356445\n",
      "loss b 32.509071350097656\n",
      "loss b 30.534536361694336\n",
      "loss b 28.753026962280273\n",
      "loss b 35.051998138427734\n",
      "loss b 19.716960906982422\n",
      "loss b 10.844508171081543\n",
      "loss b 37.9002571105957\n",
      "loss b 9.84642219543457\n",
      "loss b 31.5203800201416\n",
      "loss b 21.521831512451172\n",
      "loss b 24.917984008789062\n",
      "loss b 29.1358699798584\n",
      "loss b 31.8475341796875\n",
      "loss b 77.22278594970703\n",
      "loss b 35.585533142089844\n",
      "loss b 28.551000595092773\n",
      "loss b 42.0451774597168\n"
     ]
    }
   ],
   "source": [
    "c.fit(100,30)"
   ]
  },
  {
   "cell_type": "code",
   "execution_count": 254,
   "metadata": {},
   "outputs": [],
   "source": [
    "t, Xt = c.sample_trajectory(X1[0],c.dt,  c.theta_f,  c.sigma, c.b_forward, c.number_time_steps, c.sde_solver, True)"
   ]
  },
  {
   "cell_type": "code",
   "execution_count": 255,
   "metadata": {},
   "outputs": [
    {
     "data": {
      "text/plain": [
       "[<matplotlib.lines.Line2D at 0x7fe54f68ac50>]"
      ]
     },
     "execution_count": 255,
     "metadata": {},
     "output_type": "execute_result"
    },
    {
     "data": {
      "image/png": "[encoded data removed]",
      "text/plain": [
       "<Figure size 432x288 with 1 Axes>"
      ]
     },
     "metadata": {},
     "output_type": "display_data"
    }
   ],
   "source": [
    "plt.plot(t.flatten(), Xt.flatten())"
   ]
  },
  {
   "cell_type": "code",
   "execution_count": 256,
   "metadata": {},
   "outputs": [],
   "source": [
    "bb = lambda X, theta: -c.b_backward(X, theta)\n",
    "\n",
    "t, Xt = c.sample_trajectory(X2[0],c.dt,  c.theta_b,  c.sigma, bb, c.number_time_steps, c.sde_solver, False)"
   ]
  },
  {
   "cell_type": "code",
   "execution_count": 257,
   "metadata": {},
   "outputs": [
    {
     "data": {
      "text/plain": [
       "[<matplotlib.lines.Line2D at 0x7fe54f6745c0>]"
      ]
     },
     "execution_count": 257,
     "metadata": {},
     "output_type": "execute_result"
    },
    {
     "data": {
      "image/png": "[encoded data removed]",
      "text/plain": [
       "<Figure size 432x288 with 1 Axes>"
      ]
     },
     "metadata": {},
     "output_type": "display_data"
    }
   ],
   "source": [
    "plt.plot(t.flatten(), Xt.flatten())"
   ]
  },
  {
   "cell_type": "code",
   "execution_count": 258,
   "metadata": {},
   "outputs": [],
   "source": [
    "@partial(jit, static_argnums=(0,2))\n",
    "def transport_batch(self, batch_x, forwards):\n",
    "    theta = self.theta_f if forwards else self.theta_b\n",
    "    b = self.b_forward if forwards else  lambda X, theta: -self.b_backward(X, theta)\n",
    "    dt = self.dt\n",
    "    N = self.number_time_steps\n",
    "    sde_solver = self.sde_solver\n",
    "    sigma = self.sigma\n",
    "\n",
    "    def inner_loss_loop(x):\n",
    "        t, Xt = cIPFP.sample_trajectory(x, dt, theta,  sigma, b, N, sde_solver, forwards)\n",
    "        return Xt[-1, :]\n",
    "\n",
    "    batch_y = jax.vmap(inner_loss_loop)(batch_x)\n",
    "    return batch_y"
   ]
  },
  {
   "cell_type": "code",
   "execution_count": 261,
   "metadata": {},
   "outputs": [],
   "source": [
    "X22 = transport_batch(c, X1, True)"
   ]
  },
  {
   "cell_type": "code",
   "execution_count": 267,
   "metadata": {},
   "outputs": [
    {
     "data": {
      "text/plain": [
       "[<matplotlib.lines.Line2D at 0x7fe54f5a1358>]"
      ]
     },
     "execution_count": 267,
     "metadata": {},
     "output_type": "execute_result"
    },
    {
     "data": {
      "image/png": "[encoded data removed]",
      "text/plain": [
       "<Figure size 432x288 with 1 Axes>"
      ]
     },
     "metadata": {},
     "output_type": "display_data"
    }
   ],
   "source": [
    "plt.plot(X1.flatten(), [0] * 100, 'b.', label=\"Source\")\n",
    "plt.plot(X22.flatten(), [0] * 100, 'r.', label=\"Transformed\")\n",
    "plt.plot(X2.flatten(), [0] * 100, 'g.', label=\"Target\")\n",
    "plt.legend()"
   ]
  },
  {
   "cell_type": "code",
   "execution_count": 221,
   "metadata": {},
   "outputs": [
    {
     "data": {
      "text/plain": [
       "DeviceArray(4.0651765, dtype=float32)"
      ]
     },
     "execution_count": 221,
     "metadata": {},
     "output_type": "execute_result"
    }
   ],
   "source": [
    "X22.mean()"
   ]
  },
  {
   "cell_type": "code",
   "execution_count": 222,
   "metadata": {},
   "outputs": [
    {
     "data": {
      "text/plain": [
       "4.974274656883583"
      ]
     },
     "execution_count": 222,
     "metadata": {},
     "output_type": "execute_result"
    }
   ],
   "source": [
    "X2.mean()"
   ]
  },
  {
   "cell_type": "code",
   "execution_count": 223,
   "metadata": {},
   "outputs": [
    {
     "data": {
      "text/plain": [
       "-4.945354396506605"
      ]
     },
     "execution_count": 223,
     "metadata": {},
     "output_type": "execute_result"
    }
   ],
   "source": [
    "X1.mean()"
   ]
  },
  {
   "cell_type": "code",
   "execution_count": 263,
   "metadata": {},
   "outputs": [],
   "source": [
    "X11 = transport_batch(c, X2, False)"
   ]
  },
  {
   "cell_type": "code",
   "execution_count": 264,
   "metadata": {},
   "outputs": [
    {
     "data": {
      "text/plain": [
       "DeviceArray(-5.043673, dtype=float32)"
      ]
     },
     "execution_count": 264,
     "metadata": {},
     "output_type": "execute_result"
    }
   ],
   "source": [
    "X11.mean()"
   ]
  },
  {
   "cell_type": "code",
   "execution_count": 269,
   "metadata": {},
   "outputs": [
    {
     "data": {
      "image/png": "[encoded data removed]",
      "text/plain": [
       "<Figure size 432x288 with 1 Axes>"
      ]
     },
     "metadata": {},
     "output_type": "display_data"
    },
    {
     "data": {
      "image/png": "[encoded data removed]",
      "text/plain": [
       "<Figure size 432x288 with 1 Axes>"
      ]
     },
     "metadata": {},
     "output_type": "display_data"
    }
   ],
   "source": [
    "plt.plot(X2.flatten(), [0] * 100, 'b.', label=\"Source\")\n",
    "plt.plot(X11.flatten(), [0] * 100, 'r.', label=\"Transformed\")\n",
    "plt.plot(X1.flatten(), [0] * 100, 'g.', label=\"Target\")\n",
    "plt.legend()"
   ]
  },
  {
   "cell_type": "code",
   "execution_count": null,
   "metadata": {},
   "outputs": [],
   "source": [
    "fig, axs = plt.subplots(12)\n",
    "\n",
    "axs[0].plot(X2.flatten(), [0] * 100, 'b.', label=\"Source\")\n",
    "axs[0].plot(X11.flatten(), [0] * 100, 'r.', label=\"Transformed\")\n",
    "axs[0].plot(X1.flatten(), [0] * 100, 'g.', label=\"Target\")\n",
    "axs[0].legend()\n",
    "\n",
    "axs[1].plot(X1.flatten(), [0] * 100, 'b.', label=\"Source\")\n",
    "axs[1].plot(X22.flatten(), [0] * 100, 'r.', label=\"Transformed\")\n",
    "axs[1].plot(X2.flatten(), [0] * 100, 'g.', label=\"Target\")\n",
    "axs[0].legend()"
   ]
  }
 ],
 "metadata": {
  "kernelspec": {
   "display_name": "Python 3",
   "language": "python",
   "name": "python3"
  },
  "language_info": {
   "codemirror_mode": {
    "name": "ipython",
    "version": 3
   },
   "file_extension": ".py",
   "mimetype": "text/x-python",
   "name": "python",
   "nbconvert_exporter": "python",
   "pygments_lexer": "ipython3",
   "version": "3.6.9"
  }
 },
 "nbformat": 4,
 "nbformat_minor": 2
}
