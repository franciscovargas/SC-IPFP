{
 "cells": [
  {
   "cell_type": "code",
   "execution_count": 1,
   "metadata": {},
   "outputs": [
    {
     "name": "stderr",
     "output_type": "stream",
     "text": [
      "/auto/homes/fav25/jax/jax/lib/xla_bridge.py:116: UserWarning: No GPU/TPU found, falling back to CPU.\n",
      "  warnings.warn('No GPU/TPU found, falling back to CPU.')\n"
     ]
    }
   ],
   "source": [
    "import sys\n",
    "sys.path.append(\"/auto/homes/fav25/jax/\")\n",
    "\n",
    "import jax.numpy as np\n",
    "# import autograd.numpy\n",
    "# import numpy as np\n",
    "\n",
    "from SC_IPFP.sde_solvers import solve_sde_RK\n",
    "from SC_IPFP.utils import log_kde_pdf_per_point, silvermans_rule\n",
    "\n",
    "from jax.config import config\n",
    "from jax import jit, grad, random\n",
    "from jax.experimental import optimizers\n",
    "from jax.experimental import stax\n",
    "from jax.experimental.stax import Dense, Relu, LogSoftmax\n",
    "import numpy.random as npr\n",
    "import jax\n",
    "\n",
    "import itertools\n",
    "from functools import partial\n",
    "# np = jax.numpy\n",
    "# np = autograd.numpy"
   ]
  },
  {
   "cell_type": "code",
   "execution_count": 79,
   "metadata": {},
   "outputs": [],
   "source": [
    "class cIPFP(object):\n",
    "    \n",
    "    def __init__(self, X_0, X_1, weights=[100], batch_size=None,  rng = jax.random.PRNGKey(0), \n",
    "                nrng = npr.RandomState(0), number_time_steps=16, sde_solver=solve_sde_RK, sigma_sq=1, \n",
    "                step_size = 0.001, num_epochs = 10, momentum_mass = 0.9, create_network=None):\n",
    "        \n",
    "        self.sde_solver = sde_solver\n",
    "        \n",
    "        self.number_time_steps = number_time_steps\n",
    "        self.dt = 1.0 / number_time_steps\n",
    "        \n",
    "        \n",
    "        self.batch_size_f = X_0.shape[0] if batch_size is None else batch_size\n",
    "        self.batch_size_b = X_1.shape[0] if batch_size is None else batch_size\n",
    "        \n",
    "        \n",
    "        self.X_0 = X_0\n",
    "        self.X_1 = X_1\n",
    "        \n",
    "        self.H_0 = silvermans_rule(X_0)\n",
    "        self.H_1 = silvermans_rule(X_1)\n",
    "        \n",
    "        _, self.dim = self.X_0.shape\n",
    "        \n",
    "        create_net = self.create_network if  create_network is None else create_network\n",
    "        \n",
    "        self.b_forward_init, self.b_forward = create_net(\n",
    "            self.dim, weights\n",
    "        )\n",
    "        self.b_backward_init, self.b_backward = create_net(\n",
    "            self.dim, weights\n",
    "        )\n",
    "        \n",
    "        self.sigma = (lambda X,t: sigma_sq)\n",
    "        \n",
    "        self.rng = rng\n",
    "        self.nrng = nrng\n",
    "        \n",
    "        self.opt_init_f, self.opt_update_f, self.get_params_f = (\n",
    "            optimizers.momentum(step_size, mass=momentum_mass)\n",
    "        )\n",
    "        \n",
    "        self.opt_init_b, self.opt_update_b, self.get_params_b = (\n",
    "            optimizers.momentum(step_size, mass=momentum_mass)\n",
    "        )\n",
    "        \n",
    "        num_complete_batches_f, leftover_f = divmod(self.X_0.shape[0], self.batch_size_f)\n",
    "        self.num_batches_f = num_complete_batches_f + bool(leftover_f)\n",
    "                                               \n",
    "        num_complete_batches_b, leftover_b = divmod(self.X_1.shape[0], self.batch_size_b)\n",
    "        self.num_batches_b = num_complete_batches_b + bool(leftover_b)\n",
    "        \n",
    "    \n",
    "    @staticmethod\n",
    "    def create_network(dim, weights):\n",
    "        \n",
    "        model  = []\n",
    "        for weight in weights:\n",
    "            model.append(\n",
    "                Dense(weight)\n",
    "            )\n",
    "                        \n",
    "            model.append(\n",
    "                Relu\n",
    "            )\n",
    "            \n",
    "        \n",
    "        model.append(Dense(dim))\n",
    "        print(dim)\n",
    "    \n",
    "        init_random_params, predict = stax.serial(\n",
    "           *model\n",
    "        )\n",
    "        return init_random_params, predict\n",
    "        \n",
    "    @staticmethod\n",
    "    @partial(jit, static_argnums=(1,2, 5))\n",
    "    def loss_for_trajectory(Xt, b_f, b_b, dt, theta, forwards):\n",
    "        b_minus  = b_b(theta, Xt)\n",
    "        b_plus = b_f(theta, Xt)\n",
    "        \n",
    "        delta_Xt = Xt[:-1, :]  - Xt[1:, :]\n",
    "        \n",
    "        sign = 1.0 if forwards else -1.0\n",
    "        \n",
    "        ito_integral = sign *  (b_plus[1:,:] - b_minus[:-1,:])  * delta_Xt\n",
    "        \n",
    "        time_integral = sign *  (b_plus**2 - b_minus**2) * dt # Not sure about this dt here\n",
    "        \n",
    "        return ito_integral.sum() - 0.5 * time_integral.sum()\n",
    "        \n",
    "    def data_stream(self, forward=True):\n",
    "        rng = self.nrng\n",
    "        X = self.X_0 if forward else self.X_1\n",
    "        \n",
    "        batch_size = self.batch_size_f if forward else self.batch_size_b\n",
    "        num_batches = self.num_batches_f if forward else self.num_batches_b\n",
    "        \n",
    "        num_train = self.X_0.shape[0] if forward else self.X_1.shape[0]\n",
    "        while True:\n",
    "            perm = rng.permutation(num_train)\n",
    "            for i in range(num_batches):\n",
    "                batch_idx = perm[i * batch_size:(i + 1) * batch_size]\n",
    "                yield X[batch_idx] \n",
    "        \n",
    "    @staticmethod\n",
    "    def sample_trajectory(X, dt, theta, sigma, b, N, sde_solver, forwards=True):\n",
    "        return sde_solver(alfa=b, beta=sigma,\n",
    "                          dt=dt, X0=X,\n",
    "                          N=N, theta=theta)\n",
    "\n",
    "    @staticmethod\n",
    "#     @partial(jit, static_argnums=(0,6,7,8,9,10,11))\n",
    "    def inner_loss_jit(terminal_index, theta, batch, dt, \n",
    "                       batch_terminal_empirical, H , b_forward,\n",
    "                       b_backward, sigma, N, sde_solver, forwards):\n",
    "        \n",
    "        b = (b_forward if forwards else (lambda X, theta: -b_backward(X, theta)))\n",
    "        J = 0\n",
    "        \n",
    "        def inner_loss_loop(x):\n",
    "            t, Xt = cIPFP.sample_trajectory(x, dt, theta,  sigma, b, N, sde_solver, forwards)\n",
    "            cross_entropy = -log_kde_pdf_per_point(Xt[terminal_index].reshape(-1,1), batch_terminal_empirical, H)\n",
    "            main_term = cIPFP.loss_for_trajectory(Xt, b_forward, b_backward, dt, theta, forwards)\n",
    "            return main_term + cross_entropy \n",
    "            \n",
    "#         for x in batch:\n",
    "#             t, Xt = cIPFP.sample_trajectory(x, dt, theta,  sigma, b, N, sde_solver, forwards)\n",
    "            \n",
    "#             cross_entropy = log_kde_pdf_per_point(Xt[terminal_index].reshape(-1,1), batch_terminal_empirical, H)\n",
    "            \n",
    "#             J += cIPFP.loss_for_trajectory(Xt, b_forward, b_backward, dt, theta, forwards)\n",
    "            \n",
    "#             J += cross_entropy\n",
    "        \n",
    "#         J /= len(batch)\n",
    "        J = np.mean(jax.vmap(inner_loss_loop)(batch))\n",
    "        J = np.squeeze(J)\n",
    "#         J = J.block_until_ready() \n",
    "        return J\n",
    "    \n",
    "    def inner_loss(self, theta, batch, forwards=True):\n",
    "                       \n",
    "        terminal_index = -1 if forwards else 0\n",
    "        X_terminal_empirical = next(self.data_stream(forward=not(forwards)))\n",
    "    \n",
    "        H = self.H_1 if forwards else self.H_0\n",
    "        return self.inner_loss_jit(\n",
    "            terminal_index, theta, batch, self.dt, \n",
    "            X_terminal_empirical, H , self.b_forward,\n",
    "            self.b_backward, self.sigma, self.number_time_steps, self.sde_solver, forwards\n",
    "        )\n",
    "\n",
    "    @partial(jit, static_argnums=(0,1, 4))\n",
    "    def update(self, i, opt_state, batch, forwards=True):\n",
    "\n",
    "        get_params = self.get_params_f if forwards else self.get_params_b\n",
    "        params = get_params(opt_state)\n",
    "        \n",
    "        gradient = grad(self.inner_loss)(params, batch, forwards)\n",
    "    \n",
    "        opt_update  = self.opt_update_f if forwards else self.opt_update_b\n",
    "        return opt_update(i, gradient, opt_state)\n",
    "\n",
    "    def fit(self, IPFP_iterations=10, sub_iterations=10):     \n",
    "        \n",
    "        _, init_params_f = self.b_forward_init(self.rng, (-1, self.dim))                                             \n",
    "        opt_state_f = self.opt_init_f(init_params_f)\n",
    "        \n",
    "        _, init_params_b = self.b_backward_init(self.rng, (-1, self.dim))                                               \n",
    "        opt_state_b = self.opt_init_b(init_params_b)\n",
    "        \n",
    "        batches_f = self.data_stream(forward=True)\n",
    "        batches_b = self.data_stream(forward=False)\n",
    "        \n",
    "        loss_f, loss_b = [], []\n",
    "        \n",
    "        for i in range(IPFP_iterations):\n",
    "                                               \n",
    "            itercount = itertools.count()\n",
    "            \n",
    "            for k in range(sub_iterations):\n",
    "                for _ in range(self.num_batches_b):\n",
    "                    batch_b =  next(batches_b)\n",
    "                    opt_state_b  = self.update(\n",
    "                        next(itercount), opt_state_b, batch_b, False\n",
    "                    )\n",
    "\n",
    "                params = self.get_params_b(opt_state_b)\n",
    "                lossb = self.inner_loss(params, batch_b, False)\n",
    "                print(f\"loss b {lossb}\")\n",
    "            loss_b.append(lossb)\n",
    "                                               \n",
    "            \n",
    "            itercount = itertools.count()\n",
    "            \n",
    "            for k in range(sub_iterations):\n",
    "                for _ in range(self.num_batches_f):\n",
    "                    batch_f =  next(batches_f)\n",
    "                    opt_state_f = self.update(\n",
    "                        next(itercount), opt_state_f, next(batches_f), True\n",
    "                    )\n",
    "                params = self.get_params_f(opt_state_f)\n",
    "                lossf = self.inner_loss(params, batch_f, True)\n",
    "                print(f\"loss f {lossf}\")\n",
    "            loss_f.append(lossf)\n",
    "         \n",
    "\n",
    "        self.theta_f = self.get_params_f(opt_state_f)\n",
    "        self.theta_b = self.get_params_b(opt_state_b)\n",
    "        plt.plot(range(IPFP_iterations), loss_f, \"g\")\n",
    "        plt.plot(range(IPFP_iterations), loss_b, \"b\")\n",
    "            \n",
    "        "
   ]
  },
  {
   "cell_type": "code",
   "execution_count": 80,
   "metadata": {},
   "outputs": [],
   "source": [
    "X1 = npr.randn(100).reshape(-1,1) - 5\n",
    "X2 = npr.randn(100).reshape(-1,1) + 5"
   ]
  },
  {
   "cell_type": "code",
   "execution_count": 81,
   "metadata": {},
   "outputs": [
    {
     "name": "stdout",
     "output_type": "stream",
     "text": [
      "1\n",
      "1\n"
     ]
    }
   ],
   "source": [
    "c = cIPFP(X1, X2,  number_time_steps=100, batch_size=20)"
   ]
  },
  {
   "cell_type": "code",
   "execution_count": 82,
   "metadata": {},
   "outputs": [],
   "source": [
    " _, init_params_f = c.b_forward_init(c.rng, (-1, c.dim))                                             \n",
    "opt_state_f = c.opt_init_f(init_params_f)\n",
    "\n",
    "\n",
    "theta_f = c.get_params_f(opt_state_f)\n"
   ]
  },
  {
   "cell_type": "code",
   "execution_count": 83,
   "metadata": {},
   "outputs": [
    {
     "data": {
      "text/plain": [
       "((100,), ())"
      ]
     },
     "execution_count": 83,
     "metadata": {},
     "output_type": "execute_result"
    }
   ],
   "source": [
    "theta_f[0][1].shape, theta_f[1]"
   ]
  },
  {
   "cell_type": "code",
   "execution_count": 84,
   "metadata": {},
   "outputs": [],
   "source": [
    "t, Xt = c.sample_trajectory(X1[0],c.dt,  theta_f,  c.sigma, c.b_forward, c.number_time_steps, c.sde_solver, True)"
   ]
  },
  {
   "cell_type": "code",
   "execution_count": 85,
   "metadata": {},
   "outputs": [
    {
     "data": {
      "text/plain": [
       "[<matplotlib.lines.Line2D at 0x7fe57b46cd30>]"
      ]
     },
     "execution_count": 85,
     "metadata": {},
     "output_type": "execute_result"
    },
    {
     "data": {
      "image/png": "[encoded data removed]",
      "text/plain": [
       "<Figure size 432x288 with 1 Axes>"
      ]
     },
     "metadata": {},
     "output_type": "display_data"
    }
   ],
   "source": [
    "import matplotlib.pyplot as plt\n",
    "\n",
    "plt.plot(t, Xt.flatten())"
   ]
  },
  {
   "cell_type": "code",
   "execution_count": 40,
   "metadata": {},
   "outputs": [],
   "source": [
    "import numpy as onp\n",
    "import jax.numpy as np\n",
    "\n",
    "X0 = np.array(X1[0,:])\n",
    "t0=0\n",
    "\n",
    "alfa  = c.b_forward \n",
    "beta = c.sigma\n",
    "randn = onp.random.randn\n",
    "dt = c.dt\n",
    "N= c.number_time_steps\n",
    "theta = theta_f\n",
    "\n",
    "\n",
    "if alfa is None or beta is None:\n",
    "    raise ValueError(\"Error: SDE not defined.\")\n",
    "\n",
    "\n",
    "X0 = randn(*alfa(0, 0).shape) if X0 is None else np.array(X0)\n",
    "#     DW = (lambda Y, dt: randn((len(X0))) * np.sqrt(dt)) if DW is None else DW\n",
    "DWs  = randn(N-1, len(X0))  * np.sqrt(dt)\n",
    "\n",
    "\n",
    "\n",
    "Y, ti = np.zeros((N, len(X0))), np.arange(N)*dt + t0\n",
    "Y = jax.ops.index_update(Y, jax.ops.index[0,:],  X0)\n",
    "\n"
   ]
  },
  {
   "cell_type": "code",
   "execution_count": 42,
   "metadata": {},
   "outputs": [],
   "source": [
    "loss= c.loss_for_trajectory(Xt, c.b_forward, c.b_backward, c.dt, theta_f, True)"
   ]
  },
  {
   "cell_type": "code",
   "execution_count": 43,
   "metadata": {},
   "outputs": [],
   "source": [
    "cross_entropy = log_kde_pdf_per_point(Xt[-1].reshape(-1,1), X2, c.H_0)"
   ]
  },
  {
   "cell_type": "code",
   "execution_count": 44,
   "metadata": {},
   "outputs": [
    {
     "name": "stdout",
     "output_type": "stream",
     "text": [
      "done with loop\n",
      "<function serial.<locals>.apply_fun at 0x7fe591860ae8> True <function cIPFP.__init__.<locals>.<lambda> at 0x7fe5918ed620>\n",
      "normalised\n",
      "done with function\n",
      "CPU times: user 277 ms, sys: 0 ns, total: 277 ms\n",
      "Wall time: 451 ms\n"
     ]
    },
    {
     "data": {
      "text/plain": [
       "DeviceArray(125.66225, dtype=float32)"
      ]
     },
     "execution_count": 44,
     "metadata": {},
     "output_type": "execute_result"
    }
   ],
   "source": [
    "%%time\n",
    "c.inner_loss(theta_f, X1, True)"
   ]
  },
  {
   "cell_type": "code",
   "execution_count": 45,
   "metadata": {},
   "outputs": [
    {
     "name": "stdout",
     "output_type": "stream",
     "text": [
      "done with loop\n",
      "<function serial.<locals>.apply_fun at 0x7fe591860ae8> True <function cIPFP.__init__.<locals>.<lambda> at 0x7fe5918ed620>\n",
      "normalised\n",
      "done with function\n",
      "CPU times: user 16 ms, sys: 532 µs, total: 16.5 ms\n",
      "Wall time: 24.1 ms\n"
     ]
    },
    {
     "data": {
      "text/plain": [
       "DeviceArray(229.42915, dtype=float32)"
      ]
     },
     "execution_count": 45,
     "metadata": {},
     "output_type": "execute_result"
    }
   ],
   "source": [
    "%%time\n",
    "c.inner_loss(theta_f, X1, True)"
   ]
  },
  {
   "cell_type": "code",
   "execution_count": null,
   "metadata": {},
   "outputs": [
    {
     "name": "stdout",
     "output_type": "stream",
     "text": [
      "<function cIPFP.sample_trajectory.<locals>.<lambda> at 0x7f1d0406a2f0> False <function cIPFP.__init__.<locals>.<lambda> at 0x7f1d0406bae8>\n",
      "<function cIPFP.sample_trajectory.<locals>.<lambda> at 0x7f1d04051c80> False <function cIPFP.__init__.<locals>.<lambda> at 0x7f1d0406bae8>\n",
      "<function cIPFP.sample_trajectory.<locals>.<lambda> at 0x7f1cb933e510> False <function cIPFP.__init__.<locals>.<lambda> at 0x7f1d0406bae8>\n"
     ]
    }
   ],
   "source": [
    "\n",
    "_, init_params_f = c.b_forward_init(c.rng, (-1, c.dim))                                             \n",
    "opt_state_f = c.opt_init_f(init_params_f)\n",
    "\n",
    "_, init_params_b = c.b_backward_init(c.rng, (-1, c.dim))                                               \n",
    "opt_state_b = c.opt_init_b(init_params_b)\n",
    "\n",
    "batches_f = c.data_stream(forward=True)\n",
    "batches_b = c.data_stream(forward=False)\n",
    "\n",
    "c.update(0, opt_state_b, next(batches_b), forwards=False)\n",
    "                                       "
   ]
  },
  {
   "cell_type": "code",
   "execution_count": 30,
   "metadata": {},
   "outputs": [],
   "source": [
    "from jax import grad\n"
   ]
  },
  {
   "cell_type": "code",
   "execution_count": 49,
   "metadata": {},
   "outputs": [
    {
     "name": "stdout",
     "output_type": "stream",
     "text": [
      "done with loop\n",
      "<function serial.<locals>.apply_fun at 0x7fe591860ae8> True <function cIPFP.__init__.<locals>.<lambda> at 0x7fe5918ed620>\n",
      "normalised\n",
      "done with function\n",
      "CPU times: user 2.6 s, sys: 2.52 ms, total: 2.6 s\n",
      "Wall time: 4.75 s\n"
     ]
    }
   ],
   "source": [
    "%%time\n",
    "gradient = jit(grad(c.inner_loss), static_argnums=(2))\n",
    "kek = gradient(theta_f, X1, True)\n",
    "# partial(jit, static_argnums=(2))(gradient)"
   ]
  },
  {
   "cell_type": "code",
   "execution_count": 50,
   "metadata": {},
   "outputs": [
    {
     "name": "stdout",
     "output_type": "stream",
     "text": [
      "CPU times: user 1.12 ms, sys: 0 ns, total: 1.12 ms\n",
      "Wall time: 717 µs\n"
     ]
    }
   ],
   "source": [
    "%%time\n",
    "kek = gradient(theta_f, X1, True)"
   ]
  },
  {
   "cell_type": "code",
   "execution_count": 86,
   "metadata": {},
   "outputs": [
    {
     "name": "stdout",
     "output_type": "stream",
     "text": [
      "loss b 151.31149291992188\n",
      "loss f 40.52336120605469\n",
      "CPU times: user 33.3 s, sys: 168 ms, total: 33.4 s\n",
      "Wall time: 37.8 s\n"
     ]
    },
    {
     "data": {
      "image/png": "[encoded data removed]",
      "text/plain": [
       "<Figure size 432x288 with 1 Axes>"
      ]
     },
     "metadata": {},
     "output_type": "display_data"
    }
   ],
   "source": [
    "%%time\n",
    "c.fit(1,1)"
   ]
  },
  {
   "cell_type": "code",
   "execution_count": 87,
   "metadata": {},
   "outputs": [
    {
     "name": "stdout",
     "output_type": "stream",
     "text": [
      "loss b 153.4525146484375\n",
      "loss f 26.2937068939209\n",
      "CPU times: user 286 ms, sys: 4.23 ms, total: 290 ms\n",
      "Wall time: 354 ms\n"
     ]
    },
    {
     "data": {
      "image/png": "[encoded data removed]",
      "text/plain": [
       "<Figure size 432x288 with 1 Axes>"
      ]
     },
     "metadata": {},
     "output_type": "display_data"
    }
   ],
   "source": [
    "%%time\n",
    "c.fit(1,1)"
   ]
  },
  {
   "cell_type": "code",
   "execution_count": 88,
   "metadata": {},
   "outputs": [
    {
     "name": "stdout",
     "output_type": "stream",
     "text": [
      "loss b 149.1532440185547\n",
      "loss b 162.2359161376953\n",
      "loss b 151.12667846679688\n",
      "loss b 180.73336791992188\n",
      "loss b 118.33247375488281\n",
      "loss b 163.31817626953125\n",
      "loss b 143.3074493408203\n",
      "loss b 116.7833480834961\n",
      "loss b 174.56674194335938\n",
      "loss b 160.0487823486328\n",
      "loss f 35.89860153198242\n",
      "loss f 19.877273559570312\n",
      "loss f 20.020902633666992\n",
      "loss f 76.64955139160156\n",
      "loss f 24.043689727783203\n",
      "loss f 26.434223175048828\n",
      "loss f 14.169787406921387\n",
      "loss f 7.744053840637207\n",
      "loss f 5.199126243591309\n",
      "loss f 3.1523969173431396\n",
      "loss b 122.28440856933594\n",
      "loss b -2492.65673828125\n",
      "loss b nan\n",
      "loss b nan\n",
      "loss b nan\n",
      "loss b nan\n",
      "loss b nan\n",
      "loss b nan\n",
      "loss b nan\n",
      "loss b nan\n",
      "loss f 2.955779790878296\n",
      "loss f 2.7707128524780273\n",
      "loss f 4.669300556182861\n",
      "loss f 6.38274621963501\n",
      "loss f 5.665905952453613\n",
      "loss f 4.989208221435547\n",
      "loss f 2.143202781677246\n",
      "loss f 1.977973222732544\n",
      "loss f 1.4063540697097778\n",
      "loss f 1.4540989398956299\n",
      "loss b nan\n",
      "loss b nan\n",
      "loss b nan\n",
      "loss b nan\n",
      "loss b nan\n",
      "loss b nan\n",
      "loss b nan\n",
      "loss b nan\n",
      "loss b nan\n",
      "loss b nan\n",
      "loss f 2.6352789402008057\n",
      "loss f 3.0435290336608887\n",
      "loss f 2.099910259246826\n",
      "loss f 1.4625574350357056\n",
      "loss f 1.25935697555542\n",
      "loss f 0.42593374848365784\n",
      "loss f 10.576016426086426\n",
      "loss f 1.679405927658081\n",
      "loss f 3.963876247406006\n",
      "loss f 1.97429621219635\n",
      "loss b nan\n",
      "loss b nan\n",
      "loss b nan\n",
      "loss b nan\n",
      "loss b nan\n",
      "loss b nan\n",
      "loss b nan\n",
      "loss b nan\n",
      "loss b nan\n",
      "loss b nan\n",
      "loss f 2.297154426574707\n",
      "loss f 0.7860115170478821\n",
      "loss f 1.3979508876800537\n",
      "loss f 0.866476833820343\n",
      "loss f 1.1406166553497314\n",
      "loss f 1.3100001811981201\n",
      "loss f 1.3266422748565674\n",
      "loss f 2.476942777633667\n",
      "loss f 0.6159783601760864\n",
      "loss f 4.237544059753418\n",
      "loss b nan\n",
      "loss b nan\n",
      "loss b nan\n",
      "loss b nan\n",
      "loss b nan\n",
      "loss b nan\n",
      "loss b nan\n",
      "loss b nan\n",
      "loss b nan\n",
      "loss b nan\n",
      "loss f 4.786690711975098\n",
      "loss f 4.688304901123047\n",
      "loss f 2.6910319328308105\n",
      "loss f 1.868512511253357\n",
      "loss f 0.7933069467544556\n",
      "loss f 14.375328063964844\n",
      "loss f 2.3817689418792725\n",
      "loss f 7.376950263977051\n",
      "loss f 2.3222568035125732\n",
      "loss f 2.4883790016174316\n",
      "loss b nan\n",
      "loss b nan\n",
      "loss b nan\n",
      "loss b nan\n",
      "loss b nan\n",
      "loss b nan\n",
      "loss b nan\n",
      "loss b nan\n",
      "loss b nan\n",
      "loss b nan\n",
      "loss f 2.525067090988159\n",
      "loss f 1.6556780338287354\n",
      "loss f 2.0394845008850098\n",
      "loss f 1.6113218069076538\n",
      "loss f 1.4804891347885132\n",
      "loss f 3.392498016357422\n",
      "loss f 3.617539644241333\n",
      "loss f 1.5448570251464844\n",
      "loss f 0.4705827832221985\n",
      "loss f 4.171766757965088\n",
      "loss b nan\n",
      "loss b nan\n",
      "loss b nan\n",
      "loss b nan\n",
      "loss b nan\n",
      "loss b nan\n",
      "loss b nan\n",
      "loss b nan\n",
      "loss b nan\n",
      "loss b nan\n",
      "loss f 4.109034538269043\n",
      "loss f 5.261881351470947\n",
      "loss f 3.477257251739502\n",
      "loss f 2.3278415203094482\n",
      "loss f 1.8533146381378174\n",
      "loss f 3.6428558826446533\n",
      "loss f 0.14409340918064117\n",
      "loss f 5.893711090087891\n",
      "loss f 0.8197562098503113\n",
      "loss f 1.1955716609954834\n",
      "loss b nan\n",
      "loss b nan\n",
      "loss b nan\n",
      "loss b nan\n",
      "loss b nan\n",
      "loss b nan\n",
      "loss b nan\n",
      "loss b nan\n",
      "loss b nan\n",
      "loss b nan\n",
      "loss f 1.9912264347076416\n",
      "loss f 0.8491493463516235\n",
      "loss f 1.994383454322815\n",
      "loss f 0.7404701709747314\n",
      "loss f 1.1285841464996338\n",
      "loss f 0.8053439855575562\n",
      "loss f 1.9190887212753296\n",
      "loss f 0.6955520510673523\n",
      "loss f 0.24177928268909454\n",
      "loss f 1.7766857147216797\n",
      "loss b nan\n",
      "loss b nan\n",
      "loss b nan\n",
      "loss b nan\n",
      "loss b nan\n",
      "loss b nan\n",
      "loss b nan\n",
      "loss b nan\n",
      "loss b nan\n",
      "loss b nan\n",
      "loss f 2.9964206218719482\n",
      "loss f 2.5268473625183105\n",
      "loss f 2.2798306941986084\n",
      "loss f 1.367358922958374\n",
      "loss f 0.6867247223854065\n",
      "loss f 0.39263755083084106\n",
      "loss f 10.073525428771973\n",
      "loss f 2.9247243404388428\n",
      "loss f 1.2036510705947876\n",
      "loss f 1.8236720561981201\n",
      "loss b nan\n",
      "loss b nan\n",
      "loss b nan\n",
      "loss b nan\n",
      "loss b nan\n",
      "loss b nan\n",
      "loss b nan\n",
      "loss b nan\n",
      "loss b nan\n",
      "loss b nan\n",
      "loss f 0.9049320220947266\n",
      "loss f 0.7945360541343689\n",
      "loss f 1.818016767501831\n",
      "loss f 0.9190667271614075\n",
      "loss f 0.97406405210495\n",
      "loss f 0.9620739221572876\n",
      "loss f 1.0455070734024048\n",
      "loss f 0.7937667369842529\n",
      "loss f 1.8676214218139648\n",
      "loss f 1.5440101623535156\n"
     ]
    },
    {
     "data": {
      "image/png": "[encoded data removed]",
      "text/plain": [
       "<Figure size 432x288 with 1 Axes>"
      ]
     },
     "metadata": {},
     "output_type": "display_data"
    }
   ],
   "source": [
    "c.fit(10,10)"
   ]
  },
  {
   "cell_type": "code",
   "execution_count": null,
   "metadata": {},
   "outputs": [],
   "source": []
  }
 ],
 "metadata": {
  "kernelspec": {
   "display_name": "Python 3",
   "language": "python",
   "name": "python3"
  },
  "language_info": {
   "codemirror_mode": {
    "name": "ipython",
    "version": 3
   },
   "file_extension": ".py",
   "mimetype": "text/x-python",
   "name": "python",
   "nbconvert_exporter": "python",
   "pygments_lexer": "ipython3",
   "version": "3.6.9"
  }
 },
 "nbformat": 4,
 "nbformat_minor": 2
}
