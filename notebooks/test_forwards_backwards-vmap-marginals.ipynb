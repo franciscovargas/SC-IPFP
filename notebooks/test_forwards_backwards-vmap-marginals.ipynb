{
 "cells": [
  {
   "cell_type": "code",
   "execution_count": 157,
   "metadata": {},
   "outputs": [],
   "source": [
    "import sys\n",
    "sys.path.append(\"/auto/homes/fav25/jax/\")\n",
    "\n",
    "import jax.numpy as np\n",
    "# import autograd.numpy\n",
    "# import numpy as np\n",
    "\n",
    "from SC_IPFP.sde_solvers import solve_sde_RK\n",
    "from SC_IPFP.utils import log_kde_pdf_per_point, silvermans_rule\n",
    "\n",
    "from jax.config import config\n",
    "from jax import jit, grad, random\n",
    "from jax.experimental import optimizers\n",
    "from jax.experimental import stax\n",
    "from jax.experimental.stax import Dense, Relu, LogSoftmax, Sigmoid, Tanh\n",
    "import numpy.random as npr\n",
    "import jax\n",
    "from tqdm.notebook import tqdm\n",
    "import numpy as onp\n",
    "\n",
    "\n",
    "import itertools\n",
    "from functools import partial\n",
    "# np = jax.numpy\n",
    "import matplotlib.pyplot as plt\n",
    "# np = autograd.numpy"
   ]
  },
  {
   "cell_type": "code",
   "execution_count": 278,
   "metadata": {},
   "outputs": [],
   "source": [
    "\n",
    "def knn_log_prob(xTrain, xTest, k=5):\n",
    "    \"\"\"\n",
    "    Finds the k nearest neighbors of xTest in xTrain.\n",
    "    Input:\n",
    "    xTrain = n x d matrix. n=rows and d=features\n",
    "    xTest = m x d matrix. m=rows and d=features (same amount of features as xTrain)\n",
    "    k = number of nearest neighbors to be found\n",
    "    Output:\n",
    "    dists = distances between xTrain/xTest points. Size of n x m\n",
    "    indices = kxm matrix with indices of yTrain labels\n",
    "    \"\"\"\n",
    "    #the following formula calculates the Euclidean distances.\n",
    "    distances = -2 * np.dot(xTrain, xTest.T) + np.sum(xTest**2,axis=1) + np.sum(xTrain**2,axis=1)[:, np.newaxis]\n",
    "    #because of numpy precision, some really small numbers might \n",
    "    #become negatives. So, the following is required.\n",
    "    distances = np.clip(distances, 0, None)\n",
    "    #for speed you can avoid the square root since it won't affect\n",
    "    #the result, but apply it for exact distances.\n",
    "#     distances = distances**.5\n",
    "#     indices = np.argsort(distances, 0) #get indices of sorted items\n",
    "    distances = np.sort(distances,0) #distances sorted in axis 0\n",
    "    #returning the top-k closest distances.\n",
    "    return  -np.mean(distances[:10,:])**.5\n"
   ]
  },
  {
   "cell_type": "code",
   "execution_count": 283,
   "metadata": {},
   "outputs": [],
   "source": [
    "class cIPFP(object):\n",
    "    \n",
    "    def __init__(self, X_0, X_1, weights=[100], batch_size=None,  rng = jax.random.PRNGKey(0), \n",
    "                nrng = npr.RandomState(0), number_time_steps=16, sde_solver=solve_sde_RK, sigma_sq=1, \n",
    "                step_size = 0.001, num_epochs = 10, momentum_mass = 0.9, create_network=None, log_prob=log_kde_pdf_per_point):\n",
    "        \n",
    "        self.sde_solver = sde_solver\n",
    "        \n",
    "        self.number_time_steps = number_time_steps\n",
    "        self.dt = 1.0 / number_time_steps\n",
    "        \n",
    "        \n",
    "        self.batch_size_f = X_0.shape[0] if batch_size is None else batch_size\n",
    "        self.batch_size_b = X_1.shape[0] if batch_size is None else batch_size\n",
    "        \n",
    "        \n",
    "        self.X_0 = X_0\n",
    "        self.X_1 = X_1\n",
    "        \n",
    "        self.H_0 = silvermans_rule(X_0)\n",
    "        self.H_1 = silvermans_rule(X_1)\n",
    "        \n",
    "        _, self.dim = self.X_0.shape\n",
    "        \n",
    "        create_net = self.create_network if  create_network is None else create_network\n",
    "        \n",
    "        self.b_forward_init, self.b_forward = create_net(\n",
    "            self.dim, weights\n",
    "        )\n",
    "        self.b_backward_init, self.b_backward = create_net(\n",
    "            self.dim, weights\n",
    "        )\n",
    "        \n",
    "        self.sigma = (lambda X,t: sigma_sq)\n",
    "        \n",
    "        self.rng = rng\n",
    "        self.nrng = nrng\n",
    "        \n",
    "        self.opt_init_f, self.opt_update_f, self.get_params_f = (\n",
    "            optimizers.adam(step_size) #, mass=momentum_mass)\n",
    "        )\n",
    "        \n",
    "        self.opt_init_b, self.opt_update_b, self.get_params_b = (\n",
    "            optimizers.adam(step_size) #, mass=momentum_mass)\n",
    "        )\n",
    "        \n",
    "        num_complete_batches_f, leftover_f = divmod(self.X_0.shape[0], self.batch_size_f)\n",
    "        self.num_batches_f = num_complete_batches_f + bool(leftover_f)\n",
    "                                               \n",
    "        num_complete_batches_b, leftover_b = divmod(self.X_1.shape[0], self.batch_size_b)\n",
    "        self.num_batches_b = num_complete_batches_b + bool(leftover_b)\n",
    "        \n",
    "        self.theta_f = None\n",
    "        self.theta_b = None\n",
    "        \n",
    "        self.log_prob=log_prob\n",
    "        \n",
    "    \n",
    "    @staticmethod\n",
    "    def create_network(dim, weights):\n",
    "        \n",
    "        model  = []\n",
    "        for weight in weights:\n",
    "            model.append(\n",
    "                Dense(weight)\n",
    "            )\n",
    "                        \n",
    "            model.append(\n",
    "                Relu\n",
    "            )\n",
    "            \n",
    "        \n",
    "        model.append(Dense(dim))\n",
    "    \n",
    "        init_random_params, predict = stax.serial(\n",
    "           *model\n",
    "        )\n",
    "        return init_random_params, predict\n",
    "    \n",
    "    def data_stream(self, forward=True):\n",
    "        rng = self.nrng\n",
    "        X = self.X_0 if forward else self.X_1\n",
    "        \n",
    "        batch_size = self.batch_size_f if forward else self.batch_size_b\n",
    "        num_batches = self.num_batches_f if forward else self.num_batches_b\n",
    "        \n",
    "        num_train = self.X_0.shape[0] if forward else self.X_1.shape[0]\n",
    "        while True:\n",
    "            perm = rng.permutation(num_train)\n",
    "            for i in range(num_batches):\n",
    "                batch_idx = perm[i * batch_size:(i + 1) * batch_size]\n",
    "                yield X[batch_idx] \n",
    "        \n",
    "#     @partial(jit, static_argnums=(0,3))\n",
    "    def loss_for_trajectory(self, Xt, theta, W, forwards):\n",
    "        n_, *_ = Xt.shape\n",
    "        \n",
    "        if not forwards : Xt = Xt[: , ::-1, :]\n",
    "        \n",
    "        if forwards:\n",
    "            b_minus  = self.b_backward(self.theta_b, Xt)\n",
    "            b_plus = self.b_forward(theta, Xt)\n",
    "        else:\n",
    "            b_minus  = self.b_backward(theta, Xt)\n",
    "            b_plus = self.b_forward(self.theta_f, Xt)\n",
    "\n",
    "            \n",
    "        delta_Xt = Xt[:, 1:, :] - Xt[:, :-1, :]  \n",
    "        \n",
    "        sign = 1.0 if forwards else -1.0\n",
    "        \n",
    "        ito_integral = sign *  (b_plus[:, :-1,:] - b_minus[:, 1:,:])  * delta_Xt\n",
    "        \n",
    "        time_integral = sign *  (b_plus**2 - b_minus**2) * self.dt \n",
    "        \n",
    "        out =  ito_integral.sum(axis=(1,2)) - 0.5 * time_integral.sum(axis=(1,2))\n",
    "        \n",
    "        if np.isnan(out).any() or np.isinf(out).any():\n",
    "            import pdb; pdb.set_trace()\n",
    "        return out\n",
    "\n",
    "#     @partial(jit, static_argnums=(0,6,7,8,9,10,11))\n",
    "    def inner_loss_jit(self, theta, batch,  \n",
    "                       batch_terminal_empirical,\n",
    "                       H,  forwards):\n",
    "        \n",
    "        b = (\n",
    "            self.b_forward if forwards else (lambda X, theta: -self.b_backward(X, theta))\n",
    "        )\n",
    "        \n",
    "        t, Xt, *W = self.sde_solver(\n",
    "            alfa=b, beta=self.sigma, dt=self.dt, X0=batch,\n",
    "            N= self.number_time_steps, theta=theta\n",
    "        )\n",
    "        \n",
    "        cross_entropy = -self.log_prob(Xt[:,-1,:], batch_terminal_empirical, H)\n",
    "        main_term = self.loss_for_trajectory(Xt, theta, W, forwards)\n",
    "        \n",
    "        if np.isnan(cross_entropy).any() or np.isnan(main_term).any():\n",
    "            import pdb; pdb.set_trace()\n",
    "\n",
    "        J = np.mean(main_term + cross_entropy )\n",
    "        J = np.squeeze(J)\n",
    "        return J\n",
    "    \n",
    "    def inner_loss(self, theta, batch, forwards=True):\n",
    "                       \n",
    "        batch_terminal_empirical = next(self.data_stream(forward=not(forwards)))\n",
    "    \n",
    "        H = self.H_1 if forwards else self.H_0\n",
    "        return self.inner_loss_jit(\n",
    "            theta, batch,\n",
    "            batch_terminal_empirical, H ,  forwards\n",
    "        )\n",
    "\n",
    "#     @partial(jit, static_argnums=(0,1, 4))\n",
    "    def update(self, i, opt_state, batch, forwards=True):\n",
    "\n",
    "        get_params = self.get_params_f if forwards else self.get_params_b\n",
    "        params = get_params(opt_state)\n",
    "        \n",
    "        gradient = grad(self.inner_loss)(params, batch, forwards)\n",
    "    \n",
    "        opt_update  = self.opt_update_f if forwards else self.opt_update_b\n",
    "        return opt_update(i, gradient, opt_state)\n",
    "\n",
    "    def fit(self, IPFP_iterations=10, sub_iterations=10):     \n",
    "        \n",
    "        _, init_params_f = self.b_forward_init(self.rng, (-1, self.dim))                                             \n",
    "        opt_state_f = self.opt_init_f(init_params_f)\n",
    "        \n",
    "        _, init_params_b = self.b_backward_init(self.rng, (-1, self.dim))                                               \n",
    "        opt_state_b = self.opt_init_b(init_params_b)\n",
    "        \n",
    "        batches_f = self.data_stream(forward=True)\n",
    "        batches_b = self.data_stream(forward=False)\n",
    "        \n",
    "        loss_f, loss_b = [], []\n",
    "        \n",
    "        self.theta_f = self.get_params_f(opt_state_f)\n",
    "        self.theta_b = self.get_params_b(opt_state_b)\n",
    "        \n",
    "        for i in tqdm(range(IPFP_iterations)):\n",
    "\n",
    "            itercount = itertools.count()\n",
    "\n",
    "            for k in range(sub_iterations):\n",
    "                for _ in range(self.num_batches_b):\n",
    "                    batch_b =  next(batches_b)\n",
    "                    opt_state_b  = self.update(\n",
    "                        next(itercount), opt_state_b, batch_b, False\n",
    "                    )\n",
    "\n",
    "                params_b = self.get_params_b(opt_state_b)\n",
    "                lossb = self.inner_loss(params_b, batch_b, False)\n",
    "                print(f\"loss b {lossb}\")\n",
    "            loss_b.append(lossb)\n",
    "\n",
    "            self.theta_b = params_b\n",
    "\n",
    "            itercount = itertools.count()\n",
    "\n",
    "            for k in range(sub_iterations):\n",
    "                for _ in range(self.num_batches_f):\n",
    "                    batch_f =  next(batches_f)\n",
    "                    opt_state_f = self.update(\n",
    "                        next(itercount), opt_state_f, next(batches_f), True\n",
    "                    )\n",
    "                params_f = self.get_params_f(opt_state_f)\n",
    "                lossf = self.inner_loss(params_f, batch_f, True)\n",
    "                print(f\"loss f {lossf}\")\n",
    "            loss_f.append(lossf)\n",
    "\n",
    "\n",
    "            self.theta_f = params_f\n",
    "\n",
    "            self.loss_f = loss_f\n",
    "            self.loss_b = loss_b\n",
    "\n",
    "        \n",
    "        plt.plot(range(IPFP_iterations), loss_f, \"g\")\n",
    "        plt.show()\n",
    "        plt.plot(range(IPFP_iterations), loss_b, \"b\")\n",
    "        plt.show()\n",
    "    \n",
    "    #     @partial(jit, static_argnums=(0,2))\n",
    "    def transport_batch(self, batch_x, forwards):\n",
    "        theta = self.theta_f if forwards else self.theta_b    \n",
    "        b = self.b_forward if forwards else  lambda X, theta: -self.b_backward(X, theta)\n",
    "\n",
    "        t, Xt = self.sde_solver(\n",
    "            alfa=b, beta=self.sigma, dt=self.dt, \n",
    "            X0=batch_x.reshape(-1,self.dim), N=self.number_time_steps, theta=theta\n",
    "        )\n",
    "\n",
    "        return Xt[:,-1,:]\n",
    "            "
   ]
  },
  {
   "cell_type": "code",
   "execution_count": 284,
   "metadata": {},
   "outputs": [
    {
     "data": {
      "text/plain": [
       "[<matplotlib.lines.Line2D at 0x7f0799fd6710>]"
      ]
     },
     "execution_count": 284,
     "metadata": {},
     "output_type": "execute_result"
    },
    {
     "data": {
      "image/png": "[encoded data removed]",
      "text/plain": [
       "<Figure size 432x288 with 1 Axes>"
      ]
     },
     "metadata": {},
     "output_type": "display_data"
    }
   ],
   "source": [
    "n = 900\n",
    "n_2 = int(n / 3.0)\n",
    "\n",
    "X1 = npr.randn(n).reshape(-1,1) +50\n",
    "X21 = 0.6 * npr.randn(450).reshape(-1,1) + 50\n",
    "X22 =  0.6 * npr.randn(450).reshape(-1,1) - 50\n",
    "# X23 =  0.6 * npr.randn(300).reshape(-1,1) - 30\n",
    "\n",
    "X2 = np.concatenate((X22, X21), axis=0)\n",
    "\n",
    "perm = onp.random.permutation(n)\n",
    "\n",
    "X2 = X2[perm,:] \n",
    "\n",
    "plt.plot(X2.flatten(), [0] * n, '.')\n",
    "plt.plot(X1.flatten(), [0] * n, '.')"
   ]
  },
  {
   "cell_type": "code",
   "execution_count": null,
   "metadata": {
    "scrolled": true
   },
   "outputs": [
    {
     "data": {
      "application/vnd.jupyter.widget-view+json": {
       "model_id": "ee2b88b1557242ab8be5d5f7f9106ffd"
      }
     },
     "metadata": {},
     "output_type": "display_data"
    },
    {
     "name": "stdout",
     "output_type": "stream",
     "text": [
      "loss b 171.43992614746094\n",
      "loss b 696.106689453125\n",
      "loss b 640.7555541992188\n",
      "loss b 627.6548461914062\n",
      "loss b 871.3699951171875\n",
      "loss b 1009.4761352539062\n",
      "loss b 1018.3032836914062\n",
      "loss b 917.885009765625\n",
      "loss b 982.6798706054688\n",
      "loss b 969.7505493164062\n",
      "loss b 920.9478759765625\n",
      "loss b 983.1214599609375\n",
      "loss b 1329.4444580078125\n",
      "loss b 1573.5897216796875\n",
      "loss b 1706.2254638671875\n",
      "loss b 1676.153564453125\n",
      "loss b 1512.8209228515625\n",
      "loss b 1266.8414306640625\n",
      "loss b 1053.77392578125\n",
      "loss b 808.916015625\n",
      "loss b 564.0643920898438\n",
      "loss b 353.593994140625\n",
      "loss b 535.6202392578125\n",
      "loss b 814.0239868164062\n",
      "loss b 1091.380615234375\n",
      "loss b 1331.526123046875\n",
      "loss b 1518.5772705078125\n",
      "loss b 1651.553466796875\n",
      "loss b 1707.4404296875\n",
      "loss b 1704.2489013671875\n",
      "loss f 267.824951171875\n",
      "loss f 83.27066802978516\n",
      "loss f 68.39569854736328\n",
      "loss f 70.6180419921875\n",
      "loss f 68.82461547851562\n",
      "loss f 67.5814437866211\n",
      "loss f 66.91957092285156\n",
      "loss f 67.75393676757812\n",
      "loss f 67.45069885253906\n",
      "loss f 67.00446319580078\n",
      "loss f 67.12681579589844\n",
      "loss f 67.2905044555664\n",
      "loss f 66.88003540039062\n",
      "loss f 66.9332046508789\n",
      "loss f 67.00667572021484\n",
      "loss f 66.8330307006836\n",
      "loss f 67.00653839111328\n",
      "loss f 67.00346374511719\n",
      "loss f 67.05269622802734\n",
      "loss f 66.8548812866211\n",
      "loss f 67.1067123413086\n",
      "loss f 67.05520629882812\n",
      "loss f 67.01141357421875\n",
      "loss f 66.8929214477539\n",
      "loss f 66.85319519042969\n",
      "loss f 67.00746154785156\n",
      "loss f 67.04617309570312\n",
      "loss f 66.81172180175781\n",
      "loss f 66.95601654052734\n",
      "loss f 67.06896209716797\n",
      "loss b 1635.1268310546875\n",
      "loss b 1498.662353515625\n",
      "loss b 1342.0155029296875\n",
      "loss b 1193.523193359375\n",
      "loss b 1097.2142333984375\n",
      "loss b 982.373779296875\n",
      "loss b 870.740966796875\n",
      "loss b 781.8544921875\n",
      "loss b 691.5538330078125\n",
      "loss b 601.0467529296875\n",
      "loss b 534.7970581054688\n",
      "loss b 644.7787475585938\n",
      "loss b 793.7071533203125\n",
      "loss b 1005.9797973632812\n",
      "loss b 1258.608642578125\n",
      "loss b 1543.107421875\n",
      "loss b 1834.3057861328125\n",
      "loss b 2112.0869140625\n",
      "loss b 2313.369140625\n",
      "loss b 2428.525634765625\n",
      "loss b 2537.943603515625\n",
      "loss b 2472.1650390625\n",
      "loss b 2756.47900390625\n",
      "loss b 2334.598388671875\n",
      "loss b 2217.5478515625\n",
      "loss b 2054.779296875\n",
      "loss b 1855.349609375\n",
      "loss b 1631.83447265625\n",
      "loss b 1420.99267578125\n",
      "loss b 1229.254150390625\n",
      "loss f 78.20301055908203\n",
      "loss f 67.84388732910156\n",
      "loss f 63.79290771484375\n",
      "loss f 68.76658630371094\n",
      "loss f 70.98050689697266\n",
      "loss f 67.58494567871094\n",
      "loss f 64.2821273803711\n",
      "loss f 64.13985443115234\n",
      "loss f 64.98807525634766\n",
      "loss f 66.04547882080078\n",
      "loss f 66.03733825683594\n",
      "loss f 65.0118179321289\n",
      "loss f 64.17906951904297\n",
      "loss f 64.26131439208984\n",
      "loss f 64.57720184326172\n",
      "loss f 65.05709075927734\n",
      "loss f 64.45477294921875\n",
      "loss f 64.32455444335938\n",
      "loss f 64.03768920898438\n",
      "loss f 64.44551849365234\n",
      "loss f 64.16287231445312\n",
      "loss f 64.36128234863281\n",
      "loss f 63.9450569152832\n",
      "loss f 63.83833312988281\n",
      "loss f 63.56797409057617\n",
      "loss f 64.15559387207031\n",
      "loss f 63.9393310546875\n",
      "loss f 64.05635070800781\n",
      "loss f 64.12278747558594\n",
      "loss f 64.0557632446289\n",
      "loss b 887.8157348632812\n",
      "loss b 680.6837768554688\n",
      "loss b 525.7073364257812\n",
      "loss b 415.83154296875\n",
      "loss b 325.9870910644531\n",
      "loss b 249.79148864746094\n",
      "loss b 190.2647247314453\n",
      "loss b 147.44778442382812\n",
      "loss b 115.46170043945312\n",
      "loss b 85.97076416015625\n",
      "loss b 61.61843490600586\n",
      "loss b 45.0430908203125\n",
      "loss b 32.374267578125\n",
      "loss b 23.8508358001709\n",
      "loss b 19.296274185180664\n",
      "loss b 15.956220626831055\n",
      "loss b 14.473702430725098\n",
      "loss b 13.67984390258789\n",
      "loss b 12.909173011779785\n",
      "loss b 13.035493850708008\n",
      "loss b 12.201678276062012\n",
      "loss b 11.279620170593262\n",
      "loss b 10.834518432617188\n",
      "loss b 11.184412002563477\n",
      "loss b 10.871438980102539\n",
      "loss b 10.833771705627441\n",
      "loss b 10.627403259277344\n",
      "loss b 11.263381004333496\n",
      "loss b 11.73780632019043\n",
      "loss b 11.688852310180664\n",
      "loss f 63.16392517089844\n",
      "loss f 61.34675216674805\n",
      "loss f 63.23395538330078\n",
      "loss f 64.05240631103516\n"
     ]
    }
   ],
   "source": [
    "c = cIPFP(X1, X2,  number_time_steps=100, batch_size=n , step_size = 0.01, weights=[100,100,100,100], log_prob=knn_log_prob)\n",
    "c.fit(100,30)"
   ]
  },
  {
   "cell_type": "code",
   "execution_count": 282,
   "metadata": {},
   "outputs": [
    {
     "data": {
      "text/plain": [
       "[<matplotlib.lines.Line2D at 0x7f0799ee3908>]"
      ]
     },
     "execution_count": 282,
     "metadata": {},
     "output_type": "execute_result"
    },
    {
     "data": {
      "image/png": "[encoded data removed]",
      "text/plain": [
       "<Figure size 720x576 with 1 Axes>"
      ]
     },
     "metadata": {},
     "output_type": "display_data"
    }
   ],
   "source": [
    "fig, axs = plt.subplots(1,  sharey=False, figsize=(10,8))\n",
    "\n",
    "\n",
    "X = c.b_forward(c.theta_f, X1)\n",
    "    \n",
    "axs.plot(X.flatten(), [0] * n , 'ob', )"
   ]
  },
  {
   "cell_type": "code",
   "execution_count": 113,
   "metadata": {},
   "outputs": [
    {
     "data": {
      "text/plain": [
       "(DeviceArray(-25.244001, dtype=float32),\n",
       " DeviceArray(-25.240376, dtype=float32))"
      ]
     },
     "execution_count": 113,
     "metadata": {},
     "output_type": "execute_result"
    }
   ],
   "source": [
    "X.min(), X.max()"
   ]
  },
  {
   "cell_type": "code",
   "execution_count": 96,
   "metadata": {},
   "outputs": [
    {
     "data": {
      "image/png": "[encoded data removed]",
      "text/plain": [
       "<Figure size 720x576 with 2 Axes>"
      ]
     },
     "metadata": {},
     "output_type": "display_data"
    }
   ],
   "source": [
    "fig, axs = plt.subplots(2,1,  sharey=False, figsize=(10,8))\n",
    "\n",
    "\n",
    "bb = lambda X, theta: -c.b_backward(X, theta)\n",
    "t, Xts = c.sde_solver(X0=X1,dt=c.dt,  theta=c.theta_f,  beta=c.sigma, alfa=c.b_forward, N=c.number_time_steps)\n",
    "for i in range(n):\n",
    "    \n",
    "    axs[0].plot(t.flatten(), Xts[i,...].flatten(), 'b', alpha=0.03, )\n",
    "BXt = []   \n",
    "\n",
    "t_, Xts_ = c.sde_solver(X0=X2, dt=c.dt,  theta=c.theta_b,  beta=c.sigma, alfa=bb, N=c.number_time_steps)\n",
    "for i in range(n):\n",
    "    \n",
    "#     BXt.append(Xt_[-1,:])\n",
    "    axs[1].plot(t_.flatten(), Xts_[i,...].flatten(), 'r', alpha=0.03)\n"
   ]
  },
  {
   "cell_type": "code",
   "execution_count": 49,
   "metadata": {},
   "outputs": [],
   "source": [
    "X22 = np.array(c.transport_batch( X1, True)).flatten()"
   ]
  },
  {
   "cell_type": "code",
   "execution_count": 50,
   "metadata": {},
   "outputs": [],
   "source": [
    "X11 = np.array(c.transport_batch(X2, False)).flatten()"
   ]
  },
  {
   "cell_type": "code",
   "execution_count": 51,
   "metadata": {},
   "outputs": [
    {
     "data": {
      "text/plain": [
       "<matplotlib.legend.Legend at 0x7f496fdc5b00>"
      ]
     },
     "execution_count": 51,
     "metadata": {},
     "output_type": "execute_result"
    },
    {
     "data": {
      "image/png": "[encoded data removed]",
      "text/plain": [
       "<Figure size 1440x360 with 2 Axes>"
      ]
     },
     "metadata": {},
     "output_type": "display_data"
    }
   ],
   "source": [
    "fig, axs = plt.subplots(1,2, figsize=(20,5))\n",
    "\n",
    "axs[0].plot(X2.flatten(), [0] * n, 'b.', label=\"Source\")\n",
    "axs[0].plot(X11, [0] * n, 'r.', label=\"Transformed\")\n",
    "axs[0].plot(X1.flatten(), [-0.1] * n, 'g.', label=\"Target\")\n",
    "# axs[0].set_xticks([])\n",
    "axs[0].set_yticks([])\n",
    "axs[0].legend()\n",
    "\n",
    "axs[1].plot(X1.flatten(), [0] * n, 'b.', label=\"Source\")\n",
    "axs[1].plot(X22, [0] * n, 'r.', label=\"Transformed\")\n",
    "axs[1].plot(X2.flatten(), [-0.1] * n, 'g.', label=\"Target\")\n",
    "# axs[1].set_xticks([])\n",
    "axs[1].set_yticks([])\n",
    "axs[1].legend()"
   ]
  },
  {
   "cell_type": "code",
   "execution_count": 163,
   "metadata": {},
   "outputs": [],
   "source": [
    "batch_terminal_empirical_f = next(c.data_stream(forward=True))"
   ]
  },
  {
   "cell_type": "code",
   "execution_count": 167,
   "metadata": {},
   "outputs": [
    {
     "data": {
      "text/plain": [
       "[<matplotlib.lines.Line2D at 0x7f074c1539e8>]"
      ]
     },
     "execution_count": 167,
     "metadata": {},
     "output_type": "execute_result"
    },
    {
     "data": {
      "image/png": "[encoded data removed]",
      "text/plain": [
       "<Figure size 432x288 with 1 Axes>"
      ]
     },
     "metadata": {},
     "output_type": "display_data"
    }
   ],
   "source": [
    "xx = np.linspace(0, 100).reshape(-1,1)\n",
    "\n",
    "kd  = np.exp(log_kde_pdf_per_point(xx, batch_terminal_empirical_f, c.H_0))\n",
    "plt.plot(xx, kd)\n",
    "plt.plot(batch_terminal_empirical_f , [0] * len(batch_terminal_empirical_f), \".\")"
   ]
  },
  {
   "cell_type": "code",
   "execution_count": 165,
   "metadata": {},
   "outputs": [],
   "source": [
    "batch_terminal_empirical_b = next(c.data_stream(False))"
   ]
  },
  {
   "cell_type": "code",
   "execution_count": 197,
   "metadata": {},
   "outputs": [
    {
     "data": {
      "text/plain": [
       "[<matplotlib.lines.Line2D at 0x7f074fe7fe80>]"
      ]
     },
     "execution_count": 197,
     "metadata": {},
     "output_type": "execute_result"
    },
    {
     "data": {
      "image/png": "[encoded data removed]",
      "text/plain": [
       "<Figure size 432x288 with 1 Axes>"
      ]
     },
     "metadata": {},
     "output_type": "display_data"
    }
   ],
   "source": [
    "xx = np.linspace(-100, 100).reshape(-1,1)\n",
    "\n",
    "kd_b  = np.exp(log_kde_pdf_per_point(xx, batch_terminal_empirical_b, c.H_1))\n",
    "plt.plot(xx, kd_b)\n",
    "plt.plot(batch_terminal_empirical_b , [0] * len(batch_terminal_empirical_b), \".\")"
   ]
  },
  {
   "cell_type": "code",
   "execution_count": 184,
   "metadata": {},
   "outputs": [
    {
     "data": {
      "text/plain": [
       "[<matplotlib.lines.Line2D at 0x7f074e8fae80>]"
      ]
     },
     "execution_count": 184,
     "metadata": {},
     "output_type": "execute_result"
    },
    {
     "data": {
      "image/png": "[encoded data removed]",
      "text/plain": [
       "<Figure size 432x288 with 1 Axes>"
      ]
     },
     "metadata": {},
     "output_type": "display_data"
    }
   ],
   "source": [
    "xx = np.linspace(-26, 51).reshape(-1,1)\n",
    "\n",
    "kd_b  = (log_kde_pdf_per_point(xx, batch_terminal_empirical_b, c.H_1))\n",
    "# plt.plot(xx, kd_b)\n",
    "plt.plot(xx[0:2], kd_b[0:2])\n",
    "plt.plot(xx[-3:], kd_b[-3:], \"r\")\n",
    "# plt.plot(batch_terminal_empirical_b , [0] * len(batch_terminal_empirical_b), \".\")"
   ]
  },
  {
   "cell_type": "code",
   "execution_count": 187,
   "metadata": {},
   "outputs": [
    {
     "data": {
      "text/plain": [
       "(DeviceArray([[-3.130105  ],\n",
       "              [ 0.1694417 ],\n",
       "              [-0.31907701]], dtype=float32), DeviceArray([[0.0437132],\n",
       "              [1.1846433],\n",
       "              [0.7268196]], dtype=float32))"
      ]
     },
     "execution_count": 187,
     "metadata": {},
     "output_type": "execute_result"
    }
   ],
   "source": [
    "kd_b[-3:], np.exp(kd_b[-3:])"
   ]
  },
  {
   "cell_type": "code",
   "execution_count": 188,
   "metadata": {},
   "outputs": [
    {
     "data": {
      "text/plain": [
       "(DeviceArray([[-6.0029383],\n",
       "              [-9.411141 ]], dtype=float32), DeviceArray([[2.4714796e-03],\n",
       "              [8.1807520e-05]], dtype=float32))"
      ]
     },
     "execution_count": 188,
     "metadata": {},
     "output_type": "execute_result"
    }
   ],
   "source": [
    "kd_b[0:2], np.exp(kd_b[0:2])"
   ]
  },
  {
   "cell_type": "code",
   "execution_count": null,
   "metadata": {},
   "outputs": [],
   "source": []
  }
 ],
 "metadata": {
  "kernelspec": {
   "display_name": "Python 3",
   "language": "python",
   "name": "python3"
  },
  "language_info": {
   "codemirror_mode": {
    "name": "ipython",
    "version": 3
   },
   "file_extension": ".py",
   "mimetype": "text/x-python",
   "name": "python",
   "nbconvert_exporter": "python",
   "pygments_lexer": "ipython3",
   "version": "3.6.9"
  }
 },
 "nbformat": 4,
 "nbformat_minor": 2
}
