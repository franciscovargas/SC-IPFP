{
 "cells": [
  {
   "cell_type": "code",
   "execution_count": 1,
   "metadata": {},
   "outputs": [
    {
     "name": "stderr",
     "output_type": "stream",
     "text": [
      "/auto/homes/fav25/jax/jax/lib/xla_bridge.py:116: UserWarning: No GPU/TPU found, falling back to CPU.\n",
      "  warnings.warn('No GPU/TPU found, falling back to CPU.')\n"
     ]
    }
   ],
   "source": [
    "import sys\n",
    "sys.path.append(\"/auto/homes/fav25/jax/\")\n",
    "\n",
    "import jax.numpy as np\n",
    "# import autograd.numpy\n",
    "import numpy as np\n",
    "\n",
    "from SC_IPFP.sde_solvers import solve_sde_RK\n",
    "from SC_IPFP.utils import log_kde_pdf_per_point, silvermans_rule\n",
    "\n",
    "from jax.config import config\n",
    "from jax import jit, grad, random\n",
    "from jax.experimental import optimizers\n",
    "from jax.experimental import stax\n",
    "from jax.experimental.stax import Dense, Relu, LogSoftmax\n",
    "import numpy.random as npr\n",
    "import jax\n",
    "# np = jax.numpy\n",
    "# np = autograd.numpy"
   ]
  },
  {
   "cell_type": "code",
   "execution_count": 81,
   "metadata": {},
   "outputs": [],
   "source": [
    "class cIPFP(object):\n",
    "    \n",
    "    def __init__(self, X_0, X_1, weights=[100], batch_size=None,  rng = jax.random.PRNGKey(0), \n",
    "                nrng = npr.RandomState(0), number_time_steps=16, sde_solver=solve_sde_RK, sigma_sq=1, \n",
    "                step_size = 0.001, num_epochs = 10, momentum_mass = 0.9, create_network=None):\n",
    "        \n",
    "        self.sde_solver = sde_solver\n",
    "        \n",
    "        self.number_time_steps = number_time_steps\n",
    "        self.dt = 1.0 / number_time_steps\n",
    "        \n",
    "        \n",
    "        self.batch_size_f = X_0.shape[0] if batch_size is None else batch_size\n",
    "        self.batch_size_b = X_1.shape[0] if batch_size is None else batch_size\n",
    "        \n",
    "        \n",
    "        self.X_0 = X_0\n",
    "        self.X_1 = X_1\n",
    "        \n",
    "        self.H_0 = silvermans_rule(X_0)\n",
    "        self.H_1 = silvermans_rule(X_1)\n",
    "        \n",
    "        _, self.dim = self.X_0.shape\n",
    "        \n",
    "        create_net = self.create_network if  create_network is None else create_network\n",
    "        \n",
    "        self.b_forward_init, self.b_forward = create_net(\n",
    "            self.dim, weights\n",
    "        )\n",
    "        self.b_backward_init, self.b_backward = create_net(\n",
    "            self.dim, weights\n",
    "        )\n",
    "        \n",
    "        self.sigma = lambda X,t: sigma_sq\n",
    "        \n",
    "        self.rng = rng\n",
    "        self.nrng = nrng\n",
    "        \n",
    "        self.opt_init_f, self.opt_update_f, self.get_params_f = (\n",
    "            optimizers.momentum(step_size, mass=momentum_mass)\n",
    "        )\n",
    "        \n",
    "        self.opt_init_b, self.opt_update_b, self.get_params_b = (\n",
    "            optimizers.momentum(step_size, mass=momentum_mass)\n",
    "        )\n",
    "        \n",
    "        num_complete_batches_f, leftover_f = divmod(self.X_0.shape[0], self.batch_size_f)\n",
    "        self.num_batches_f = num_complete_batches_f + bool(leftover_f)\n",
    "                                               \n",
    "        num_complete_batches_b, leftover_b = divmod(self.X_1.shape[0], self.batch_size_b)\n",
    "        self.num_batches_b = num_complete_batches_b + bool(leftover_b)\n",
    "        \n",
    "    \n",
    "    @staticmethod\n",
    "    def create_network(dim, weights):\n",
    "        \n",
    "        model  = []\n",
    "        for weight in weights:\n",
    "            model.append(\n",
    "                Dense(weight)\n",
    "            )\n",
    "                        \n",
    "            model.append(\n",
    "                Relu\n",
    "            )\n",
    "            \n",
    "        \n",
    "        model.append(Dense(dim))\n",
    "        print(dim)\n",
    "    \n",
    "        init_random_params, predict = stax.serial(\n",
    "           *model\n",
    "        )\n",
    "        return init_random_params, predict\n",
    "        \n",
    "    @staticmethod\n",
    "    def loss_for_trajectory(Xt, b_f, b_b, dt, theta, forwards = True):\n",
    "        b_minus  = b_b(theta, Xt)\n",
    "        b_plus = b_f(theta, Xt)\n",
    "        \n",
    "        delta_Xt = Xt[:-1, :]  - Xt[1:, :]\n",
    "        \n",
    "        sign = 1.0 if forwards else -1.0\n",
    "        \n",
    "        ito_integral = sign *  (b_plus[1:,:] - b_minus[:-1,:])  * delta_Xt\n",
    "        \n",
    "        time_integral = sign *  (b_plus**2 - b_minus**2) * dt # Not sure about this dt here\n",
    "        \n",
    "        return ito_integral.sum() - 0.5 * time_integral.sum()\n",
    "        \n",
    "    def data_stream(self, forward=True):\n",
    "        rng = self.nrng\n",
    "        X = self.X_0 if forward else self.X_1\n",
    "        \n",
    "        batch_size = self.batch_size_f if forward else self.batch_size_b\n",
    "        num_batches = self.num_batches_f if forward else self.num_batches_b\n",
    "        \n",
    "        num_train = self.X_0.shape[0] if forward else self.X_1.shape[0]\n",
    "        while True:\n",
    "            perm = rng.permutation(num_train)\n",
    "            for i in range(num_batches):\n",
    "                batch_idx = perm[i * batch_size:(i + 1) * batch_size]\n",
    "                yield X[batch_idx] \n",
    "\n",
    "    @jit\n",
    "    def update(self, i, opt_state, batch, forwards=True):\n",
    "        params = self.get_params(opt_state)\n",
    "        \n",
    "        loss = lambda params, batch: self.inner_loss(params, batch, forwards=forwards)\n",
    "        return self.opt_update(i, grad(loss)(self.theta, batch), opt_state)\n",
    "        \n",
    "    def sample_trajectory(self, X, theta, forwards=True):\n",
    "        \n",
    "        # backwards discretisation has a sign flip         \n",
    "        b = self.b_forward if forwards else (lambda X, t, theta: -self.b_backward(X, t, theta))\n",
    "        \n",
    "        return self.sde_solver(alfa=b, beta=self.sigma,\n",
    "                               dt=self.dt, X0=X,\n",
    "                               N=self.number_time_steps, theta=theta)\n",
    "    \n",
    "    def inner_loss(self, theta, batch, forwards=True):\n",
    "                       \n",
    "        J = 0\n",
    "        terminal_index = -1 if forwards else 0\n",
    "#         X_terminal_empirical = self.X_1 if forwards else self.X_0\n",
    "        X_terminal_empirical = next(self.data_stream(forward=not(forwards)))\n",
    "    \n",
    "        H = self.H_1 if forwards else self.H_0\n",
    "        \n",
    "        for x in batch:\n",
    "            t, Xt = self.sample_trajectory(x, theta, forwards=forwards)\n",
    "            \n",
    "            cross_entropy = log_kde_pdf_per_point(Xt[terminal_index].reshape(-1,1), X_terminal_empirical, H)\n",
    "            \n",
    "            J += self.loss_for_trajectory(Xt, self.b_forward, self.b_backward, self.dt, theta, forwards=forwards)\n",
    "            \n",
    "            J += cross_entropy\n",
    "        \n",
    "        J /= len(batch)\n",
    "        \n",
    "        return J\n",
    "               \n",
    "    def fit(self, IPFP_iterations=10, sub_iterations=10):     \n",
    "        \n",
    "        _, init_params_f = self.b_forward_init(self.rng, (-1, self.dim))                                             \n",
    "        opt_state_f = self.opt_init_f(init_params_f)\n",
    "        \n",
    "        _, init_params_b = self.b_backward_init(self.rng, (-1, self.dim))                                               \n",
    "        opt_state_b = self.opt_init_b(init_params_b)\n",
    "        \n",
    "        batches_f = self.data_stream(forwards=True)\n",
    "        batches_b = self.data_stream(forwards=False)\n",
    "        \n",
    "        for i in range(IPFP_iterations):\n",
    "                                               \n",
    "            itercount = itertools.count()\n",
    "            \n",
    "            for k in range(sub_iterations):\n",
    "                for _ in range(num_batches_b):\n",
    "                    \n",
    "                    opt_state_b = self.update(\n",
    "                        next(itercount), opt_state_b, next(batches_b), forwards=False\n",
    "                    )\n",
    "                                               \n",
    "            \n",
    "            itercount = itertools.count()\n",
    "            \n",
    "            for k in range(sub_iterations):\n",
    "                for _ in range(num_batches_f):\n",
    "                    \n",
    "                    opt_state_f = self.update(\n",
    "                        next(itercount), opt_state_f, next(batches_f), forwards=True\n",
    "                    )\n",
    "         \n",
    "\n",
    "        self.theta_f = get_params(opt_state_f)\n",
    "        self.theta_b = get_params(opt_state_b)\n",
    "            \n",
    "        "
   ]
  },
  {
   "cell_type": "code",
   "execution_count": 82,
   "metadata": {},
   "outputs": [],
   "source": [
    "X1 = npr.randn(100).reshape(-1,1) - 5\n",
    "X2 = npr.randn(100).reshape(-1,1) + 5"
   ]
  },
  {
   "cell_type": "code",
   "execution_count": 83,
   "metadata": {},
   "outputs": [
    {
     "name": "stdout",
     "output_type": "stream",
     "text": [
      "1\n",
      "1\n"
     ]
    }
   ],
   "source": [
    "c = cIPFP(X1, X2,  number_time_steps=100)"
   ]
  },
  {
   "cell_type": "code",
   "execution_count": 79,
   "metadata": {},
   "outputs": [],
   "source": [
    " _, init_params_f = c.b_forward_init(c.rng, (-1, c.dim))                                             \n",
    "opt_state_f = c.opt_init_f(init_params_f)\n",
    "\n",
    "\n",
    "theta_f = c.get_params_f(opt_state_f)\n"
   ]
  },
  {
   "cell_type": "code",
   "execution_count": 55,
   "metadata": {},
   "outputs": [
    {
     "data": {
      "text/plain": [
       "((100,), ())"
      ]
     },
     "execution_count": 55,
     "metadata": {},
     "output_type": "execute_result"
    }
   ],
   "source": [
    "theta_f[0][1].shape, theta_f[1]"
   ]
  },
  {
   "cell_type": "code",
   "execution_count": 56,
   "metadata": {},
   "outputs": [
    {
     "name": "stdout",
     "output_type": "stream",
     "text": [
      "[-4.2944856]\n"
     ]
    }
   ],
   "source": [
    "t, Xt = c.sample_trajectory(X1[0], theta_f)"
   ]
  },
  {
   "cell_type": "code",
   "execution_count": 57,
   "metadata": {},
   "outputs": [
    {
     "data": {
      "text/plain": [
       "[<matplotlib.lines.Line2D at 0x7feeed02c898>]"
      ]
     },
     "execution_count": 57,
     "metadata": {},
     "output_type": "execute_result"
    },
    {
     "data": {
      "image/png": "[encoded data removed]",
      "text/plain": [
       "<Figure size 432x288 with 1 Axes>"
      ]
     },
     "metadata": {},
     "output_type": "display_data"
    }
   ],
   "source": [
    "import matplotlib.pyplot as plt\n",
    "\n",
    "plt.plot(t, Xt.flatten())"
   ]
  },
  {
   "cell_type": "code",
   "execution_count": 58,
   "metadata": {},
   "outputs": [
    {
     "data": {
      "text/plain": [
       "0.01"
      ]
     },
     "execution_count": 58,
     "metadata": {},
     "output_type": "execute_result"
    }
   ],
   "source": [
    "c.dt"
   ]
  },
  {
   "cell_type": "code",
   "execution_count": 59,
   "metadata": {},
   "outputs": [],
   "source": [
    "loss= c.loss_for_trajectory(Xt, c.b_forward, c.b_backward, c.dt, theta_f, forwards=True)"
   ]
  },
  {
   "cell_type": "code",
   "execution_count": 60,
   "metadata": {},
   "outputs": [
    {
     "data": {
      "text/plain": [
       "DeviceArray(-0.03634034, dtype=float32)"
      ]
     },
     "execution_count": 60,
     "metadata": {},
     "output_type": "execute_result"
    }
   ],
   "source": [
    "loss"
   ]
  },
  {
   "cell_type": "code",
   "execution_count": 61,
   "metadata": {},
   "outputs": [],
   "source": [
    "cross_entropy = log_kde_pdf_per_point(Xt[-1].reshape(-1,1), X2, c.H_0)"
   ]
  },
  {
   "cell_type": "code",
   "execution_count": 62,
   "metadata": {},
   "outputs": [
    {
     "data": {
      "text/plain": [
       "DeviceArray([[-144.39993]], dtype=float32)"
      ]
     },
     "execution_count": 62,
     "metadata": {},
     "output_type": "execute_result"
    }
   ],
   "source": [
    "cross_entropy"
   ]
  },
  {
   "cell_type": "code",
   "execution_count": null,
   "metadata": {},
   "outputs": [
    {
     "name": "stdout",
     "output_type": "stream",
     "text": [
      "[-5.44733]\n",
      "[-5.8358564]\n",
      "[-4.484774]\n",
      "[-3.8231993]\n",
      "[-4.1904416]\n",
      "[-7.2343597]\n",
      "[-5.8920317]\n",
      "[-4.522273]\n",
      "[-5.727439]\n",
      "[-3.6175268]\n",
      "[-6.082919]\n",
      "[-4.8619103]\n",
      "[-5.814492]\n",
      "[-6.094874]\n",
      "[-4.914796]\n",
      "[-5.3343964]\n",
      "[-3.0341783]\n",
      "[-4.6739974]\n",
      "[-6.54415]\n",
      "[-2.8974848]\n",
      "[-4.3682365]\n",
      "[-4.3758516]\n",
      "[-7.1264205]\n",
      "[-6.3783536]\n",
      "[-4.97433]\n",
      "[-4.848971]\n",
      "[-5.7067876]\n",
      "[-6.851568]\n",
      "[-3.4588745]\n",
      "[-5.9926033]\n",
      "[-4.940061]\n",
      "[-5.2245603]\n",
      "[-5.758835]\n",
      "[-4.257615]\n",
      "[-5.736728]\n",
      "[-3.873409]\n",
      "[-4.633556]\n",
      "[-6.586147]\n",
      "[-5.715542]\n",
      "[-5.461544]\n",
      "[-6.353453]\n",
      "[-5.657418]\n",
      "[-7.029715]\n",
      "[-5.5066733]\n",
      "[-4.184784]\n",
      "[-4.9390388]\n",
      "[-4.218155]\n",
      "[-4.985027]\n",
      "[-6.1614866]\n",
      "[-3.9663236]\n",
      "[-5.62593]\n",
      "[-5.470446]\n",
      "[-5.317661]\n",
      "[-5.2173915]\n",
      "[-4.16356]\n",
      "[-4.87592]\n",
      "[-5.24543]\n",
      "[-3.7794719]\n",
      "[-5.879121]\n",
      "[-6.679446]\n",
      "[-3.75767]\n",
      "[-3.7105033]\n",
      "[-5.3191967]\n",
      "[-6.050895]\n",
      "[-6.1982627]\n",
      "[-4.1979637]\n",
      "[-4.1584835]\n",
      "[-5.855035]\n",
      "[-5.683628]\n",
      "[-4.7721167]\n",
      "[-4.3682094]\n",
      "[-3.9614594]\n",
      "[-5.0840282]\n",
      "[-4.789116]\n",
      "[-3.7127028]\n",
      "[-5.553354]\n",
      "[-5.6582074]\n",
      "[-5.5556726]\n",
      "[-4.751924]\n",
      "[-4.954287]\n",
      "[-3.5886025]\n",
      "[-4.120072]\n",
      "[-5.153863]\n",
      "[-3.792309]\n",
      "[-6.505256]\n",
      "[-4.2455597]\n",
      "[-4.689842]\n",
      "[-6.038871]\n",
      "[-4.6538973]\n",
      "[-4.6103687]\n",
      "[-3.6078756]\n",
      "[-4.1409454]\n",
      "[-5.379436]\n",
      "[-4.543708]\n",
      "[-6.55424]\n",
      "[-4.5467677]\n",
      "[-5.9875937]\n",
      "[-2.9121766]\n",
      "[-4.387259]\n"
     ]
    }
   ],
   "source": [
    "c.inner_loss(theta_f, X1)"
   ]
  },
  {
   "cell_type": "code",
   "execution_count": null,
   "metadata": {},
   "outputs": [],
   "source": []
  }
 ],
 "metadata": {
  "kernelspec": {
   "display_name": "Python 3",
   "language": "python",
   "name": "python3"
  },
  "language_info": {
   "codemirror_mode": {
    "name": "ipython",
    "version": 3
   },
   "file_extension": ".py",
   "mimetype": "text/x-python",
   "name": "python",
   "nbconvert_exporter": "python",
   "pygments_lexer": "ipython3",
   "version": "3.6.9"
  }
 },
 "nbformat": 4,
 "nbformat_minor": 2
}
