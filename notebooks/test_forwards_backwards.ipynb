{
 "cells": [
  {
   "cell_type": "code",
   "execution_count": 1,
   "metadata": {},
   "outputs": [
    {
     "name": "stderr",
     "output_type": "stream",
     "text": [
      "/auto/homes/fav25/jax/jax/lib/xla_bridge.py:116: UserWarning: No GPU/TPU found, falling back to CPU.\n",
      "  warnings.warn('No GPU/TPU found, falling back to CPU.')\n"
     ]
    }
   ],
   "source": [
    "import sys\n",
    "sys.path.append(\"/auto/homes/fav25/jax/\")\n",
    "\n",
    "import jax.numpy as np\n",
    "# import autograd.numpy\n",
    "import numpy as np\n",
    "\n",
    "from SC_IPFP.sde_solvers import solve_sde_RK\n",
    "from SC_IPFP.utils import log_kde_pdf_per_point, silvermans_rule\n",
    "\n",
    "from jax.config import config\n",
    "from jax import jit, grad, random\n",
    "from jax.experimental import optimizers\n",
    "from jax.experimental import stax\n",
    "from jax.experimental.stax import Dense, Relu, LogSoftmax\n",
    "import numpy.random as npr\n",
    "import jax\n",
    "\n",
    "import itertools\n",
    "# np = jax.numpy\n",
    "# np = autograd.numpy"
   ]
  },
  {
   "cell_type": "code",
   "execution_count": 2,
   "metadata": {},
   "outputs": [],
   "source": [
    "class cIPFP(object):\n",
    "    \n",
    "    def __init__(self, X_0, X_1, weights=[100], batch_size=None,  rng = jax.random.PRNGKey(0), \n",
    "                nrng = npr.RandomState(0), number_time_steps=16, sde_solver=solve_sde_RK, sigma_sq=1, \n",
    "                step_size = 0.001, num_epochs = 10, momentum_mass = 0.9, create_network=None):\n",
    "        \n",
    "        self.sde_solver = sde_solver\n",
    "        \n",
    "        self.number_time_steps = number_time_steps\n",
    "        self.dt = 1.0 / number_time_steps\n",
    "        \n",
    "        \n",
    "        self.batch_size_f = X_0.shape[0] if batch_size is None else batch_size\n",
    "        self.batch_size_b = X_1.shape[0] if batch_size is None else batch_size\n",
    "        \n",
    "        \n",
    "        self.X_0 = X_0\n",
    "        self.X_1 = X_1\n",
    "        \n",
    "        self.H_0 = silvermans_rule(X_0)\n",
    "        self.H_1 = silvermans_rule(X_1)\n",
    "        \n",
    "        _, self.dim = self.X_0.shape\n",
    "        \n",
    "        create_net = self.create_network if  create_network is None else create_network\n",
    "        \n",
    "        self.b_forward_init, self.b_forward = create_net(\n",
    "            self.dim, weights\n",
    "        )\n",
    "        self.b_backward_init, self.b_backward = create_net(\n",
    "            self.dim, weights\n",
    "        )\n",
    "        \n",
    "        self.sigma = lambda X,t: sigma_sq\n",
    "        \n",
    "        self.rng = rng\n",
    "        self.nrng = nrng\n",
    "        \n",
    "        self.opt_init_f, self.opt_update_f, self.get_params_f = (\n",
    "            optimizers.momentum(step_size, mass=momentum_mass)\n",
    "        )\n",
    "        \n",
    "        self.opt_init_b, self.opt_update_b, self.get_params_b = (\n",
    "            optimizers.momentum(step_size, mass=momentum_mass)\n",
    "        )\n",
    "        \n",
    "        num_complete_batches_f, leftover_f = divmod(self.X_0.shape[0], self.batch_size_f)\n",
    "        self.num_batches_f = num_complete_batches_f + bool(leftover_f)\n",
    "                                               \n",
    "        num_complete_batches_b, leftover_b = divmod(self.X_1.shape[0], self.batch_size_b)\n",
    "        self.num_batches_b = num_complete_batches_b + bool(leftover_b)\n",
    "        \n",
    "    \n",
    "    @staticmethod\n",
    "    def create_network(dim, weights):\n",
    "        \n",
    "        model  = []\n",
    "        for weight in weights:\n",
    "            model.append(\n",
    "                Dense(weight)\n",
    "            )\n",
    "                        \n",
    "            model.append(\n",
    "                Relu\n",
    "            )\n",
    "            \n",
    "        \n",
    "        model.append(Dense(dim))\n",
    "        print(dim)\n",
    "    \n",
    "        init_random_params, predict = stax.serial(\n",
    "           *model\n",
    "        )\n",
    "        return init_random_params, predict\n",
    "        \n",
    "    @staticmethod\n",
    "    def loss_for_trajectory(Xt, b_f, b_b, dt, theta, forwards = True):\n",
    "        b_minus  = b_b(theta, Xt)\n",
    "        b_plus = b_f(theta, Xt)\n",
    "        \n",
    "        delta_Xt = Xt[:-1, :]  - Xt[1:, :]\n",
    "        \n",
    "        sign = 1.0 if forwards else -1.0\n",
    "        \n",
    "        ito_integral = sign *  (b_plus[1:,:] - b_minus[:-1,:])  * delta_Xt\n",
    "        \n",
    "        time_integral = sign *  (b_plus**2 - b_minus**2) * dt # Not sure about this dt here\n",
    "        \n",
    "        return ito_integral.sum() - 0.5 * time_integral.sum()\n",
    "        \n",
    "    def data_stream(self, forward=True):\n",
    "        rng = self.nrng\n",
    "        X = self.X_0 if forward else self.X_1\n",
    "        \n",
    "        batch_size = self.batch_size_f if forward else self.batch_size_b\n",
    "        num_batches = self.num_batches_f if forward else self.num_batches_b\n",
    "        \n",
    "        num_train = self.X_0.shape[0] if forward else self.X_1.shape[0]\n",
    "        while True:\n",
    "            perm = rng.permutation(num_train)\n",
    "            for i in range(num_batches):\n",
    "                batch_idx = perm[i * batch_size:(i + 1) * batch_size]\n",
    "                yield X[batch_idx] \n",
    "\n",
    "#     @jit\n",
    "    def update(self, i, opt_state, batch, forwards=True):\n",
    "#         import pdb; pdb.set_trace()\n",
    "\n",
    "        get_params = self.get_params_f if forwards else self.get_params_b\n",
    "        params = get_params(opt_state)\n",
    "        \n",
    "        loss = lambda params, batch: np.squeeze(self.inner_loss(params, batch, forwards=forwards))\n",
    "#         import pdb; pdb.set_trace()\n",
    "        gradient = grad(loss)(params, batch)\n",
    "    \n",
    "        opt_update  = self.opt_update_f if forwards else self.opt_update_b\n",
    "        return opt_update(i, gradient, opt_state)\n",
    "        \n",
    "    def sample_trajectory(self, X, theta, forwards=True):\n",
    "        \n",
    "        # backwards discretisation has a sign flip         \n",
    "        b = self.b_forward if forwards else (lambda X, theta: -self.b_backward(X, theta))\n",
    "        \n",
    "        return self.sde_solver(alfa=b, beta=self.sigma,\n",
    "                               dt=self.dt, X0=X,\n",
    "                               N=self.number_time_steps, theta=theta)\n",
    "    \n",
    "    def inner_loss(self, theta, batch, forwards=True):\n",
    "                       \n",
    "        J = 0\n",
    "        terminal_index = -1 if forwards else 0\n",
    "#         X_terminal_empirical = self.X_1 if forwards else self.X_0\n",
    "        X_terminal_empirical = next(self.data_stream(forward=not(forwards)))\n",
    "    \n",
    "        H = self.H_1 if forwards else self.H_0\n",
    "        \n",
    "        for x in batch:\n",
    "            t, Xt = self.sample_trajectory(x, theta, forwards=forwards)\n",
    "            \n",
    "            cross_entropy = log_kde_pdf_per_point(Xt[terminal_index].reshape(-1,1), X_terminal_empirical, H)\n",
    "            \n",
    "            J += self.loss_for_trajectory(Xt, self.b_forward, self.b_backward, self.dt, theta, forwards=forwards)\n",
    "            \n",
    "            J += cross_entropy\n",
    "        \n",
    "        J /= len(batch)\n",
    "        \n",
    "        return J\n",
    "               \n",
    "    def fit(self, IPFP_iterations=10, sub_iterations=10):     \n",
    "        \n",
    "        _, init_params_f = self.b_forward_init(self.rng, (-1, self.dim))                                             \n",
    "        opt_state_f = self.opt_init_f(init_params_f)\n",
    "        \n",
    "        _, init_params_b = self.b_backward_init(self.rng, (-1, self.dim))                                               \n",
    "        opt_state_b = self.opt_init_b(init_params_b)\n",
    "        \n",
    "        batches_f = self.data_stream(forward=True)\n",
    "        batches_b = self.data_stream(forward=False)\n",
    "        \n",
    "        for i in range(IPFP_iterations):\n",
    "                                               \n",
    "            itercount = itertools.count()\n",
    "            \n",
    "            for k in range(sub_iterations):\n",
    "                for _ in range(self.num_batches_b):\n",
    "#                     print(next(itercount), opt_state_b, next(batches_b))\n",
    "                    opt_state_b = self.update(\n",
    "                        next(itercount), opt_state_b, next(batches_b), forwards=False\n",
    "                    )\n",
    "                                               \n",
    "            \n",
    "            itercount = itertools.count()\n",
    "            \n",
    "            for k in range(sub_iterations):\n",
    "                for _ in range(self.num_batches_f):\n",
    "                    \n",
    "                    opt_state_f = self.update(\n",
    "                        next(itercount), opt_state_f, next(batches_f), forwards=True\n",
    "                    )\n",
    "         \n",
    "\n",
    "        self.theta_f = self.get_params_f(opt_state_f)\n",
    "        self.theta_b = self.get_params_b(opt_state_b)\n",
    "            \n",
    "        "
   ]
  },
  {
   "cell_type": "code",
   "execution_count": 3,
   "metadata": {},
   "outputs": [],
   "source": [
    "X1 = npr.randn(100).reshape(-1,1) - 5\n",
    "X2 = npr.randn(100).reshape(-1,1) + 5"
   ]
  },
  {
   "cell_type": "code",
   "execution_count": 4,
   "metadata": {},
   "outputs": [
    {
     "name": "stdout",
     "output_type": "stream",
     "text": [
      "1\n",
      "1\n"
     ]
    }
   ],
   "source": [
    "c = cIPFP(X1, X2,  number_time_steps=100)"
   ]
  },
  {
   "cell_type": "code",
   "execution_count": 5,
   "metadata": {},
   "outputs": [],
   "source": [
    " _, init_params_f = c.b_forward_init(c.rng, (-1, c.dim))                                             \n",
    "opt_state_f = c.opt_init_f(init_params_f)\n",
    "\n",
    "\n",
    "theta_f = c.get_params_f(opt_state_f)\n"
   ]
  },
  {
   "cell_type": "code",
   "execution_count": 6,
   "metadata": {},
   "outputs": [
    {
     "data": {
      "text/plain": [
       "((100,), ())"
      ]
     },
     "execution_count": 6,
     "metadata": {},
     "output_type": "execute_result"
    }
   ],
   "source": [
    "theta_f[0][1].shape, theta_f[1]"
   ]
  },
  {
   "cell_type": "code",
   "execution_count": 7,
   "metadata": {},
   "outputs": [
    {
     "ename": "TypeError",
     "evalue": "Argument '<function serial.<locals>.apply_fun at 0x7fcd0409b400>' of type <class 'function'> is not a valid JAX type",
     "output_type": "error",
     "traceback": [
      "\u001b[0;31m---------------------------------------------------------------------------\u001b[0m",
      "\u001b[0;31mTypeError\u001b[0m                                 Traceback (most recent call last)",
      "\u001b[0;32m<ipython-input-7-99f9af43964b>\u001b[0m in \u001b[0;36m<module>\u001b[0;34m()\u001b[0m\n\u001b[0;32m----> 1\u001b[0;31m \u001b[0mt\u001b[0m\u001b[0;34m,\u001b[0m \u001b[0mXt\u001b[0m \u001b[0;34m=\u001b[0m \u001b[0mc\u001b[0m\u001b[0;34m.\u001b[0m\u001b[0msample_trajectory\u001b[0m\u001b[0;34m(\u001b[0m\u001b[0mX1\u001b[0m\u001b[0;34m[\u001b[0m\u001b[0;36m0\u001b[0m\u001b[0;34m]\u001b[0m\u001b[0;34m,\u001b[0m \u001b[0mtheta_f\u001b[0m\u001b[0;34m)\u001b[0m\u001b[0;34m\u001b[0m\u001b[0;34m\u001b[0m\u001b[0m\n\u001b[0m",
      "\u001b[0;32m<ipython-input-2-7501747c6896>\u001b[0m in \u001b[0;36msample_trajectory\u001b[0;34m(self, X, theta, forwards)\u001b[0m\n\u001b[1;32m    124\u001b[0m         return self.sde_solver(alfa=b, beta=self.sigma,\n\u001b[1;32m    125\u001b[0m                                \u001b[0mdt\u001b[0m\u001b[0;34m=\u001b[0m\u001b[0mself\u001b[0m\u001b[0;34m.\u001b[0m\u001b[0mdt\u001b[0m\u001b[0;34m,\u001b[0m \u001b[0mX0\u001b[0m\u001b[0;34m=\u001b[0m\u001b[0mX\u001b[0m\u001b[0;34m,\u001b[0m\u001b[0;34m\u001b[0m\u001b[0;34m\u001b[0m\u001b[0m\n\u001b[0;32m--> 126\u001b[0;31m                                N=self.number_time_steps, theta=theta)\n\u001b[0m\u001b[1;32m    127\u001b[0m \u001b[0;34m\u001b[0m\u001b[0m\n\u001b[1;32m    128\u001b[0m     \u001b[0;32mdef\u001b[0m \u001b[0minner_loss\u001b[0m\u001b[0;34m(\u001b[0m\u001b[0mself\u001b[0m\u001b[0;34m,\u001b[0m \u001b[0mtheta\u001b[0m\u001b[0;34m,\u001b[0m \u001b[0mbatch\u001b[0m\u001b[0;34m,\u001b[0m \u001b[0mforwards\u001b[0m\u001b[0;34m=\u001b[0m\u001b[0;32mTrue\u001b[0m\u001b[0;34m)\u001b[0m\u001b[0;34m:\u001b[0m\u001b[0;34m\u001b[0m\u001b[0;34m\u001b[0m\u001b[0m\n",
      "\u001b[0;32m/auto/homes/fav25/jax/jax/api.py\u001b[0m in \u001b[0;36mf_jitted\u001b[0;34m(*args, **kwargs)\u001b[0m\n\u001b[1;32m    149\u001b[0m       \u001b[0mdyn_args\u001b[0m \u001b[0;34m=\u001b[0m \u001b[0margs\u001b[0m\u001b[0;34m\u001b[0m\u001b[0;34m\u001b[0m\u001b[0m\n\u001b[1;32m    150\u001b[0m     \u001b[0margs_flat\u001b[0m\u001b[0;34m,\u001b[0m \u001b[0min_tree\u001b[0m \u001b[0;34m=\u001b[0m \u001b[0mtree_flatten\u001b[0m\u001b[0;34m(\u001b[0m\u001b[0;34m(\u001b[0m\u001b[0mdyn_args\u001b[0m\u001b[0;34m,\u001b[0m \u001b[0mkwargs\u001b[0m\u001b[0;34m)\u001b[0m\u001b[0;34m)\u001b[0m\u001b[0;34m\u001b[0m\u001b[0;34m\u001b[0m\u001b[0m\n\u001b[0;32m--> 151\u001b[0;31m     \u001b[0m_check_args\u001b[0m\u001b[0;34m(\u001b[0m\u001b[0margs_flat\u001b[0m\u001b[0;34m)\u001b[0m\u001b[0;34m\u001b[0m\u001b[0;34m\u001b[0m\u001b[0m\n\u001b[0m\u001b[1;32m    152\u001b[0m     \u001b[0mflat_fun\u001b[0m\u001b[0;34m,\u001b[0m \u001b[0mout_tree\u001b[0m \u001b[0;34m=\u001b[0m \u001b[0mflatten_fun\u001b[0m\u001b[0;34m(\u001b[0m\u001b[0mf\u001b[0m\u001b[0;34m,\u001b[0m \u001b[0min_tree\u001b[0m\u001b[0;34m)\u001b[0m\u001b[0;34m\u001b[0m\u001b[0;34m\u001b[0m\u001b[0m\n\u001b[1;32m    153\u001b[0m     out = xla.xla_call(flat_fun, *args_flat, device=device, backend=backend,\n",
      "\u001b[0;32m/auto/homes/fav25/jax/jax/api.py\u001b[0m in \u001b[0;36m_check_args\u001b[0;34m(args)\u001b[0m\n\u001b[1;32m   1573\u001b[0m     \u001b[0;32mif\u001b[0m \u001b[0;32mnot\u001b[0m \u001b[0;34m(\u001b[0m\u001b[0misinstance\u001b[0m\u001b[0;34m(\u001b[0m\u001b[0marg\u001b[0m\u001b[0;34m,\u001b[0m \u001b[0mcore\u001b[0m\u001b[0;34m.\u001b[0m\u001b[0mTracer\u001b[0m\u001b[0;34m)\u001b[0m \u001b[0;32mor\u001b[0m \u001b[0m_valid_jaxtype\u001b[0m\u001b[0;34m(\u001b[0m\u001b[0marg\u001b[0m\u001b[0;34m)\u001b[0m\u001b[0;34m)\u001b[0m\u001b[0;34m:\u001b[0m\u001b[0;34m\u001b[0m\u001b[0;34m\u001b[0m\u001b[0m\n\u001b[1;32m   1574\u001b[0m       raise TypeError(\"Argument '{}' of type {} is not a valid JAX type\"\n\u001b[0;32m-> 1575\u001b[0;31m                       .format(arg, type(arg)))\n\u001b[0m\u001b[1;32m   1576\u001b[0m \u001b[0;34m\u001b[0m\u001b[0m\n\u001b[1;32m   1577\u001b[0m \u001b[0;32mdef\u001b[0m \u001b[0m_valid_jaxtype\u001b[0m\u001b[0;34m(\u001b[0m\u001b[0marg\u001b[0m\u001b[0;34m)\u001b[0m\u001b[0;34m:\u001b[0m\u001b[0;34m\u001b[0m\u001b[0;34m\u001b[0m\u001b[0m\n",
      "\u001b[0;31mTypeError\u001b[0m: Argument '<function serial.<locals>.apply_fun at 0x7fcd0409b400>' of type <class 'function'> is not a valid JAX type"
     ]
    }
   ],
   "source": [
    "t, Xt = c.sample_trajectory(X1[0], theta_f)"
   ]
  },
  {
   "cell_type": "code",
   "execution_count": null,
   "metadata": {},
   "outputs": [],
   "source": [
    "import matplotlib.pyplot as plt\n",
    "\n",
    "plt.plot(t, Xt.flatten())"
   ]
  },
  {
   "cell_type": "code",
   "execution_count": null,
   "metadata": {},
   "outputs": [],
   "source": [
    "c.dt"
   ]
  },
  {
   "cell_type": "code",
   "execution_count": null,
   "metadata": {},
   "outputs": [],
   "source": [
    "loss= c.loss_for_trajectory(Xt, c.b_forward, c.b_backward, c.dt, theta_f, forwards=True)"
   ]
  },
  {
   "cell_type": "code",
   "execution_count": null,
   "metadata": {},
   "outputs": [],
   "source": [
    "loss"
   ]
  },
  {
   "cell_type": "code",
   "execution_count": null,
   "metadata": {},
   "outputs": [],
   "source": [
    "cross_entropy = log_kde_pdf_per_point(Xt[-1].reshape(-1,1), X2, c.H_0)"
   ]
  },
  {
   "cell_type": "code",
   "execution_count": null,
   "metadata": {},
   "outputs": [],
   "source": [
    "cross_entropy"
   ]
  },
  {
   "cell_type": "code",
   "execution_count": null,
   "metadata": {},
   "outputs": [],
   "source": [
    "c.inner_loss(theta_f, X1)"
   ]
  },
  {
   "cell_type": "code",
   "execution_count": null,
   "metadata": {},
   "outputs": [],
   "source": [
    "c.fit(1,1)"
   ]
  },
  {
   "cell_type": "code",
   "execution_count": null,
   "metadata": {},
   "outputs": [],
   "source": []
  }
 ],
 "metadata": {
  "kernelspec": {
   "display_name": "Python 3",
   "language": "python",
   "name": "python3"
  },
  "language_info": {
   "codemirror_mode": {
    "name": "ipython",
    "version": 3
   },
   "file_extension": ".py",
   "mimetype": "text/x-python",
   "name": "python",
   "nbconvert_exporter": "python",
   "pygments_lexer": "ipython3",
   "version": "3.6.9"
  }
 },
 "nbformat": 4,
 "nbformat_minor": 2
}
